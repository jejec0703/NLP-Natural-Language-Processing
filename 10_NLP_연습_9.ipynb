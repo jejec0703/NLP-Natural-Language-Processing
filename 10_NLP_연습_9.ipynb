{
  "nbformat": 4,
  "nbformat_minor": 0,
  "metadata": {
    "colab": {
      "name": "10. NLP_연습 9",
      "provenance": [],
      "collapsed_sections": [],
      "include_colab_link": true
    },
    "kernelspec": {
      "name": "python3",
      "display_name": "Python 3"
    },
    "accelerator": "GPU"
  },
  "cells": [
    {
      "cell_type": "markdown",
      "metadata": {
        "id": "view-in-github",
        "colab_type": "text"
      },
      "source": [
        "<a href=\"https://colab.research.google.com/github/jejec0703/NLP-Natural-Language-Processing/blob/master/10_NLP_%EC%97%B0%EC%8A%B5_9.ipynb\" target=\"_parent\"><img src=\"https://colab.research.google.com/assets/colab-badge.svg\" alt=\"Open In Colab\"/></a>"
      ]
    },
    {
      "cell_type": "code",
      "metadata": {
        "id": "BOwsuGQQY9OL",
        "colab_type": "code",
        "colab": {}
      },
      "source": [
        "from tensorflow.keras.preprocessing.sequence import pad_sequences\n",
        "from tensorflow.keras.layers import Embedding, LSTM, Dense, Dropout, Bidirectional\n",
        "from tensorflow.keras.preprocessing.text import Tokenizer\n",
        "from tensorflow.keras.models import Sequential\n",
        "from tensorflow.keras.optimizers import Adam\n",
        "from tensorflow.keras import regularizers\n",
        "import tensorflow.keras.utils as ku \n",
        "import numpy as np "
      ],
      "execution_count": null,
      "outputs": []
    },
    {
      "cell_type": "code",
      "metadata": {
        "colab_type": "code",
        "id": "PRnDnCW-Z7qv",
        "colab": {
          "base_uri": "https://localhost:8080/",
          "height": 235
        },
        "outputId": "ffcbfd57-dc55-4727-b785-f685acb40615"
      },
      "source": [
        "tokenizer = Tokenizer()\n",
        "!wget --no-check-certificate \\\n",
        "    https://storage.googleapis.com/laurencemoroney-blog.appspot.com/sonnets.txt \\\n",
        "    -O /tmp/sonnets.txt\n",
        "data = open('/tmp/sonnets.txt').read()\n",
        "\n",
        "corpus = data.lower().split(\"\\n\")"
      ],
      "execution_count": null,
      "outputs": [
        {
          "output_type": "stream",
          "text": [
            "--2020-08-13 01:12:05--  https://storage.googleapis.com/laurencemoroney-blog.appspot.com/sonnets.txt\n",
            "Resolving storage.googleapis.com (storage.googleapis.com)... 74.125.26.128, 172.217.204.128, 172.217.203.128, ...\n",
            "Connecting to storage.googleapis.com (storage.googleapis.com)|74.125.26.128|:443... connected.\n",
            "HTTP request sent, awaiting response... 200 OK\n",
            "Length: 93578 (91K) [text/plain]\n",
            "Saving to: ‘/tmp/sonnets.txt’\n",
            "\n",
            "\r/tmp/sonnets.txt      0%[                    ]       0  --.-KB/s               \r/tmp/sonnets.txt    100%[===================>]  91.38K  --.-KB/s    in 0.001s  \n",
            "\n",
            "2020-08-13 01:12:05 (82.9 MB/s) - ‘/tmp/sonnets.txt’ saved [93578/93578]\n",
            "\n"
          ],
          "name": "stdout"
        }
      ]
    },
    {
      "cell_type": "code",
      "metadata": {
        "id": "L9Oqvoo8YkGy",
        "colab_type": "code",
        "colab": {}
      },
      "source": [
        "tokenizer = Tokenizer()\n",
        "tokenizer.fit_on_texts(corpus)\n",
        "total_words = len(tokenizer.word_index) + 1\n",
        "\n",
        "input_sequences = []\n",
        "for line in corpus:\n",
        "  token_list = tokenizer.texts_to_sequences([line])[0]\n",
        "  for i in range(1, len(token_list)):\n",
        "    n_gram_sequence = token_list[:i+1]\n",
        "    input_sequences.append(n_gram_sequence)\n",
        "\n",
        "max_sequence_len = max([len(x) for x in input_sequences])\n",
        "input_sequences = np.array(pad_sequences(input_sequences, maxlen = max_sequence_len))"
      ],
      "execution_count": null,
      "outputs": []
    },
    {
      "cell_type": "code",
      "metadata": {
        "id": "65qiek7tZg7r",
        "colab_type": "code",
        "colab": {}
      },
      "source": [
        "xs, label = input_sequences[:, :-1], input_sequences[:, -1]\n",
        "label = ku.to_categorical(label, num_classes = total_words)"
      ],
      "execution_count": null,
      "outputs": []
    },
    {
      "cell_type": "code",
      "metadata": {
        "id": "Jj2WEI96Z7rB",
        "colab_type": "code",
        "colab": {
          "base_uri": "https://localhost:8080/",
          "height": 35
        },
        "outputId": "86219357-2163-4427-d693-270c8c66d834"
      },
      "source": [
        "max_sequence_len"
      ],
      "execution_count": null,
      "outputs": [
        {
          "output_type": "execute_result",
          "data": {
            "text/plain": [
              "11"
            ]
          },
          "metadata": {
            "tags": []
          },
          "execution_count": 8
        }
      ]
    },
    {
      "cell_type": "code",
      "metadata": {
        "id": "bTmBH_UMaEUH",
        "colab_type": "code",
        "colab": {
          "base_uri": "https://localhost:8080/",
          "height": 377
        },
        "outputId": "de9973c6-ec35-4b16-b2dc-d7159837a9df"
      },
      "source": [
        "model = Sequential()\n",
        "\n",
        "model.add(Embedding(total_words, 100, input_length = max_sequence_len-1))\n",
        "model.add(Bidirectional(LSTM(150, return_sequences=True)))\n",
        "model.add(Dropout(0.2))\n",
        "model.add(LSTM(100))\n",
        "model.add(Dense(total_words/2, activation = 'relu', kernel_regularizer=regularizers.l2(0.01)))\n",
        "model.add(Dense(total_words, activation = 'softmax'))\n",
        "\n",
        "model.compile(loss = 'categorical_crossentropy',\n",
        "              optimizer='adam',\n",
        "              metrics=['accuracy'])\n",
        "\n",
        "model.summary()"
      ],
      "execution_count": null,
      "outputs": [
        {
          "output_type": "stream",
          "text": [
            "Model: \"sequential_1\"\n",
            "_________________________________________________________________\n",
            "Layer (type)                 Output Shape              Param #   \n",
            "=================================================================\n",
            "embedding (Embedding)        (None, 10, 100)           321100    \n",
            "_________________________________________________________________\n",
            "bidirectional (Bidirectional (None, 10, 300)           301200    \n",
            "_________________________________________________________________\n",
            "dropout (Dropout)            (None, 10, 300)           0         \n",
            "_________________________________________________________________\n",
            "lstm_1 (LSTM)                (None, 100)               160400    \n",
            "_________________________________________________________________\n",
            "dense (Dense)                (None, 1605)              162105    \n",
            "_________________________________________________________________\n",
            "dense_1 (Dense)              (None, 3211)              5156866   \n",
            "=================================================================\n",
            "Total params: 6,101,671\n",
            "Trainable params: 6,101,671\n",
            "Non-trainable params: 0\n",
            "_________________________________________________________________\n"
          ],
          "name": "stdout"
        }
      ]
    },
    {
      "cell_type": "code",
      "metadata": {
        "id": "2b7s2D6Wb91e",
        "colab_type": "code",
        "colab": {
          "base_uri": "https://localhost:8080/",
          "height": 1000
        },
        "outputId": "49a009c8-e536-40d0-ab46-1dd23cdb60fe"
      },
      "source": [
        "history = model.fit(xs, label, epochs=100, verbose=1)"
      ],
      "execution_count": null,
      "outputs": [
        {
          "output_type": "stream",
          "text": [
            "Epoch 1/100\n",
            "484/484 [==============================] - 12s 26ms/step - loss: 1.1132 - accuracy: 0.8027\n",
            "Epoch 2/100\n",
            "484/484 [==============================] - 12s 26ms/step - loss: 1.1031 - accuracy: 0.8039\n",
            "Epoch 3/100\n",
            "484/484 [==============================] - 12s 26ms/step - loss: 1.0972 - accuracy: 0.8042\n",
            "Epoch 4/100\n",
            "484/484 [==============================] - 12s 26ms/step - loss: 1.0723 - accuracy: 0.8095\n",
            "Epoch 5/100\n",
            "484/484 [==============================] - 12s 26ms/step - loss: 1.0691 - accuracy: 0.8115\n",
            "Epoch 6/100\n",
            "484/484 [==============================] - 12s 26ms/step - loss: 1.0679 - accuracy: 0.8093\n",
            "Epoch 7/100\n",
            "484/484 [==============================] - 12s 26ms/step - loss: 1.0610 - accuracy: 0.8103\n",
            "Epoch 8/100\n",
            "484/484 [==============================] - 13s 26ms/step - loss: 1.0671 - accuracy: 0.8081\n",
            "Epoch 9/100\n",
            "484/484 [==============================] - 13s 27ms/step - loss: 1.0572 - accuracy: 0.8096\n",
            "Epoch 10/100\n",
            "484/484 [==============================] - 12s 26ms/step - loss: 1.0438 - accuracy: 0.8127\n",
            "Epoch 11/100\n",
            "484/484 [==============================] - 13s 26ms/step - loss: 1.0424 - accuracy: 0.8121\n",
            "Epoch 12/100\n",
            "484/484 [==============================] - 13s 26ms/step - loss: 1.0320 - accuracy: 0.8137\n",
            "Epoch 13/100\n",
            "484/484 [==============================] - 13s 26ms/step - loss: 1.0284 - accuracy: 0.8125\n",
            "Epoch 14/100\n",
            "484/484 [==============================] - 13s 26ms/step - loss: 1.0371 - accuracy: 0.8144\n",
            "Epoch 15/100\n",
            "484/484 [==============================] - 13s 26ms/step - loss: 1.0266 - accuracy: 0.8163\n",
            "Epoch 16/100\n",
            "484/484 [==============================] - 13s 26ms/step - loss: 1.0173 - accuracy: 0.8185\n",
            "Epoch 17/100\n",
            "484/484 [==============================] - 13s 26ms/step - loss: 1.0123 - accuracy: 0.8152\n",
            "Epoch 18/100\n",
            "484/484 [==============================] - 12s 26ms/step - loss: 1.0019 - accuracy: 0.8199\n",
            "Epoch 19/100\n",
            "484/484 [==============================] - 12s 26ms/step - loss: 0.9949 - accuracy: 0.8205\n",
            "Epoch 20/100\n",
            "484/484 [==============================] - 12s 26ms/step - loss: 0.9885 - accuracy: 0.8212\n",
            "Epoch 21/100\n",
            "484/484 [==============================] - 12s 26ms/step - loss: 0.9874 - accuracy: 0.8207\n",
            "Epoch 22/100\n",
            "484/484 [==============================] - 13s 26ms/step - loss: 0.9824 - accuracy: 0.8192\n",
            "Epoch 23/100\n",
            "484/484 [==============================] - 12s 26ms/step - loss: 0.9741 - accuracy: 0.8214\n",
            "Epoch 24/100\n",
            "484/484 [==============================] - 12s 26ms/step - loss: 0.9903 - accuracy: 0.8172\n",
            "Epoch 25/100\n",
            "484/484 [==============================] - 12s 26ms/step - loss: 0.9766 - accuracy: 0.8205\n",
            "Epoch 26/100\n",
            "484/484 [==============================] - 13s 26ms/step - loss: 0.9672 - accuracy: 0.8225\n",
            "Epoch 27/100\n",
            "484/484 [==============================] - 13s 26ms/step - loss: 0.9558 - accuracy: 0.8247\n",
            "Epoch 28/100\n",
            "484/484 [==============================] - 13s 26ms/step - loss: 0.9504 - accuracy: 0.8251\n",
            "Epoch 29/100\n",
            "484/484 [==============================] - 13s 26ms/step - loss: 0.9522 - accuracy: 0.8256\n",
            "Epoch 30/100\n",
            "484/484 [==============================] - 13s 26ms/step - loss: 0.9531 - accuracy: 0.8251\n",
            "Epoch 31/100\n",
            "484/484 [==============================] - 12s 26ms/step - loss: 0.9407 - accuracy: 0.8257\n",
            "Epoch 32/100\n",
            "484/484 [==============================] - 12s 26ms/step - loss: 0.9406 - accuracy: 0.8260\n",
            "Epoch 33/100\n",
            "484/484 [==============================] - 12s 26ms/step - loss: 0.9402 - accuracy: 0.8265\n",
            "Epoch 34/100\n",
            "484/484 [==============================] - 13s 26ms/step - loss: 0.9494 - accuracy: 0.8217\n",
            "Epoch 35/100\n",
            "484/484 [==============================] - 12s 26ms/step - loss: 0.9181 - accuracy: 0.8313\n",
            "Epoch 36/100\n",
            "484/484 [==============================] - 12s 26ms/step - loss: 0.9151 - accuracy: 0.8282\n",
            "Epoch 37/100\n",
            "484/484 [==============================] - 13s 26ms/step - loss: 0.9112 - accuracy: 0.8302\n",
            "Epoch 38/100\n",
            "484/484 [==============================] - 12s 26ms/step - loss: 0.9126 - accuracy: 0.8298\n",
            "Epoch 39/100\n",
            "484/484 [==============================] - 12s 26ms/step - loss: 0.9173 - accuracy: 0.8274\n",
            "Epoch 40/100\n",
            "484/484 [==============================] - 13s 26ms/step - loss: 0.9117 - accuracy: 0.8283\n",
            "Epoch 41/100\n",
            "484/484 [==============================] - 12s 26ms/step - loss: 0.9152 - accuracy: 0.8278\n",
            "Epoch 42/100\n",
            "484/484 [==============================] - 13s 26ms/step - loss: 0.9175 - accuracy: 0.8237\n",
            "Epoch 43/100\n",
            "484/484 [==============================] - 12s 26ms/step - loss: 0.9250 - accuracy: 0.8242\n",
            "Epoch 44/100\n",
            "484/484 [==============================] - 12s 26ms/step - loss: 0.9017 - accuracy: 0.8307\n",
            "Epoch 45/100\n",
            "484/484 [==============================] - 12s 26ms/step - loss: 0.8918 - accuracy: 0.8295\n",
            "Epoch 46/100\n",
            "484/484 [==============================] - 12s 26ms/step - loss: 0.8986 - accuracy: 0.8282\n",
            "Epoch 47/100\n",
            "484/484 [==============================] - 12s 26ms/step - loss: 0.8847 - accuracy: 0.8319\n",
            "Epoch 48/100\n",
            "484/484 [==============================] - 12s 26ms/step - loss: 0.8870 - accuracy: 0.8309\n",
            "Epoch 49/100\n",
            "484/484 [==============================] - 12s 26ms/step - loss: 0.8798 - accuracy: 0.8317\n",
            "Epoch 50/100\n",
            "484/484 [==============================] - 12s 26ms/step - loss: 0.8991 - accuracy: 0.8271\n",
            "Epoch 51/100\n",
            "484/484 [==============================] - 13s 26ms/step - loss: 0.8921 - accuracy: 0.8285\n",
            "Epoch 52/100\n",
            "484/484 [==============================] - 12s 26ms/step - loss: 0.8886 - accuracy: 0.8298\n",
            "Epoch 53/100\n",
            "484/484 [==============================] - 12s 26ms/step - loss: 0.8918 - accuracy: 0.8258\n",
            "Epoch 54/100\n",
            "484/484 [==============================] - 13s 26ms/step - loss: 0.8687 - accuracy: 0.8333\n",
            "Epoch 55/100\n",
            "484/484 [==============================] - 12s 26ms/step - loss: 0.8681 - accuracy: 0.8310\n",
            "Epoch 56/100\n",
            "484/484 [==============================] - 12s 26ms/step - loss: 0.8715 - accuracy: 0.8298\n",
            "Epoch 57/100\n",
            "484/484 [==============================] - 12s 26ms/step - loss: 0.8696 - accuracy: 0.8321\n",
            "Epoch 58/100\n",
            "484/484 [==============================] - 13s 26ms/step - loss: 0.8650 - accuracy: 0.8330\n",
            "Epoch 59/100\n",
            "484/484 [==============================] - 13s 26ms/step - loss: 0.8627 - accuracy: 0.8328\n",
            "Epoch 60/100\n",
            "484/484 [==============================] - 12s 26ms/step - loss: 0.8643 - accuracy: 0.8330\n",
            "Epoch 61/100\n",
            "484/484 [==============================] - 13s 26ms/step - loss: 0.8592 - accuracy: 0.8321\n",
            "Epoch 62/100\n",
            "484/484 [==============================] - 12s 26ms/step - loss: 0.8556 - accuracy: 0.8328\n",
            "Epoch 63/100\n",
            "484/484 [==============================] - 12s 26ms/step - loss: 0.8445 - accuracy: 0.8364\n",
            "Epoch 64/100\n",
            "484/484 [==============================] - 12s 26ms/step - loss: 0.8578 - accuracy: 0.8316\n",
            "Epoch 65/100\n",
            "484/484 [==============================] - 12s 26ms/step - loss: 0.8532 - accuracy: 0.8340\n",
            "Epoch 66/100\n",
            "484/484 [==============================] - 12s 26ms/step - loss: 0.8443 - accuracy: 0.8357\n",
            "Epoch 67/100\n",
            "484/484 [==============================] - 12s 25ms/step - loss: 0.8517 - accuracy: 0.8331\n",
            "Epoch 68/100\n",
            "484/484 [==============================] - 12s 26ms/step - loss: 0.8500 - accuracy: 0.8339\n",
            "Epoch 69/100\n",
            "484/484 [==============================] - 12s 26ms/step - loss: 0.8506 - accuracy: 0.8330\n",
            "Epoch 70/100\n",
            "484/484 [==============================] - 12s 26ms/step - loss: 0.8340 - accuracy: 0.8384\n",
            "Epoch 71/100\n",
            "484/484 [==============================] - 12s 26ms/step - loss: 0.8361 - accuracy: 0.8342\n",
            "Epoch 72/100\n",
            "484/484 [==============================] - 12s 26ms/step - loss: 0.8330 - accuracy: 0.8359\n",
            "Epoch 73/100\n",
            "484/484 [==============================] - 12s 26ms/step - loss: 0.8392 - accuracy: 0.8347\n",
            "Epoch 74/100\n",
            "484/484 [==============================] - 12s 26ms/step - loss: 0.8433 - accuracy: 0.8313\n",
            "Epoch 75/100\n",
            "484/484 [==============================] - 12s 26ms/step - loss: 0.8263 - accuracy: 0.8364\n",
            "Epoch 76/100\n",
            "484/484 [==============================] - 12s 26ms/step - loss: 0.8262 - accuracy: 0.8365\n",
            "Epoch 77/100\n",
            "484/484 [==============================] - 12s 26ms/step - loss: 0.8299 - accuracy: 0.8354\n",
            "Epoch 78/100\n",
            "484/484 [==============================] - 12s 25ms/step - loss: 0.8255 - accuracy: 0.8360\n",
            "Epoch 79/100\n",
            "484/484 [==============================] - 12s 26ms/step - loss: 0.8415 - accuracy: 0.8320\n",
            "Epoch 80/100\n",
            "484/484 [==============================] - 12s 25ms/step - loss: 0.8278 - accuracy: 0.8342\n",
            "Epoch 81/100\n",
            "484/484 [==============================] - 12s 25ms/step - loss: 0.8288 - accuracy: 0.8345\n",
            "Epoch 82/100\n",
            "484/484 [==============================] - 12s 25ms/step - loss: 0.8302 - accuracy: 0.8337\n",
            "Epoch 83/100\n",
            "484/484 [==============================] - 12s 26ms/step - loss: 0.8257 - accuracy: 0.8337\n",
            "Epoch 84/100\n",
            "484/484 [==============================] - 12s 26ms/step - loss: 0.8190 - accuracy: 0.8348\n",
            "Epoch 85/100\n",
            "484/484 [==============================] - 12s 25ms/step - loss: 0.8128 - accuracy: 0.8374\n",
            "Epoch 86/100\n",
            "484/484 [==============================] - 12s 26ms/step - loss: 0.8113 - accuracy: 0.8364\n",
            "Epoch 87/100\n",
            "484/484 [==============================] - 12s 25ms/step - loss: 0.8144 - accuracy: 0.8373\n",
            "Epoch 88/100\n",
            "484/484 [==============================] - 12s 25ms/step - loss: 0.8233 - accuracy: 0.8333\n",
            "Epoch 89/100\n",
            "484/484 [==============================] - 12s 25ms/step - loss: 0.8252 - accuracy: 0.8325\n",
            "Epoch 90/100\n",
            "484/484 [==============================] - 12s 25ms/step - loss: 0.8168 - accuracy: 0.8350\n",
            "Epoch 91/100\n",
            "484/484 [==============================] - 12s 25ms/step - loss: 0.8124 - accuracy: 0.8375\n",
            "Epoch 92/100\n",
            "484/484 [==============================] - 12s 25ms/step - loss: 0.7927 - accuracy: 0.8386\n",
            "Epoch 93/100\n",
            "484/484 [==============================] - 12s 25ms/step - loss: 0.8090 - accuracy: 0.8364\n",
            "Epoch 94/100\n",
            "484/484 [==============================] - 12s 25ms/step - loss: 0.8038 - accuracy: 0.8370\n",
            "Epoch 95/100\n",
            "484/484 [==============================] - 12s 25ms/step - loss: 0.8041 - accuracy: 0.8375\n",
            "Epoch 96/100\n",
            "484/484 [==============================] - 12s 25ms/step - loss: 0.8069 - accuracy: 0.8365\n",
            "Epoch 97/100\n",
            "484/484 [==============================] - 12s 25ms/step - loss: 0.8020 - accuracy: 0.8382\n",
            "Epoch 98/100\n",
            "484/484 [==============================] - 12s 25ms/step - loss: 0.7972 - accuracy: 0.8365\n",
            "Epoch 99/100\n",
            "484/484 [==============================] - 12s 25ms/step - loss: 0.8014 - accuracy: 0.8373\n",
            "Epoch 100/100\n",
            "484/484 [==============================] - 12s 25ms/step - loss: 0.7965 - accuracy: 0.8385\n"
          ],
          "name": "stdout"
        }
      ]
    },
    {
      "cell_type": "code",
      "metadata": {
        "id": "2ZmHgCVmclLC",
        "colab_type": "code",
        "colab": {
          "base_uri": "https://localhost:8080/",
          "height": 531
        },
        "outputId": "ad6cf46a-66d8-4dea-92ad-2364228f20a6"
      },
      "source": [
        "import matplotlib.pyplot as plt\n",
        "acc = history.history['accuracy']\n",
        "loss = history.history['loss']\n",
        "\n",
        "epochs = range(len(acc))\n",
        "plt.plot(epochs, acc, 'b', label='Training Accuracy')\n",
        "\n",
        "plt.figure()\n",
        "\n",
        "plt.plot(epochs, loss, 'b', label='Training Loss')\n",
        "plt.title('Training Loss')\n",
        "plt.legend()\n",
        "\n",
        "plt.show()"
      ],
      "execution_count": null,
      "outputs": [
        {
          "output_type": "display_data",
          "data": {
            "image/png": "[encoded data removed]",
            "text/plain": [
              "<Figure size 432x288 with 1 Axes>"
            ]
          },
          "metadata": {
            "tags": [],
            "needs_background": "light"
          }
        },
        {
          "output_type": "display_data",
          "data": {
            "image/png": "[encoded data removed]",
            "text/plain": [
              "<Figure size 432x288 with 1 Axes>"
            ]
          },
          "metadata": {
            "tags": [],
            "needs_background": "light"
          }
        }
      ]
    },
    {
      "cell_type": "code",
      "metadata": {
        "id": "gex8xh_idotk",
        "colab_type": "code",
        "colab": {
          "base_uri": "https://localhost:8080/",
          "height": 55
        },
        "outputId": "4f080307-e663-4db8-f1b6-d2337194f145"
      },
      "source": [
        "seed_text = \"Help me Obi WanKenobi, you're my only hope\"\n",
        "next_words = 100\n",
        "\n",
        "for _ in range(next_words):\n",
        "  token_list = tokenizer.texts_to_sequences([seed_text])[0]\n",
        "  token_list = pad_sequences([token_list],maxlen=max_sequence_len-1)\n",
        "  predicted = model.predict_classes(token_list)\n",
        "  output_word = ''\n",
        "  \n",
        "  for word, index in tokenizer.word_index.items():\n",
        "    if index == predicted:\n",
        "      output_word = word\n",
        "      break\n",
        "  seed_text += \" \"  + output_word\n",
        "\n",
        "print(seed_text)"
      ],
      "execution_count": null,
      "outputs": [
        {
          "output_type": "stream",
          "text": [
            "Help me Obi WanKenobi, you're my only hope wilt all a tomb of give white arising grow so long repair away doth eye go beauty's successive course bower dear eye doth dwell alone words away dead night away more indigest convertest back away forth dwell to dwell alone words doth purging more rage do ruining dead spent night new fire remain rare gone and still away so from doubt be gone to all me show thee thine thy tongue doth slain more rage hath shown place new twain twain twain place dead new days so brought to bear go ' back new twain away age away alone please\n"
          ],
          "name": "stdout"
        }
      ]
    }
  ]
}