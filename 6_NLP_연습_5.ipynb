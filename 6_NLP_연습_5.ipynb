{
  "nbformat": 4,
  "nbformat_minor": 0,
  "metadata": {
    "colab": {
      "name": "6. NLP 연습 5.ipynb",
      "provenance": [],
      "collapsed_sections": [],
      "include_colab_link": true
    },
    "kernelspec": {
      "name": "python3",
      "display_name": "Python 3"
    }
  },
  "cells": [
    {
      "cell_type": "markdown",
      "metadata": {
        "id": "view-in-github",
        "colab_type": "text"
      },
      "source": [
        "<a href=\"https://colab.research.google.com/github/jejec0703/NLP-Natural-Language-Processing/blob/master/6_NLP_%EC%97%B0%EC%8A%B5_5.ipynb\" target=\"_parent\"><img src=\"https://colab.research.google.com/assets/colab-badge.svg\" alt=\"Open In Colab\"/></a>"
      ]
    },
    {
      "cell_type": "code",
      "metadata": {
        "id": "sV9-n80FwJc7",
        "colab_type": "code",
        "colab": {}
      },
      "source": [
        "import json\n",
        "import tensorflow as tf\n",
        "\n",
        "from tensorflow.keras.preprocessing.text import Tokenizer\n",
        "from tensorflow.keras.preprocessing.sequence import pad_sequences"
      ],
      "execution_count": null,
      "outputs": []
    },
    {
      "cell_type": "code",
      "metadata": {
        "id": "C_NwMb2RwXvI",
        "colab_type": "code",
        "colab": {
          "base_uri": "https://localhost:8080/",
          "height": 235
        },
        "outputId": "06a5d964-11c7-4ba9-a756-705c7a05b812"
      },
      "source": [
        "!wget --no-check-certificate \\\n",
        "    https://storage.googleapis.com/laurencemoroney-blog.appspot.com/sarcasm.json \\\n",
        "    -O /tmp/sarcasm.json\n"
      ],
      "execution_count": null,
      "outputs": [
        {
          "output_type": "stream",
          "text": [
            "--2020-08-06 04:38:02--  https://storage.googleapis.com/laurencemoroney-blog.appspot.com/sarcasm.json\n",
            "Resolving storage.googleapis.com (storage.googleapis.com)... 74.125.142.128, 74.125.195.128, 2607:f8b0:400e:c07::80, ...\n",
            "Connecting to storage.googleapis.com (storage.googleapis.com)|74.125.142.128|:443... connected.\n",
            "HTTP request sent, awaiting response... 200 OK\n",
            "Length: 5643545 (5.4M) [application/json]\n",
            "Saving to: ‘/tmp/sarcasm.json’\n",
            "\n",
            "\r/tmp/sarcasm.json     0%[                    ]       0  --.-KB/s               \r/tmp/sarcasm.json   100%[===================>]   5.38M  --.-KB/s    in 0.05s   \n",
            "\n",
            "2020-08-06 04:38:02 (105 MB/s) - ‘/tmp/sarcasm.json’ saved [5643545/5643545]\n",
            "\n"
          ],
          "name": "stdout"
        }
      ]
    },
    {
      "cell_type": "code",
      "metadata": {
        "id": "DIdC6DMhEih_",
        "colab_type": "code",
        "colab": {}
      },
      "source": [
        "vocab_size = 10000\n",
        "embedding_dim = 16\n",
        "max_length = 100\n",
        "trunc_type = 'post'\n",
        "padding_type = 'post'\n",
        "oov_tok = '<OOV>'\n",
        "training_size = 20000"
      ],
      "execution_count": null,
      "outputs": []
    },
    {
      "cell_type": "code",
      "metadata": {
        "id": "A59DiBPlFAWo",
        "colab_type": "code",
        "colab": {}
      },
      "source": [
        "import json\n",
        "with open('/tmp/sarcasm.json', 'r') as f:\n",
        "  datastore = json.load(f)"
      ],
      "execution_count": null,
      "outputs": []
    },
    {
      "cell_type": "code",
      "metadata": {
        "id": "xe4CDQCvFPsf",
        "colab_type": "code",
        "colab": {}
      },
      "source": [
        "# datastore\n",
        "### json file 은 딕셔너리구조로 이루어진 text 파일"
      ],
      "execution_count": null,
      "outputs": []
    },
    {
      "cell_type": "code",
      "metadata": {
        "id": "u9sJF7CrFKyO",
        "colab_type": "code",
        "colab": {}
      },
      "source": [
        "sentences = []\n",
        "labels = []\n",
        "for item in datastore:\n",
        "  sentences.append(item['headline'])\n",
        "  labels.append(item['is_sarcastic'])"
      ],
      "execution_count": null,
      "outputs": []
    },
    {
      "cell_type": "code",
      "metadata": {
        "id": "Pw7TWGu4F2lv",
        "colab_type": "code",
        "colab": {
          "base_uri": "https://localhost:8080/",
          "height": 35
        },
        "outputId": "2b97dd3c-bf07-4b23-bc1f-9f6424e3c2f4"
      },
      "source": [
        "len(sentences)"
      ],
      "execution_count": null,
      "outputs": [
        {
          "output_type": "execute_result",
          "data": {
            "text/plain": [
              "26709"
            ]
          },
          "metadata": {
            "tags": []
          },
          "execution_count": 8
        }
      ]
    },
    {
      "cell_type": "code",
      "metadata": {
        "id": "gVZ8bNodF7Z5",
        "colab_type": "code",
        "colab": {}
      },
      "source": [
        "training_sentences = sentences[:training_size]\n",
        "testing_sentences = sentences[training_size:]\n",
        "\n",
        "training_labels = labels[:training_size]\n",
        "testing_labels = labels[training_size:]"
      ],
      "execution_count": null,
      "outputs": []
    },
    {
      "cell_type": "code",
      "metadata": {
        "id": "1kEBkZoPGeVe",
        "colab_type": "code",
        "colab": {}
      },
      "source": [
        "tokenizer = Tokenizer(num_words = vocab_size, oov_token=oov_tok)\n",
        "tokenizer.fit_on_texts(training_sentences)\n",
        "word_index = tokenizer.word_index\n",
        "\n",
        "training_sequences = tokenizer.texts_to_sequences(training_sentences)\n",
        "training_padded = pad_sequences(training_sequences,\n",
        "                                maxlen = max_length,\n",
        "                                padding = padding_type,\n",
        "                                truncating = trunc_type)\n",
        "\n",
        "testing_sequences = tokenizer.texts_to_sequences(testing_sentences)\n",
        "testing_padded = pad_sequences(testing_sequences,\n",
        "                                maxlen = max_length,\n",
        "                                padding = padding_type,\n",
        "                                truncating = trunc_type)"
      ],
      "execution_count": null,
      "outputs": []
    },
    {
      "cell_type": "code",
      "metadata": {
        "id": "ItmN6340HlO7",
        "colab_type": "code",
        "colab": {}
      },
      "source": [
        "import numpy as np\n",
        "training_padded = np.array(training_padded)\n",
        "training_labels = np.array(training_labels)\n",
        "\n",
        "testing_padded = np.array(testing_padded)\n",
        "testing_labels = np.array(testing_labels)"
      ],
      "execution_count": null,
      "outputs": []
    },
    {
      "cell_type": "code",
      "metadata": {
        "id": "mK8JvDEuH2jG",
        "colab_type": "code",
        "colab": {}
      },
      "source": [
        "model = tf.keras.Sequential([\n",
        "                             tf.keras.layers.Embedding(vocab_size, embedding_dim, input_length = max_length),\n",
        "                             tf.keras.layers.GlobalAveragePooling1D(),\n",
        "                             tf.keras.layers.Dense(24, activation='relu'),\n",
        "                             tf.keras.layers.Dense(1, activation='sigmoid'),\n",
        "                             ])"
      ],
      "execution_count": null,
      "outputs": []
    },
    {
      "cell_type": "code",
      "metadata": {
        "id": "VGDyH_6kJGcA",
        "colab_type": "code",
        "colab": {}
      },
      "source": [
        "model.compile(loss='binary_crossentropy',\n",
        "              optimizer='adam',\n",
        "              metrics=['accuracy'])"
      ],
      "execution_count": null,
      "outputs": []
    },
    {
      "cell_type": "code",
      "metadata": {
        "id": "nuTj8xI_JRqW",
        "colab_type": "code",
        "colab": {
          "base_uri": "https://localhost:8080/",
          "height": 305
        },
        "outputId": "ebb244d4-289a-4884-fe5a-2804e545e25d"
      },
      "source": [
        "model.summary()"
      ],
      "execution_count": null,
      "outputs": [
        {
          "output_type": "stream",
          "text": [
            "Model: \"sequential\"\n",
            "_________________________________________________________________\n",
            "Layer (type)                 Output Shape              Param #   \n",
            "=================================================================\n",
            "embedding (Embedding)        (None, 100, 16)           160000    \n",
            "_________________________________________________________________\n",
            "global_average_pooling1d (Gl (None, 16)                0         \n",
            "_________________________________________________________________\n",
            "dense (Dense)                (None, 24)                408       \n",
            "_________________________________________________________________\n",
            "dense_1 (Dense)              (None, 1)                 25        \n",
            "=================================================================\n",
            "Total params: 160,433\n",
            "Trainable params: 160,433\n",
            "Non-trainable params: 0\n",
            "_________________________________________________________________\n"
          ],
          "name": "stdout"
        }
      ]
    },
    {
      "cell_type": "code",
      "metadata": {
        "id": "_8A1dARLJUNr",
        "colab_type": "code",
        "colab": {
          "base_uri": "https://localhost:8080/",
          "height": 1000
        },
        "outputId": "9a348317-fdf9-4ed5-a6cf-5f0c9b95e829"
      },
      "source": [
        "num_epochs = 30\n",
        "history = model.fit(training_padded, training_labels, epochs = num_epochs,\n",
        "                    validation_data= (testing_padded, testing_labels),\n",
        "                    verbose = 2)\n"
      ],
      "execution_count": null,
      "outputs": [
        {
          "output_type": "stream",
          "text": [
            "Epoch 1/30\n",
            "625/625 - 2s - loss: 0.6571 - accuracy: 0.6028 - val_loss: 0.5607 - val_accuracy: 0.7222\n",
            "Epoch 2/30\n",
            "625/625 - 2s - loss: 0.4245 - accuracy: 0.8340 - val_loss: 0.3842 - val_accuracy: 0.8430\n",
            "Epoch 3/30\n",
            "625/625 - 2s - loss: 0.3095 - accuracy: 0.8793 - val_loss: 0.3603 - val_accuracy: 0.8436\n",
            "Epoch 4/30\n",
            "625/625 - 2s - loss: 0.2587 - accuracy: 0.9001 - val_loss: 0.3427 - val_accuracy: 0.8563\n",
            "Epoch 5/30\n",
            "625/625 - 2s - loss: 0.2236 - accuracy: 0.9138 - val_loss: 0.3701 - val_accuracy: 0.8381\n",
            "Epoch 6/30\n",
            "625/625 - 2s - loss: 0.1977 - accuracy: 0.9255 - val_loss: 0.3501 - val_accuracy: 0.8530\n",
            "Epoch 7/30\n",
            "625/625 - 2s - loss: 0.1747 - accuracy: 0.9352 - val_loss: 0.3633 - val_accuracy: 0.8556\n",
            "Epoch 8/30\n",
            "625/625 - 2s - loss: 0.1565 - accuracy: 0.9438 - val_loss: 0.3742 - val_accuracy: 0.8538\n",
            "Epoch 9/30\n",
            "625/625 - 2s - loss: 0.1420 - accuracy: 0.9490 - val_loss: 0.3985 - val_accuracy: 0.8493\n",
            "Epoch 10/30\n",
            "625/625 - 2s - loss: 0.1286 - accuracy: 0.9549 - val_loss: 0.4188 - val_accuracy: 0.8465\n",
            "Epoch 11/30\n",
            "625/625 - 2s - loss: 0.1183 - accuracy: 0.9590 - val_loss: 0.4294 - val_accuracy: 0.8492\n",
            "Epoch 12/30\n",
            "625/625 - 2s - loss: 0.1083 - accuracy: 0.9632 - val_loss: 0.4765 - val_accuracy: 0.8347\n",
            "Epoch 13/30\n",
            "625/625 - 2s - loss: 0.0979 - accuracy: 0.9671 - val_loss: 0.4822 - val_accuracy: 0.8398\n",
            "Epoch 14/30\n",
            "625/625 - 2s - loss: 0.0901 - accuracy: 0.9706 - val_loss: 0.5014 - val_accuracy: 0.8417\n",
            "Epoch 15/30\n",
            "625/625 - 2s - loss: 0.0829 - accuracy: 0.9730 - val_loss: 0.5342 - val_accuracy: 0.8377\n",
            "Epoch 16/30\n",
            "625/625 - 2s - loss: 0.0766 - accuracy: 0.9759 - val_loss: 0.5582 - val_accuracy: 0.8363\n",
            "Epoch 17/30\n",
            "625/625 - 2s - loss: 0.0704 - accuracy: 0.9775 - val_loss: 0.5946 - val_accuracy: 0.8319\n",
            "Epoch 18/30\n",
            "625/625 - 2s - loss: 0.0646 - accuracy: 0.9802 - val_loss: 0.6162 - val_accuracy: 0.8317\n",
            "Epoch 19/30\n",
            "625/625 - 2s - loss: 0.0590 - accuracy: 0.9821 - val_loss: 0.6469 - val_accuracy: 0.8313\n",
            "Epoch 20/30\n",
            "625/625 - 2s - loss: 0.0556 - accuracy: 0.9821 - val_loss: 0.6913 - val_accuracy: 0.8286\n",
            "Epoch 21/30\n",
            "625/625 - 2s - loss: 0.0510 - accuracy: 0.9847 - val_loss: 0.7135 - val_accuracy: 0.8262\n",
            "Epoch 22/30\n",
            "625/625 - 2s - loss: 0.0477 - accuracy: 0.9872 - val_loss: 0.7576 - val_accuracy: 0.8243\n",
            "Epoch 23/30\n",
            "625/625 - 2s - loss: 0.0440 - accuracy: 0.9873 - val_loss: 0.7954 - val_accuracy: 0.8225\n",
            "Epoch 24/30\n",
            "625/625 - 2s - loss: 0.0402 - accuracy: 0.9887 - val_loss: 0.8193 - val_accuracy: 0.8219\n",
            "Epoch 25/30\n",
            "625/625 - 2s - loss: 0.0383 - accuracy: 0.9891 - val_loss: 0.8672 - val_accuracy: 0.8185\n",
            "Epoch 26/30\n",
            "625/625 - 2s - loss: 0.0346 - accuracy: 0.9902 - val_loss: 0.8895 - val_accuracy: 0.8182\n",
            "Epoch 27/30\n",
            "625/625 - 2s - loss: 0.0322 - accuracy: 0.9905 - val_loss: 0.9335 - val_accuracy: 0.8182\n",
            "Epoch 28/30\n",
            "625/625 - 2s - loss: 0.0299 - accuracy: 0.9917 - val_loss: 0.9615 - val_accuracy: 0.8152\n",
            "Epoch 29/30\n",
            "625/625 - 2s - loss: 0.0286 - accuracy: 0.9921 - val_loss: 0.9981 - val_accuracy: 0.8128\n",
            "Epoch 30/30\n",
            "625/625 - 2s - loss: 0.0263 - accuracy: 0.9928 - val_loss: 1.0528 - val_accuracy: 0.8138\n"
          ],
          "name": "stdout"
        }
      ]
    },
    {
      "cell_type": "code",
      "metadata": {
        "id": "Ra1EeM9sJuE7",
        "colab_type": "code",
        "colab": {}
      },
      "source": [
        "import matplotlib.pyplot as plt\n",
        "def plot_graphs(history, string):\n",
        "  plt.plot(history.history[string])\n",
        "  plt.plot(history.history['val_' + string])\n",
        "  plt.xlabel('Epochs')\n",
        "  plt.ylabel(string)\n",
        "  plt.legend([string, 'val_' + string])  \n",
        "  plt.show()"
      ],
      "execution_count": null,
      "outputs": []
    },
    {
      "cell_type": "code",
      "metadata": {
        "id": "H4rQIBUbK0c5",
        "colab_type": "code",
        "colab": {
          "base_uri": "https://localhost:8080/",
          "height": 541
        },
        "outputId": "ce1408de-15e5-4462-970f-fe4495749ef1"
      },
      "source": [
        "plot_graphs(history, 'accuracy')\n",
        "plot_graphs(history, 'loss')"
      ],
      "execution_count": null,
      "outputs": [
        {
          "output_type": "display_data",
          "data": {
            "image/png": "[encoded data removed]",
            "text/plain": [
              "<Figure size 432x288 with 1 Axes>"
            ]
          },
          "metadata": {
            "tags": [],
            "needs_background": "light"
          }
        },
        {
          "output_type": "display_data",
          "data": {
            "image/png": "[encoded data removed]",
            "text/plain": [
              "<Figure size 432x288 with 1 Axes>"
            ]
          },
          "metadata": {
            "tags": [],
            "needs_background": "light"
          }
        }
      ]
    },
    {
      "cell_type": "code",
      "metadata": {
        "id": "aianPSM_LXq_",
        "colab_type": "code",
        "colab": {}
      },
      "source": [
        "sentence = [\"granny starting to fear spiders in the garden might be real\", \"game of thrones season finale showing this sunday night\"]\n",
        "sequence = tokenizer.texts_to_sequences(sentence)\n",
        "### 감성분석 분류기를 만든 것\n",
        "padded = pad_sequences(sequence, maxlen=max_length, padding=padding_type, truncating=trunc_type)"
      ],
      "execution_count": null,
      "outputs": []
    },
    {
      "cell_type": "code",
      "metadata": {
        "id": "QgEaV8ucMAvA",
        "colab_type": "code",
        "colab": {
          "base_uri": "https://localhost:8080/",
          "height": 53
        },
        "outputId": "cfb67b6b-88c1-4f5f-b52c-6b3b09bab263"
      },
      "source": [
        "print(model.predict(padded).round(2))"
      ],
      "execution_count": null,
      "outputs": [
        {
          "output_type": "stream",
          "text": [
            "[[0.89]\n",
            " [0.  ]]\n"
          ],
          "name": "stdout"
        }
      ]
    },
    {
      "cell_type": "code",
      "metadata": {
        "id": "mFgGglMoMI_Z",
        "colab_type": "code",
        "colab": {}
      },
      "source": [
        ""
      ],
      "execution_count": null,
      "outputs": []
    }
  ]
}