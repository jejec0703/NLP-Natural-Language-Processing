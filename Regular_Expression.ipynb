{
  "nbformat": 4,
  "nbformat_minor": 0,
  "metadata": {
    "colab": {
      "name": "Regular Expression",
      "provenance": [],
      "collapsed_sections": [],
      "authorship_tag": "ABX9TyPzn1My/sUBpQP24hbWMvSw",
      "include_colab_link": true
    },
    "kernelspec": {
      "name": "python3",
      "display_name": "Python 3"
    }
  },
  "cells": [
    {
      "cell_type": "markdown",
      "metadata": {
        "id": "view-in-github",
        "colab_type": "text"
      },
      "source": [
        "<a href=\"https://colab.research.google.com/github/jejec0703/NLP-Natural-Language-Processing-/blob/master/Regular_Expression.ipynb\" target=\"_parent\"><img src=\"https://colab.research.google.com/assets/colab-badge.svg\" alt=\"Open In Colab\"/></a>"
      ]
    },
    {
      "cell_type": "code",
      "metadata": {
        "id": "KbWp10SR_QAQ",
        "colab_type": "code",
        "colab": {}
      },
      "source": [
        "import re"
      ],
      "execution_count": null,
      "outputs": []
    },
    {
      "cell_type": "code",
      "metadata": {
        "id": "z70k43gY_XCC",
        "colab_type": "code",
        "colab": {
          "base_uri": "https://localhost:8080/",
          "height": 87
        },
        "outputId": "23e3c5ee-ff6a-4f49-f7fb-9c267eaaea85"
      },
      "source": [
        "## 1번 ##\n",
        "\n",
        "email_list = ['jkilee@gmail.com', 'kttredef@naver.com', 'akdef!aa.com', 'adekik@best.kr', 'abkereff@aacde', 'adefgree@korea.co.kr']\n",
        "email_re = []\n",
        "for i in range(len(email_list)):\n",
        "  email = re.findall('([a-z]+@+[a-z]+\\..+)', email_list[i])\n",
        "  email_re.append(email)\n",
        "email_re = list(filter(None, email_re))\n",
        "email_re"
      ],
      "execution_count": null,
      "outputs": [
        {
          "output_type": "execute_result",
          "data": {
            "text/plain": [
              "[['jkilee@gmail.com'],\n",
              " ['kttredef@naver.com'],\n",
              " ['adekik@best.kr'],\n",
              " ['adefgree@korea.co.kr']]"
            ]
          },
          "metadata": {
            "tags": []
          },
          "execution_count": 73
        }
      ]
    },
    {
      "cell_type": "code",
      "metadata": {
        "id": "4K2GRUAU_sJe",
        "colab_type": "code",
        "colab": {
          "base_uri": "https://localhost:8080/",
          "height": 34
        },
        "outputId": "5dfc809b-bf10-4357-a759-9fd6e3a64500"
      },
      "source": [
        "## 2번 ##\n",
        "\n",
        "Text = '안녕하세요 저는 <em>김지예</em> 입니다. 나이는 26살 세계 최고의 <a href=\"aa.aa.com\">데이터 분석가</a>가 되고싶습니다.'\n",
        "Text_re = re.sub('<.+?>', '', Text)\n",
        "print(Text_re)"
      ],
      "execution_count": null,
      "outputs": [
        {
          "output_type": "stream",
          "text": [
            "안녕하세요 저는 김지예 입니다. 나이는 26살 세계 최고의 데이터 분석가가 되고싶습니다.\n"
          ],
          "name": "stdout"
        }
      ]
    },
    {
      "cell_type": "code",
      "metadata": {
        "id": "96t9scUvJLUh",
        "colab_type": "code",
        "colab": {
          "base_uri": "https://localhost:8080/",
          "height": 70
        },
        "outputId": "f74d19ba-ab76-45c2-ffed-2e640b9a385c"
      },
      "source": [
        "## 3번 ##\n",
        "\n",
        "Text = '''<p>\n",
        "<span>네이버가 뉴스 서비스에 인공지능(AI)을 도입해 페이지 뷰(PV)를 늘리고 이용자를 끌어 모으고 있다.</span>\n",
        "<span>네이버는 5일 오전 서울 강남구 그랜드 인터컨티넨털 호텔에서 AI 콜로키움 2019를 열고 이 같은 AI 성과와 전략을 소개했다.</span>\n",
        "<span>이날 기조연설에서 김광현 네이버 서치앤클로바 리더는 \"AI 뉴스 추천 시스템인 에어스(AiRS)를 도입하면서 뉴스 소비량이 확대되고 있다\" 고 말했다.</span>\n",
        "</p>'''\n",
        "\n",
        "Text_re = re.sub('<.+?>', '', Text).split('\\n')\n",
        "for i in range(4):\n",
        "  if Text_re[i] == '':\n",
        "    del Text_re[i]\n",
        "Text_re"
      ],
      "execution_count": null,
      "outputs": [
        {
          "output_type": "execute_result",
          "data": {
            "text/plain": [
              "['네이버가 뉴스 서비스에 인공지능(AI)을 도입해 페이지 뷰(PV)를 늘리고 이용자를 끌어 모으고 있다.',\n",
              " '네이버는 5일 오전 서울 강남구 그랜드 인터컨티넨털 호텔에서 AI 콜로키움 2019를 열고 이 같은 AI 성과와 전략을 소개했다.',\n",
              " '이날 기조연설에서 김광현 네이버 서치앤클로바 리더는 \"AI 뉴스 추천 시스템인 에어스(AiRS)를 도입하면서 뉴스 소비량이 확대되고 있다\" 고 말했다.']"
            ]
          },
          "metadata": {
            "tags": []
          },
          "execution_count": 71
        }
      ]
    }
  ]
}