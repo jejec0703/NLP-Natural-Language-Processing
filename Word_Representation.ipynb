{
  "nbformat": 4,
  "nbformat_minor": 0,
  "metadata": {
    "colab": {
      "name": "Word Representation",
      "provenance": [],
      "authorship_tag": "ABX9TyPiH2opHQEMk/s58Bkd/tvc",
      "include_colab_link": true
    },
    "kernelspec": {
      "name": "python3",
      "display_name": "Python 3"
    }
  },
  "cells": [
    {
      "cell_type": "markdown",
      "metadata": {
        "id": "view-in-github",
        "colab_type": "text"
      },
      "source": [
        "<a href=\"https://colab.research.google.com/github/jejec0703/NLP-Natural-Language-Processing/blob/master/Word_Representation.ipynb\" target=\"_parent\"><img src=\"https://colab.research.google.com/assets/colab-badge.svg\" alt=\"Open In Colab\"/></a>"
      ]
    },
    {
      "cell_type": "markdown",
      "metadata": {
        "id": "wKEvDsBm4R0j",
        "colab_type": "text"
      },
      "source": [
        "# 단어의 표현 (Word Representation)\n"
      ]
    },
    {
      "cell_type": "markdown",
      "metadata": {
        "id": "XjuUuJ2V3mU7",
        "colab_type": "text"
      },
      "source": [
        "기계는 문자를 그대로 인식할 수 없기때문에 숫자로 변환"
      ]
    },
    {
      "cell_type": "markdown",
      "metadata": {
        "id": "thvsAbpW4U3V",
        "colab_type": "text"
      },
      "source": [
        "## 1 원-핫 인코딩 (One-Hot Encoding)"
      ]
    },
    {
      "cell_type": "markdown",
      "metadata": {
        "id": "ggHfPgUX4XSu",
        "colab_type": "text"
      },
      "source": [
        "### 1.1 직접 구현해보기\n",
        "\n",
        "\"원숭이, 바나나, 사과\" 로 원-핫 인코딩을 한다면"
      ]
    },
    {
      "cell_type": "code",
      "metadata": {
        "id": "lt55ao7m3toV",
        "colab_type": "code",
        "colab": {}
      },
      "source": [
        "# 인코딩 대상 단어들을 담은 리스트\n",
        "word_ls = ['원숭이','바나나','사과','사과']\n",
        "\n",
        "from collections import defaultdict\n",
        "import numpy as np \n",
        "\n",
        "def one_hot_encode(word_ls):\n",
        "    # 고유 단어와 인덱스를 매칭시켜주는 사전 생성\n",
        "    \n",
        "    word2id_dic = defaultdict(lambda:len(word2id_dic))\n",
        "    ## defaultdict = default 값을 정해주는 함수\n",
        "    ## 값 지정 안해줘도 선언된 default 값을 출력함.\n",
        "    ## 여기서는 word2id_dic 의 수로 나옴\n",
        "\n",
        "    # {단어 : 인덱스} 사전 구축\n",
        "    for word in word_ls:\n",
        "        word2id_dic[word]\n",
        "    \n",
        "    n_unique_words = len(word2id_dic) # 고유한 단어의 갯수\n",
        "    one_hot_vectors = np.zeros((len(word_ls), n_unique_words)) # 원핫-벡터를 만들기 위해 비어있는 벡\n",
        "    \n",
        "    for i,word in enumerate(word_ls):\n",
        "        index = word2id_dic[word] # 해당 단어의 고유 인덱스\n",
        "        one_hot_vectors[i, index] = 1 # 해당 단어의 고유 인덱스에만 1을 더해줌\n",
        "        \n",
        "    return one_hot_vectors"
      ],
      "execution_count": null,
      "outputs": []
    },
    {
      "cell_type": "code",
      "metadata": {
        "id": "tRok82VH3y4D",
        "colab_type": "code",
        "colab": {
          "base_uri": "https://localhost:8080/",
          "height": 89
        },
        "outputId": "73fcb9ce-c49b-4892-e0db-af976071c4fb"
      },
      "source": [
        "one_hot_vectors = one_hot_encode(word_ls)\n",
        "one_hot_vectors"
      ],
      "execution_count": null,
      "outputs": [
        {
          "output_type": "execute_result",
          "data": {
            "text/plain": [
              "array([[1., 0., 0.],\n",
              "       [0., 1., 0.],\n",
              "       [0., 0., 1.],\n",
              "       [0., 0., 1.]])"
            ]
          },
          "metadata": {
            "tags": []
          },
          "execution_count": 3
        }
      ]
    },
    {
      "cell_type": "code",
      "metadata": {
        "id": "Z3hJnfwO4DMU",
        "colab_type": "code",
        "colab": {}
      },
      "source": [
        "# array([[1., 0., 0.], = 원숭이\n",
        "#       [0., 1., 0.], = 바나나\n",
        "#      [0., 0., 1.], = 사과\n",
        "#       [0., 0., 1.]]) = 사과"
      ],
      "execution_count": null,
      "outputs": []
    },
    {
      "cell_type": "markdown",
      "metadata": {
        "id": "YoiA-F604eI4",
        "colab_type": "text"
      },
      "source": [
        "\"코끼리\"라는 단어가 추가된다면?"
      ]
    },
    {
      "cell_type": "code",
      "metadata": {
        "id": "lD8b6E5m4gGM",
        "colab_type": "code",
        "colab": {
          "base_uri": "https://localhost:8080/",
          "height": 89
        },
        "outputId": "57772128-8e00-4e86-846b-7d6f577fe6ea"
      },
      "source": [
        "word_ls = ['원숭이','바나나','사과','코끼리']\n",
        "\n",
        "one_hot_vectors = one_hot_encode(word_ls)\n",
        "one_hot_vectors"
      ],
      "execution_count": null,
      "outputs": [
        {
          "output_type": "execute_result",
          "data": {
            "text/plain": [
              "array([[1., 0., 0., 0.],\n",
              "       [0., 1., 0., 0.],\n",
              "       [0., 0., 1., 0.],\n",
              "       [0., 0., 0., 1.]])"
            ]
          },
          "metadata": {
            "tags": []
          },
          "execution_count": 5
        }
      ]
    },
    {
      "cell_type": "markdown",
      "metadata": {
        "id": "aEeg7E6c4isb",
        "colab_type": "text"
      },
      "source": [
        "## 1.3 sklearn 활용"
      ]
    },
    {
      "cell_type": "markdown",
      "metadata": {
        "id": "ul763nrs4mhD",
        "colab_type": "text"
      },
      "source": [
        "\n",
        "t(X[, y])  |  Fit OneHotEncoder to X  \n",
        "t_transform(X[, y])  |  Fit OneHotEncoder to X, then transform X  \n",
        "inverse_transform(X)  |  Convert the back data to the original representation  \n",
        "transform(X)  |  Transform X using one-hot encoding.\n"
      ]
    },
    {
      "cell_type": "markdown",
      "metadata": {
        "id": "RbootXuX_H3M",
        "colab_type": "text"
      },
      "source": [
        "fit = 학습  \n",
        "transform = 적용"
      ]
    },
    {
      "cell_type": "code",
      "metadata": {
        "id": "f9gNRD2D4mlc",
        "colab_type": "code",
        "colab": {}
      },
      "source": [
        "# sklearn을 활용한 one-hot encoding\n",
        "from numpy import array\n",
        "from numpy import argmax\n",
        "from sklearn.preprocessing import LabelEncoder\n",
        "from sklearn.preprocessing import OneHotEncoder"
      ],
      "execution_count": null,
      "outputs": []
    },
    {
      "cell_type": "code",
      "metadata": {
        "id": "CHykq8eH4mqR",
        "colab_type": "code",
        "colab": {
          "base_uri": "https://localhost:8080/",
          "height": 233
        },
        "outputId": "991f9e92-d8c3-4252-c7b4-c76d21fceebc"
      },
      "source": [
        "# 예제 데이터 배열\n",
        "values = array(word_ls)\n",
        "print(values)\n",
        "\n",
        "# 문자열에 숫자를 붙임\n",
        "label_enc = LabelEncoder()\n",
        "int_enc = label_enc.fit_transform(values)\n",
        "print(int_enc)\n",
        "\n",
        "# binary encode\n",
        "onehot_enc = OneHotEncoder(sparse=False) \n",
        "## sparse = True 면 인덱스로만 표현\n",
        "\n",
        "int_enc = int_enc.reshape(len(int_enc), 1) # n:1 matrix로 변환\n",
        "print(int_enc)\n",
        "\n",
        "onehot_enc = onehot_enc.fit_transform(int_enc)\n",
        "print(onehot_enc)\n",
        "\n",
        "# one-hot encoding 의 첫번째 배열을 값을 역으로 산출\n",
        "inverted = label_enc.inverse_transform([argmax(onehot_enc[0, :])])\n",
        "print(inverted)\n",
        "\n",
        "onehot_enc[0, :]\n",
        "\n",
        "argmax(onehot_enc[0, :])\n",
        "\n",
        "label_enc.inverse_transform([argmax(onehot_enc[1, :])])"
      ],
      "execution_count": null,
      "outputs": [
        {
          "output_type": "stream",
          "text": [
            "['원숭이' '바나나' '사과' '코끼리']\n",
            "[2 0 1 3]\n",
            "[[2]\n",
            " [0]\n",
            " [1]\n",
            " [3]]\n",
            "[[0. 0. 1. 0.]\n",
            " [1. 0. 0. 0.]\n",
            " [0. 1. 0. 0.]\n",
            " [0. 0. 0. 1.]]\n",
            "['원숭이']\n"
          ],
          "name": "stdout"
        },
        {
          "output_type": "execute_result",
          "data": {
            "text/plain": [
              "array(['바나나'], dtype='<U3')"
            ]
          },
          "metadata": {
            "tags": []
          },
          "execution_count": 16
        }
      ]
    },
    {
      "cell_type": "code",
      "metadata": {
        "id": "7IfhU9BCAkf8",
        "colab_type": "code",
        "colab": {
          "base_uri": "https://localhost:8080/",
          "height": 35
        },
        "outputId": "2d996615-c549-41a7-8199-118903385937"
      },
      "source": [
        "onehot_enc[1, :] ## 1번째 모든 열"
      ],
      "execution_count": null,
      "outputs": [
        {
          "output_type": "execute_result",
          "data": {
            "text/plain": [
              "array([1., 0., 0., 0.])"
            ]
          },
          "metadata": {
            "tags": []
          },
          "execution_count": 17
        }
      ]
    },
    {
      "cell_type": "markdown",
      "metadata": {
        "id": "Ap07uxCb4mvN",
        "colab_type": "text"
      },
      "source": [
        "## 2 밀집 벡터 (Dense Vector)\n"
      ]
    },
    {
      "cell_type": "code",
      "metadata": {
        "id": "LIZfQ9734mzr",
        "colab_type": "code",
        "colab": {}
      },
      "source": [
        "word_embedding_dic = {\n",
        "    '사과' : [1.0, 0.5],\n",
        "    '바나나' : [0.9, 1.2],\n",
        "    '원숭이' : [0.5, 1.5]\n",
        "}\n",
        "\n",
        "## 2차원 벡터"
      ],
      "execution_count": null,
      "outputs": []
    },
    {
      "cell_type": "markdown",
      "metadata": {
        "id": "_tSWTfwd4nFZ",
        "colab_type": "text"
      },
      "source": [
        "## 2-1 유사도 계산"
      ]
    },
    {
      "cell_type": "markdown",
      "metadata": {
        "id": "EpVLZaFa4nKN",
        "colab_type": "text"
      },
      "source": [
        "## 2.1.1 유클리디언 거리(Euclidean distance)\n",
        "두 벡터사이의 직선 거리. 피타고라스 정리를 생각하면 이해하기 쉬움\n"
      ]
    },
    {
      "cell_type": "markdown",
      "metadata": {
        "id": "jyRCBtGr_WqZ",
        "colab_type": "text"
      },
      "source": [
        "https://en.wikipedia.org/wiki/Euclidean_distance\n"
      ]
    },
    {
      "cell_type": "code",
      "metadata": {
        "id": "NmHnftzm_WwB",
        "colab_type": "code",
        "colab": {
          "base_uri": "https://localhost:8080/",
          "height": 35
        },
        "outputId": "1be7a23f-0cf1-46da-b643-48fccf088a3e"
      },
      "source": [
        "import numpy as np\n",
        "def euclidean_dist(x,y):   \n",
        "    x = np.array(x)\n",
        "    y = np.array(y)\n",
        "    return np.sqrt(np.sum(x-y)**2)\n",
        "  \n",
        "# 사과와 바나나의 유클리디안 유사도\n",
        "euclidean_dist(word_embedding_dic['사과'], word_embedding_dic['바나나'])"
      ],
      "execution_count": null,
      "outputs": [
        {
          "output_type": "execute_result",
          "data": {
            "text/plain": [
              "0.6"
            ]
          },
          "metadata": {
            "tags": []
          },
          "execution_count": 18
        }
      ]
    },
    {
      "cell_type": "markdown",
      "metadata": {
        "id": "4A0wWX7Y_W0S",
        "colab_type": "text"
      },
      "source": [
        "https://en.wikipedia.org/wiki/Cosine_similarity\n"
      ]
    },
    {
      "cell_type": "markdown",
      "metadata": {
        "id": "CZYPUzOtCeZm",
        "colab_type": "text"
      },
      "source": [
        "## 2.1.2 코사인 유사도(Cosine Similarity)"
      ]
    },
    {
      "cell_type": "markdown",
      "metadata": {
        "id": "VSYIh2nkCgl6",
        "colab_type": "text"
      },
      "source": [
        "- 두 벡터간의 유사도를 측정하는 방법 중 하나\n",
        "- 두 벡터 사이의 코사인을 측정\n",
        "- 0도 = 1, 90도 = 0, 180도 = -1 ==> 1에 가까울수록 유사도가 높음"
      ]
    },
    {
      "cell_type": "code",
      "metadata": {
        "id": "9sr0N5Wt_W40",
        "colab_type": "code",
        "colab": {
          "base_uri": "https://localhost:8080/",
          "height": 35
        },
        "outputId": "743851b4-0d7a-485d-da3b-8f3d0f3ca083"
      },
      "source": [
        "def cosine_similarity(x, y):\n",
        "    # x와 y, 두 벡터의 코사인 유사도를 계산하는 함수\n",
        "    nominator = np.dot(x, y)    # 분자\n",
        "    denominator = np.linalg.norm(x)*np.linalg.norm(y)  # 분모\n",
        "    return nominator/denominator\n",
        "\n",
        "a = np.array([1, 2])\n",
        "b = np.array([3, 4])\n",
        "np.dot(a, b)"
      ],
      "execution_count": null,
      "outputs": [
        {
          "output_type": "execute_result",
          "data": {
            "text/plain": [
              "11"
            ]
          },
          "metadata": {
            "tags": []
          },
          "execution_count": 19
        }
      ]
    },
    {
      "cell_type": "markdown",
      "metadata": {
        "id": "uzq_NTbb_W9E",
        "colab_type": "text"
      },
      "source": [
        "numpy의 linalg 서브 패키지의 norm 명령으로 벡터의 길이를 계산할 수 있다. 위에서 예로 든 2차원 벡터 𝑎=[1,2] 의 길\n",
        "이는 √5≈2.236 이다.\n"
      ]
    },
    {
      "cell_type": "code",
      "metadata": {
        "id": "cNQHeIEICpjr",
        "colab_type": "code",
        "colab": {
          "base_uri": "https://localhost:8080/",
          "height": 35
        },
        "outputId": "868199ac-fa59-42bd-86ad-19230df1f92a"
      },
      "source": [
        "a = np.array([1, 2])\n",
        "np.linalg.norm(a)"
      ],
      "execution_count": null,
      "outputs": [
        {
          "output_type": "execute_result",
          "data": {
            "text/plain": [
              "2.23606797749979"
            ]
          },
          "metadata": {
            "tags": []
          },
          "execution_count": 20
        }
      ]
    },
    {
      "cell_type": "code",
      "metadata": {
        "id": "mjVOMlVTCqsJ",
        "colab_type": "code",
        "colab": {
          "base_uri": "https://localhost:8080/",
          "height": 53
        },
        "outputId": "19f252bd-b756-45ed-9e63-ae9d8906eb5e"
      },
      "source": [
        "# 사과와 바나나의 코사인 유사도\n",
        "print(cosine_similarity(word_embedding_dic['사과'], word_embedding_dic['바나나']))\n",
        "print(euclidean_dist(word_embedding_dic['사과'], word_embedding_dic['바나나']))"
      ],
      "execution_count": null,
      "outputs": [
        {
          "output_type": "stream",
          "text": [
            "0.8944271909999159\n",
            "0.6\n"
          ],
          "name": "stdout"
        }
      ]
    },
    {
      "cell_type": "code",
      "metadata": {
        "id": "tVCTjBOHCsYp",
        "colab_type": "code",
        "colab": {
          "base_uri": "https://localhost:8080/",
          "height": 53
        },
        "outputId": "edef417f-2bad-4fac-c208-f61c7f2b9680"
      },
      "source": [
        "# 사과와 원숭이의 코사인 유사도\n",
        "print(cosine_similarity(word_embedding_dic['사과'], word_embedding_dic['원숭이']))\n",
        "print(euclidean_dist(word_embedding_dic['사과'], word_embedding_dic['원숭이']))"
      ],
      "execution_count": null,
      "outputs": [
        {
          "output_type": "stream",
          "text": [
            "0.7071067811865475\n",
            "0.5\n"
          ],
          "name": "stdout"
        }
      ]
    },
    {
      "cell_type": "code",
      "metadata": {
        "id": "J7_WxuJ9Cva5",
        "colab_type": "code",
        "colab": {
          "base_uri": "https://localhost:8080/",
          "height": 53
        },
        "outputId": "84999e33-b988-458b-d551-ffe8126a891f"
      },
      "source": [
        "# 바나나와 원숭이의 코사인 유사도\n",
        "print(cosine_similarity(word_embedding_dic['바나나'], word_embedding_dic['원숭이']))\n",
        "print(euclidean_dist(word_embedding_dic['바나나'], word_embedding_dic['원숭이']))"
      ],
      "execution_count": null,
      "outputs": [
        {
          "output_type": "stream",
          "text": [
            "0.9486832980505138\n",
            "0.09999999999999998\n"
          ],
          "name": "stdout"
        }
      ]
    },
    {
      "cell_type": "markdown",
      "metadata": {
        "id": "Xx8-ralrCvux",
        "colab_type": "text"
      },
      "source": [
        "바나나와 원숭이의 코사인 유사도와 유클리드 거리가 가장 관계성을 띈다."
      ]
    },
    {
      "cell_type": "markdown",
      "metadata": {
        "id": "lQ1UNIt1C2jx",
        "colab_type": "text"
      },
      "source": [
        "## 2.1.3 자카드 유사도(Jaccard index)"
      ]
    },
    {
      "cell_type": "markdown",
      "metadata": {
        "id": "StbtsKXuC5rB",
        "colab_type": "text"
      },
      "source": [
        "https://en.wikipedia.org/wiki/Jaccard_index"
      ]
    },
    {
      "cell_type": "code",
      "metadata": {
        "id": "1PPEest1C7vI",
        "colab_type": "code",
        "colab": {
          "base_uri": "https://localhost:8080/",
          "height": 71
        },
        "outputId": "fe358f6d-bb07-4d62-c004-527bd5ab475b"
      },
      "source": [
        "s1 = '대부분 원숭이는 바나나를 좋아합니다.'\n",
        "s2 = '코주부 원숭이는 바나나를 싫어합니다.'\n",
        "\n",
        "# 토큰화를 수행합니다.\n",
        "token_s1 = s1.split()\n",
        "token_s2 = s2.split()\n",
        "\n",
        "union = set(token_s1).union(set(token_s2))\n",
        "print(union)  ## 합집합\n",
        "\n",
        "intersection = set(token_s1).intersection(set(token_s2))\n",
        "print(intersection)  ## 교집합\n",
        "\n",
        "print(len(intersection)/len(union)) # 2를 6로 나눔."
      ],
      "execution_count": null,
      "outputs": [
        {
          "output_type": "stream",
          "text": [
            "{'바나나를', '원숭이는', '싫어합니다.', '좋아합니다.', '대부분', '코주부'}\n",
            "{'원숭이는', '바나나를'}\n",
            "0.3333333333333333\n"
          ],
          "name": "stdout"
        }
      ]
    },
    {
      "cell_type": "markdown",
      "metadata": {
        "id": "c2IfhR1tC_9b",
        "colab_type": "text"
      },
      "source": [
        "## 3. TF-IDF를 활용한 단어 벡터\n"
      ]
    },
    {
      "cell_type": "markdown",
      "metadata": {
        "id": "NMXHjXDrDI2g",
        "colab_type": "text"
      },
      "source": [
        "## 3.1 직접 구현하기"
      ]
    },
    {
      "cell_type": "code",
      "metadata": {
        "id": "ZVB0H6Q_DKuJ",
        "colab_type": "code",
        "colab": {
          "base_uri": "https://localhost:8080/",
          "height": 1000
        },
        "outputId": "c139ee70-7807-4919-b696-ab33061bb608"
      },
      "source": [
        "d1 = \"The cat sat on my face I hate a cat\"\n",
        "d2 = \"The dog sat on my bed I love a dog\"\n",
        "\n",
        "from math import log10\n",
        "\n",
        "# document 내 토큰이 등장한 빈도수 계산\n",
        "def f(t, d):\n",
        "    return d.count(t)\n",
        "\n",
        "# tf 계산\n",
        "def tf(t, d):\n",
        "    return 0.5 + 0.5*f(t,d)/max([f(w,d) for w in d])\n",
        "\n",
        "# idf 계산\n",
        "def idf(t, D):\n",
        "    numerator = len(D)\n",
        "    denominator = 1 + len([ True for d in D if t in d])\n",
        "    return log10(numerator/denominator) + 1\n",
        "\n",
        "# tf-idf 계산\n",
        "def tfidf(t, d, D):\n",
        "    #print(D)\n",
        "    print(t)\n",
        "    #print(d)\n",
        "    print(tf(t,d))\n",
        "    print(idf(t, D))\n",
        "    print(tf(t,d)*idf(t, D))\n",
        "    print(\"===\")\n",
        "    return tf(t,d)*idf(t, D)\n",
        "\n",
        "# 공백을 기준으로 토큰과\n",
        "def tokenizer(d):\n",
        "    return d.split()\n",
        "\n",
        "# tfidf 계산  \n",
        "def tfidfScorer(D):\n",
        "    tokenized_D = [tokenizer(d) for d in D]\n",
        "    result = []\n",
        "    for d in tokenized_D:\n",
        "        result.append([(t, tfidf(t, d, tokenized_D)) for t in d])\n",
        "    return result\n",
        "\n",
        "corpus = [d1, d2]\n",
        "\n",
        "for i, doc in enumerate(tfidfScorer(corpus)):\n",
        "    print('====== document[%d] ======' % i)\n",
        "    print(doc)"
      ],
      "execution_count": null,
      "outputs": [
        {
          "output_type": "stream",
          "text": [
            "The\n",
            "0.75\n",
            "0.8239087409443188\n",
            "0.6179315557082391\n",
            "===\n",
            "cat\n",
            "1.0\n",
            "1.0\n",
            "1.0\n",
            "===\n",
            "sat\n",
            "0.75\n",
            "0.8239087409443188\n",
            "0.6179315557082391\n",
            "===\n",
            "on\n",
            "0.75\n",
            "0.8239087409443188\n",
            "0.6179315557082391\n",
            "===\n",
            "my\n",
            "0.75\n",
            "0.8239087409443188\n",
            "0.6179315557082391\n",
            "===\n",
            "face\n",
            "0.75\n",
            "1.0\n",
            "0.75\n",
            "===\n",
            "I\n",
            "0.75\n",
            "0.8239087409443188\n",
            "0.6179315557082391\n",
            "===\n",
            "hate\n",
            "0.75\n",
            "1.0\n",
            "0.75\n",
            "===\n",
            "a\n",
            "0.75\n",
            "0.8239087409443188\n",
            "0.6179315557082391\n",
            "===\n",
            "cat\n",
            "1.0\n",
            "1.0\n",
            "1.0\n",
            "===\n",
            "The\n",
            "0.75\n",
            "0.8239087409443188\n",
            "0.6179315557082391\n",
            "===\n",
            "dog\n",
            "1.0\n",
            "1.0\n",
            "1.0\n",
            "===\n",
            "sat\n",
            "0.75\n",
            "0.8239087409443188\n",
            "0.6179315557082391\n",
            "===\n",
            "on\n",
            "0.75\n",
            "0.8239087409443188\n",
            "0.6179315557082391\n",
            "===\n",
            "my\n",
            "0.75\n",
            "0.8239087409443188\n",
            "0.6179315557082391\n",
            "===\n",
            "bed\n",
            "0.75\n",
            "1.0\n",
            "0.75\n",
            "===\n",
            "I\n",
            "0.75\n",
            "0.8239087409443188\n",
            "0.6179315557082391\n",
            "===\n",
            "love\n",
            "0.75\n",
            "1.0\n",
            "0.75\n",
            "===\n",
            "a\n",
            "0.75\n",
            "0.8239087409443188\n",
            "0.6179315557082391\n",
            "===\n",
            "dog\n",
            "1.0\n",
            "1.0\n",
            "1.0\n",
            "===\n",
            "====== document[0] ======\n",
            "[('The', 0.6179315557082391), ('cat', 1.0), ('sat', 0.6179315557082391), ('on', 0.6179315557082391), ('my', 0.6179315557082391), ('face', 0.75), ('I', 0.6179315557082391), ('hate', 0.75), ('a', 0.6179315557082391), ('cat', 1.0)]\n",
            "====== document[1] ======\n",
            "[('The', 0.6179315557082391), ('dog', 1.0), ('sat', 0.6179315557082391), ('on', 0.6179315557082391), ('my', 0.6179315557082391), ('bed', 0.75), ('I', 0.6179315557082391), ('love', 0.75), ('a', 0.6179315557082391), ('dog', 1.0)]\n"
          ],
          "name": "stdout"
        }
      ]
    },
    {
      "cell_type": "markdown",
      "metadata": {
        "id": "9XChWmdjDaPJ",
        "colab_type": "text"
      },
      "source": [
        "## 3.2 sklearn 활용\n"
      ]
    },
    {
      "cell_type": "code",
      "metadata": {
        "id": "UMZkjsAoDd4Q",
        "colab_type": "code",
        "colab": {
          "base_uri": "https://localhost:8080/",
          "height": 181
        },
        "outputId": "76470b8c-a837-49ff-a5ab-beaa4f002404"
      },
      "source": [
        "from sklearn.feature_extraction.text import CountVectorizer\n",
        "\n",
        "corpus = [\n",
        "    'you know I want your love',\n",
        "    'I like you',\n",
        "    'what should I do ',    \n",
        "]\n",
        "\n",
        "d1 = \"The cat sat on my face I hate a cat\"\n",
        "d2 = \"The dog sat on my bed I love a dog\"\n",
        "\n",
        "corpus = [d1, d2]\n",
        "count_vect = CountVectorizer()\n",
        "countv = count_vect.fit_transform(corpus)\n",
        "\n",
        "print(countv.toarray()) # 코퍼스로부터 각 단어의 빈도 수를 기록한다.\n",
        "print(count_vect.vocabulary_) # 각 단어의 인덱스가 어떻게 부여되었는지를 보여준다.\n",
        "\n",
        "from sklearn.feature_extraction.text import TfidfVectorizer\n",
        "\n",
        "corpus = [\n",
        "    'you know I want your love',\n",
        "    'I like you',\n",
        "    'what should I do ',    \n",
        "]\n",
        "\n",
        "d1 = \"The cat sat on my face I hate a cat\"\n",
        "d2 = \"The dog sat on my bed I love a dog\"\n",
        "\n",
        "corpus = [d1, d2]\n",
        "tfidf_vect = TfidfVectorizer().fit(corpus)\n",
        "tfidfv = tfidf_vect.transform(corpus)\n",
        "\n",
        "print(tfidfv.toarray())\n",
        "print(tfidf_vect.vocabulary_)"
      ],
      "execution_count": null,
      "outputs": [
        {
          "output_type": "stream",
          "text": [
            "[[0 2 0 1 1 0 1 1 1 1]\n",
            " [1 0 2 0 0 1 1 1 1 1]]\n",
            "{'the': 9, 'cat': 1, 'sat': 8, 'on': 7, 'my': 6, 'face': 3, 'hate': 4, 'dog': 2, 'bed': 0, 'love': 5}\n",
            "[[0.         0.70600557 0.         0.35300279 0.35300279 0.\n",
            "  0.25116439 0.25116439 0.25116439 0.25116439]\n",
            " [0.35300279 0.         0.70600557 0.         0.         0.35300279\n",
            "  0.25116439 0.25116439 0.25116439 0.25116439]]\n",
            "{'the': 9, 'cat': 1, 'sat': 8, 'on': 7, 'my': 6, 'face': 3, 'hate': 4, 'dog': 2, 'bed': 0, 'love': 5}\n"
          ],
          "name": "stdout"
        }
      ]
    },
    {
      "cell_type": "markdown",
      "metadata": {
        "id": "vznCB14tDkbw",
        "colab_type": "text"
      },
      "source": [
        "## 3.3 gensim 활용"
      ]
    },
    {
      "cell_type": "code",
      "metadata": {
        "id": "7k5pX7ohDpGA",
        "colab_type": "code",
        "colab": {
          "base_uri": "https://localhost:8080/",
          "height": 35
        },
        "outputId": "f273c7f2-4491-4978-b235-7f4f24844650"
      },
      "source": [
        "import gensim.downloader as api\n",
        "from gensim.models import TfidfModel\n",
        "from gensim import corpora\n",
        "\n",
        "corpus = [\n",
        "    'you know I want your love',   \n",
        "    'I like you',\n",
        "    'what should I do ',    \n",
        "]\n",
        "\n",
        "doc_ls = [doc.split() for doc in corpus]\n",
        "id2word = corpora.Dictionary(doc_ls)  # fit dictionary\n",
        "corpus = [id2word.doc2bow(doc) for doc in doc_ls]  # convert corpus to BoW format\n",
        "\n",
        "tfidf = TfidfModel(corpus)  # fit model\n",
        "vector = tfidf[corpus[0]]  # apply model to the first corpus document\n",
        "\n",
        "tfidf[corpus][0]\n",
        "\n",
        "id2word.keys() "
      ],
      "execution_count": null,
      "outputs": [
        {
          "output_type": "execute_result",
          "data": {
            "text/plain": [
              "[0, 1, 2, 3, 4, 5, 6, 7, 8, 9]"
            ]
          },
          "metadata": {
            "tags": []
          },
          "execution_count": 27
        }
      ]
    },
    {
      "cell_type": "code",
      "metadata": {
        "id": "aCWgKQs_DwrB",
        "colab_type": "code",
        "colab": {}
      },
      "source": [
        "TfidfModel?"
      ],
      "execution_count": null,
      "outputs": []
    },
    {
      "cell_type": "markdown",
      "metadata": {
        "id": "pwqXNWD5DxYI",
        "colab_type": "text"
      },
      "source": [
        "## 4 LSA(Latent Semantic Analysis)를 활용한 단어 벡터"
      ]
    },
    {
      "cell_type": "markdown",
      "metadata": {
        "id": "fG-4FvGfD03g",
        "colab_type": "text"
      },
      "source": [
        "## 4.1 sklearn 활용"
      ]
    },
    {
      "cell_type": "code",
      "metadata": {
        "id": "aPwEfITLD2dB",
        "colab_type": "code",
        "colab": {
          "base_uri": "https://localhost:8080/",
          "height": 305
        },
        "outputId": "9b70bdf9-b31f-4459-83dd-2e7f9f74f71f"
      },
      "source": [
        "doc_ls = ['바나나 사과 포도 포도',\n",
        "         '사과 포도',\n",
        "         '포도 바나나',\n",
        "         '짜장면 짬뽕 탕수육',\n",
        "         '볶음밥 탕수육',\n",
        "         '짜장면 짬뽕',\n",
        "         '라면 스시',\n",
        "         '스시',\n",
        "         '가츠동 스시 소바',\n",
        "         '된장찌개 김치찌개 김치',\n",
        "         '김치 된장',\n",
        "         '비빔밥 김치'\n",
        "         ]\n",
        "\n",
        "from sklearn.feature_extraction.text import CountVectorizer\n",
        "from sklearn.decomposition import TruncatedSVD\n",
        "\n",
        "count_vect = CountVectorizer()\n",
        "countv = count_vect.fit_transform(doc_ls)\n",
        "svd = TruncatedSVD(n_components=2, algorithm='randomized', n_iter=100)\n",
        "svd.fit(countv)\n",
        "\n",
        "features = count_vect.get_feature_names() # 단어 집합. 1,000개의 단어가 저장됨.\n",
        "for i in range(len(features)) :\n",
        "  print(\"{} : {}\".format(features[i], svd.components_[:,i]))"
      ],
      "execution_count": null,
      "outputs": [
        {
          "output_type": "stream",
          "text": [
            "가츠동 : [-4.07979821e-17 -4.01596694e-16]\n",
            "김치 : [2.09349068e-18 5.76386282e-15]\n",
            "김치찌개 : [9.74570980e-19 2.14627638e-15]\n",
            "된장 : [5.41043651e-18 1.90525027e-15]\n",
            "된장찌개 : [-3.20994703e-18  2.12533234e-15]\n",
            "라면 : [-3.15477209e-18 -2.64913015e-16]\n",
            "바나나 : [4.08248290e-01 1.00752812e-16]\n",
            "볶음밥 : [2.83503999e-23 1.27737006e-01]\n",
            "비빔밥 : [-9.8194756e-18  1.6543782e-15]\n",
            "사과 : [ 4.08248290e-01 -9.29452252e-17]\n",
            "소바 : [-1.79194223e-17 -2.87222716e-16]\n",
            "스시 : [ 2.68951275e-17 -1.98307832e-15]\n",
            "짜장면 : [1.35834926e-22 6.12024764e-01]\n",
            "짬뽕 : [1.35834926e-22 6.12024764e-01]\n",
            "탕수육 : [1.07484526e-22 4.84287758e-01]\n",
            "포도 : [ 8.16496581e-01 -3.90388792e-18]\n"
          ],
          "name": "stdout"
        }
      ]
    },
    {
      "cell_type": "markdown",
      "metadata": {
        "id": "TxosQvqsD2kp",
        "colab_type": "text"
      },
      "source": [
        "## 4.2 gensim 활용"
      ]
    },
    {
      "cell_type": "code",
      "metadata": {
        "id": "FgxG-tTZD2pd",
        "colab_type": "code",
        "colab": {
          "base_uri": "https://localhost:8080/",
          "height": 305
        },
        "outputId": "fe2d4458-7034-41cf-cff9-8943b9dc78c1"
      },
      "source": [
        "doc_ls = ['바나나 사과 포도 포도',\n",
        "         '사과 포도',\n",
        "         '포도 바나나',\n",
        "         '짜장면 짬뽕 탕수육',\n",
        "         '볶음밥 탕수육',\n",
        "         '짜장면 짬뽕',\n",
        "         '라면 스시',\n",
        "         '스시',\n",
        "         '가츠동 스시 소바',\n",
        "         '된장찌개 김치찌개 김치',\n",
        "         '김치 된장',\n",
        "         '비빔밥 김치'\n",
        "]\n",
        "\n",
        "doc_ls = [d.split() for d in doc_ls]\n",
        "\n",
        "from gensim import corpora\n",
        "from gensim.models import LsiModel\n",
        "\n",
        "id2word = corpora.Dictionary(doc_ls) #사전 구축\n",
        "corpus = [id2word.doc2bow(text) for text in doc_ls] # 코퍼스 생성\n",
        "lsi = LsiModel(corpus, id2word=id2word, num_topics=2) #LSA 모델\n",
        "\n",
        "for i in id2word.keys() :\n",
        "  print(\"{} : {}\".format(id2word[i], lsi.projection.u[i]))"
      ],
      "execution_count": null,
      "outputs": [
        {
          "output_type": "stream",
          "text": [
            "바나나 : [4.08248290e-01 1.31910541e-16]\n",
            "사과 : [4.08248290e-01 1.09170574e-16]\n",
            "포도 : [ 8.16496581e-01 -3.65265927e-16]\n",
            "짜장면 : [1.31039257e-16 6.12024764e-01]\n",
            "짬뽕 : [7.32982072e-18 6.12024764e-01]\n",
            "탕수육 : [6.65918541e-17 4.84287758e-01]\n",
            "볶음밥 : [-2.39101133e-18  1.27737006e-01]\n",
            "라면 : [-6.63638628e-17  1.17227874e-15]\n",
            "스시 : [-6.09343866e-17  3.35024221e-15]\n",
            "가츠동 : [-9.24659716e-18  1.35228727e-15]\n",
            "소바 : [-2.7823214e-17  1.3178684e-15]\n",
            "김치 : [-1.01455049e-16  2.16496230e-15]\n",
            "김치찌개 : [-3.56814066e-17  8.95726765e-16]\n",
            "된장찌개 : [-1.19843851e-17  8.85863503e-16]\n",
            "된장 : [-2.29956002e-17  6.53958789e-16]\n",
            "비빔밥 : [-1.67377925e-17  6.27231406e-16]\n"
          ],
          "name": "stdout"
        }
      ]
    },
    {
      "cell_type": "code",
      "metadata": {
        "id": "ux1YTI_vEL3K",
        "colab_type": "code",
        "colab": {}
      },
      "source": [
        ""
      ],
      "execution_count": null,
      "outputs": []
    }
  ]
}