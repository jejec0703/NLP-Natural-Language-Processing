{
  "nbformat": 4,
  "nbformat_minor": 0,
  "metadata": {
    "colab": {
      "name": "seq2seq_mecab_keras",
      "provenance": [],
      "collapsed_sections": [],
      "include_colab_link": true
    },
    "kernelspec": {
      "name": "python3",
      "display_name": "Python 3"
    },
    "accelerator": "GPU"
  },
  "cells": [
    {
      "cell_type": "markdown",
      "metadata": {
        "id": "view-in-github",
        "colab_type": "text"
      },
      "source": [
        "<a href=\"https://colab.research.google.com/github/jejec0703/NLP-Natural-Language-Processing/blob/master/seq2seq_mecab_keras.ipynb\" target=\"_parent\"><img src=\"https://colab.research.google.com/assets/colab-badge.svg\" alt=\"Open In Colab\"/></a>"
      ]
    },
    {
      "cell_type": "code",
      "metadata": {
        "id": "ZNmKPHuqam1J",
        "colab_type": "code",
        "colab": {
          "base_uri": "https://localhost:8080/",
          "height": 631
        },
        "outputId": "fbf91d7c-4d0e-404b-ce54-d2b843a53411"
      },
      "source": [
        "!pip install konlpy"
      ],
      "execution_count": 1,
      "outputs": [
        {
          "output_type": "stream",
          "text": [
            "Collecting konlpy\n",
            "\u001b[?25l  Downloading https://files.pythonhosted.org/packages/85/0e/f385566fec837c0b83f216b2da65db9997b35dd675e107752005b7d392b1/konlpy-0.5.2-py2.py3-none-any.whl (19.4MB)\n",
            "\u001b[K     |████████████████████████████████| 19.4MB 72.1MB/s \n",
            "\u001b[?25hRequirement already satisfied: lxml>=4.1.0 in /usr/local/lib/python3.6/dist-packages (from konlpy) (4.2.6)\n",
            "Collecting JPype1>=0.7.0\n",
            "\u001b[?25l  Downloading https://files.pythonhosted.org/packages/8b/f7/a368401e630f0e390dd0e62c39fb928e5b23741b53c2360ee7d376660927/JPype1-1.0.2-cp36-cp36m-manylinux2010_x86_64.whl (3.8MB)\n",
            "\u001b[K     |████████████████████████████████| 3.8MB 55.8MB/s \n",
            "\u001b[?25hCollecting beautifulsoup4==4.6.0\n",
            "\u001b[?25l  Downloading https://files.pythonhosted.org/packages/9e/d4/10f46e5cfac773e22707237bfcd51bbffeaf0a576b0a847ec7ab15bd7ace/beautifulsoup4-4.6.0-py3-none-any.whl (86kB)\n",
            "\u001b[K     |████████████████████████████████| 92kB 11.7MB/s \n",
            "\u001b[?25hCollecting colorama\n",
            "  Downloading https://files.pythonhosted.org/packages/c9/dc/45cdef1b4d119eb96316b3117e6d5708a08029992b2fee2c143c7a0a5cc5/colorama-0.4.3-py2.py3-none-any.whl\n",
            "Collecting tweepy>=3.7.0\n",
            "  Downloading https://files.pythonhosted.org/packages/bb/7c/99d51f80f3b77b107ebae2634108717362c059a41384a1810d13e2429a81/tweepy-3.9.0-py2.py3-none-any.whl\n",
            "Requirement already satisfied: numpy>=1.6 in /usr/local/lib/python3.6/dist-packages (from konlpy) (1.18.5)\n",
            "Requirement already satisfied: typing-extensions; python_version < \"3.8\" in /usr/local/lib/python3.6/dist-packages (from JPype1>=0.7.0->konlpy) (3.7.4.2)\n",
            "Requirement already satisfied: requests[socks]>=2.11.1 in /usr/local/lib/python3.6/dist-packages (from tweepy>=3.7.0->konlpy) (2.23.0)\n",
            "Requirement already satisfied: six>=1.10.0 in /usr/local/lib/python3.6/dist-packages (from tweepy>=3.7.0->konlpy) (1.15.0)\n",
            "Requirement already satisfied: requests-oauthlib>=0.7.0 in /usr/local/lib/python3.6/dist-packages (from tweepy>=3.7.0->konlpy) (1.3.0)\n",
            "Requirement already satisfied: urllib3!=1.25.0,!=1.25.1,<1.26,>=1.21.1 in /usr/local/lib/python3.6/dist-packages (from requests[socks]>=2.11.1->tweepy>=3.7.0->konlpy) (1.24.3)\n",
            "Requirement already satisfied: chardet<4,>=3.0.2 in /usr/local/lib/python3.6/dist-packages (from requests[socks]>=2.11.1->tweepy>=3.7.0->konlpy) (3.0.4)\n",
            "Requirement already satisfied: certifi>=2017.4.17 in /usr/local/lib/python3.6/dist-packages (from requests[socks]>=2.11.1->tweepy>=3.7.0->konlpy) (2020.6.20)\n",
            "Requirement already satisfied: idna<3,>=2.5 in /usr/local/lib/python3.6/dist-packages (from requests[socks]>=2.11.1->tweepy>=3.7.0->konlpy) (2.10)\n",
            "Requirement already satisfied: PySocks!=1.5.7,>=1.5.6; extra == \"socks\" in /usr/local/lib/python3.6/dist-packages (from requests[socks]>=2.11.1->tweepy>=3.7.0->konlpy) (1.7.1)\n",
            "Requirement already satisfied: oauthlib>=3.0.0 in /usr/local/lib/python3.6/dist-packages (from requests-oauthlib>=0.7.0->tweepy>=3.7.0->konlpy) (3.1.0)\n",
            "Installing collected packages: JPype1, beautifulsoup4, colorama, tweepy, konlpy\n",
            "  Found existing installation: beautifulsoup4 4.6.3\n",
            "    Uninstalling beautifulsoup4-4.6.3:\n",
            "      Successfully uninstalled beautifulsoup4-4.6.3\n",
            "  Found existing installation: tweepy 3.6.0\n",
            "    Uninstalling tweepy-3.6.0:\n",
            "      Successfully uninstalled tweepy-3.6.0\n",
            "Successfully installed JPype1-1.0.2 beautifulsoup4-4.6.0 colorama-0.4.3 konlpy-0.5.2 tweepy-3.9.0\n"
          ],
          "name": "stdout"
        }
      ]
    },
    {
      "cell_type": "code",
      "metadata": {
        "id": "Nv-nGWB3aeXs",
        "colab_type": "code",
        "colab": {
          "base_uri": "https://localhost:8080/",
          "height": 127
        },
        "outputId": "a81bf490-0f88-4d49-dc25-4850c621faa2"
      },
      "source": [
        "import tensorflow as tf\n",
        "import matplotlib.pyplot as plt\n",
        "import matplotlib.ticker as ticker\n",
        "from sklearn.model_selection import train_test_split\n",
        "import unicodedata\n",
        "import re\n",
        "import numpy as np\n",
        "import os\n",
        "import io\n",
        "import time\n",
        "from google.colab import drive\n",
        "\n",
        "drive.mount('/gdrive', force_remount=True)"
      ],
      "execution_count": 2,
      "outputs": [
        {
          "output_type": "stream",
          "text": [
            "Go to this URL in a browser: https://accounts.google.com/o/oauth2/auth?client_id=947318989803-6bn6qk8qdgf4n4g3pfee6491hc0brc4i.apps.googleusercontent.com&redirect_uri=urn%3aietf%3awg%3aoauth%3a2.0%3aoob&scope=email%20https%3a%2f%2fwww.googleapis.com%2fauth%2fdocs.test%20https%3a%2f%2fwww.googleapis.com%2fauth%2fdrive%20https%3a%2f%2fwww.googleapis.com%2fauth%2fdrive.photos.readonly%20https%3a%2f%2fwww.googleapis.com%2fauth%2fpeopleapi.readonly&response_type=code\n",
            "\n",
            "Enter your authorization code:\n",
            "··········\n",
            "Mounted at /gdrive\n"
          ],
          "name": "stdout"
        }
      ]
    },
    {
      "cell_type": "code",
      "metadata": {
        "id": "tIh_1t3cw5md",
        "colab_type": "code",
        "colab": {
          "base_uri": "https://localhost:8080/",
          "height": 35
        },
        "outputId": "93900fea-1399-4b99-bd8c-f313850426be"
      },
      "source": [
        "from google.colab import drive\n",
        "drive.mount('/content/drive')"
      ],
      "execution_count": 3,
      "outputs": [
        {
          "output_type": "stream",
          "text": [
            "Mounted at /content/drive\n"
          ],
          "name": "stdout"
        }
      ]
    },
    {
      "cell_type": "code",
      "metadata": {
        "id": "B5cNaBHybT0o",
        "colab_type": "code",
        "colab": {}
      },
      "source": [
        "import pandas as pd\n",
        "news_df = pd.read_excel('/content/drive/My Drive/Projects/3. seq2seq/kor.xlsx', sheet_name='Sheet1')\n",
        "train_df, val_df, test_df = news_df.iloc[:50000, 1:], news_df.iloc[50000:63000, 1:], news_df.iloc[63000:, 1:]"
      ],
      "execution_count": 6,
      "outputs": []
    },
    {
      "cell_type": "code",
      "metadata": {
        "id": "o-ffCzAvyKgt",
        "colab_type": "code",
        "colab": {
          "base_uri": "https://localhost:8080/",
          "height": 1000
        },
        "outputId": "601859fc-bb68-4b30-c677-13358b62e502"
      },
      "source": [
        "!sudo apt-get install g++ openjdk-7-jdk # Install Java 1.7+\n",
        "!sudo apt-get install python-dev; pip install konlpy     # Python 2.x\n",
        "!sudo apt-get install python3-dev; pip3 install konlpy   # Python 3.x\n",
        "!sudo apt-get install curl\n",
        "!bash <(curl -s https://raw.githubusercontent.com/konlpy/konlpy/master/scripts/mecab.sh)\n",
        "from konlpy.tag import Mecab\n",
        "mecab = Mecab()"
      ],
      "execution_count": 7,
      "outputs": [
        {
          "output_type": "stream",
          "text": [
            "\rReading package lists... 0%\r\rReading package lists... 0%\r\rReading package lists... 0%\r\rReading package lists... 6%\r\rReading package lists... 6%\r\rReading package lists... 6%\r\rReading package lists... 6%\r\rReading package lists... 61%\r\rReading package lists... 61%\r\rReading package lists... 61%\r\rReading package lists... 61%\r\rReading package lists... 69%\r\rReading package lists... 69%\r\rReading package lists... 70%\r\rReading package lists... 70%\r\rReading package lists... 78%\r\rReading package lists... 79%\r\rReading package lists... 79%\r\rReading package lists... 80%\r\rReading package lists... 80%\r\rReading package lists... 80%\r\rReading package lists... 80%\r\rReading package lists... 80%\r\rReading package lists... 80%\r\rReading package lists... 86%\r\rReading package lists... 86%\r\rReading package lists... 87%\r\rReading package lists... 87%\r\rReading package lists... 92%\r\rReading package lists... 92%\r\rReading package lists... 92%\r\rReading package lists... 92%\r\rReading package lists... 93%\r\rReading package lists... 93%\r\rReading package lists... 94%\r\rReading package lists... 94%\r\rReading package lists... 95%\r\rReading package lists... 95%\r\rReading package lists... 98%\r\rReading package lists... 98%\r\rReading package lists... 98%\r\rReading package lists... 98%\r\rReading package lists... Done\r\n",
            "\rBuilding dependency tree... 0%\r\rBuilding dependency tree... 0%\r\rBuilding dependency tree... 50%\r\rBuilding dependency tree... 50%\r\rBuilding dependency tree       \r\n",
            "\rReading state information... 0%\r\rReading state information... 0%\r\rReading state information... Done\r\n",
            "Package openjdk-7-jdk is not available, but is referred to by another package.\n",
            "This may mean that the package is missing, has been obsoleted, or\n",
            "is only available from another source\n",
            "\n",
            "E: Package 'openjdk-7-jdk' has no installation candidate\n",
            "Reading package lists... Done\n",
            "Building dependency tree       \n",
            "Reading state information... Done\n",
            "python-dev is already the newest version (2.7.15~rc1-1).\n",
            "The following package was automatically installed and is no longer required:\n",
            "  libnvidia-common-440\n",
            "Use 'sudo apt autoremove' to remove it.\n",
            "0 upgraded, 0 newly installed, 0 to remove and 54 not upgraded.\n",
            "Requirement already satisfied: konlpy in /usr/local/lib/python3.6/dist-packages (0.5.2)\n",
            "Requirement already satisfied: numpy>=1.6 in /usr/local/lib/python3.6/dist-packages (from konlpy) (1.18.5)\n",
            "Requirement already satisfied: tweepy>=3.7.0 in /usr/local/lib/python3.6/dist-packages (from konlpy) (3.9.0)\n",
            "Requirement already satisfied: colorama in /usr/local/lib/python3.6/dist-packages (from konlpy) (0.4.3)\n",
            "Requirement already satisfied: beautifulsoup4==4.6.0 in /usr/local/lib/python3.6/dist-packages (from konlpy) (4.6.0)\n",
            "Requirement already satisfied: JPype1>=0.7.0 in /usr/local/lib/python3.6/dist-packages (from konlpy) (1.0.2)\n",
            "Requirement already satisfied: lxml>=4.1.0 in /usr/local/lib/python3.6/dist-packages (from konlpy) (4.2.6)\n",
            "Requirement already satisfied: requests-oauthlib>=0.7.0 in /usr/local/lib/python3.6/dist-packages (from tweepy>=3.7.0->konlpy) (1.3.0)\n",
            "Requirement already satisfied: requests[socks]>=2.11.1 in /usr/local/lib/python3.6/dist-packages (from tweepy>=3.7.0->konlpy) (2.23.0)\n",
            "Requirement already satisfied: six>=1.10.0 in /usr/local/lib/python3.6/dist-packages (from tweepy>=3.7.0->konlpy) (1.15.0)\n",
            "Requirement already satisfied: typing-extensions; python_version < \"3.8\" in /usr/local/lib/python3.6/dist-packages (from JPype1>=0.7.0->konlpy) (3.7.4.2)\n",
            "Requirement already satisfied: oauthlib>=3.0.0 in /usr/local/lib/python3.6/dist-packages (from requests-oauthlib>=0.7.0->tweepy>=3.7.0->konlpy) (3.1.0)\n",
            "Requirement already satisfied: urllib3!=1.25.0,!=1.25.1,<1.26,>=1.21.1 in /usr/local/lib/python3.6/dist-packages (from requests[socks]>=2.11.1->tweepy>=3.7.0->konlpy) (1.24.3)\n",
            "Requirement already satisfied: idna<3,>=2.5 in /usr/local/lib/python3.6/dist-packages (from requests[socks]>=2.11.1->tweepy>=3.7.0->konlpy) (2.10)\n",
            "Requirement already satisfied: chardet<4,>=3.0.2 in /usr/local/lib/python3.6/dist-packages (from requests[socks]>=2.11.1->tweepy>=3.7.0->konlpy) (3.0.4)\n",
            "Requirement already satisfied: certifi>=2017.4.17 in /usr/local/lib/python3.6/dist-packages (from requests[socks]>=2.11.1->tweepy>=3.7.0->konlpy) (2020.6.20)\n",
            "Requirement already satisfied: PySocks!=1.5.7,>=1.5.6; extra == \"socks\" in /usr/local/lib/python3.6/dist-packages (from requests[socks]>=2.11.1->tweepy>=3.7.0->konlpy) (1.7.1)\n",
            "Reading package lists... Done\n",
            "Building dependency tree       \n",
            "Reading state information... Done\n",
            "python3-dev is already the newest version (3.6.7-1~18.04).\n",
            "The following package was automatically installed and is no longer required:\n",
            "  libnvidia-common-440\n",
            "Use 'sudo apt autoremove' to remove it.\n",
            "0 upgraded, 0 newly installed, 0 to remove and 54 not upgraded.\n",
            "Requirement already satisfied: konlpy in /usr/local/lib/python3.6/dist-packages (0.5.2)\n",
            "Requirement already satisfied: beautifulsoup4==4.6.0 in /usr/local/lib/python3.6/dist-packages (from konlpy) (4.6.0)\n",
            "Requirement already satisfied: numpy>=1.6 in /usr/local/lib/python3.6/dist-packages (from konlpy) (1.18.5)\n",
            "Requirement already satisfied: tweepy>=3.7.0 in /usr/local/lib/python3.6/dist-packages (from konlpy) (3.9.0)\n",
            "Requirement already satisfied: colorama in /usr/local/lib/python3.6/dist-packages (from konlpy) (0.4.3)\n",
            "Requirement already satisfied: lxml>=4.1.0 in /usr/local/lib/python3.6/dist-packages (from konlpy) (4.2.6)\n",
            "Requirement already satisfied: JPype1>=0.7.0 in /usr/local/lib/python3.6/dist-packages (from konlpy) (1.0.2)\n",
            "Requirement already satisfied: requests[socks]>=2.11.1 in /usr/local/lib/python3.6/dist-packages (from tweepy>=3.7.0->konlpy) (2.23.0)\n",
            "Requirement already satisfied: six>=1.10.0 in /usr/local/lib/python3.6/dist-packages (from tweepy>=3.7.0->konlpy) (1.15.0)\n",
            "Requirement already satisfied: requests-oauthlib>=0.7.0 in /usr/local/lib/python3.6/dist-packages (from tweepy>=3.7.0->konlpy) (1.3.0)\n",
            "Requirement already satisfied: typing-extensions; python_version < \"3.8\" in /usr/local/lib/python3.6/dist-packages (from JPype1>=0.7.0->konlpy) (3.7.4.2)\n",
            "Requirement already satisfied: idna<3,>=2.5 in /usr/local/lib/python3.6/dist-packages (from requests[socks]>=2.11.1->tweepy>=3.7.0->konlpy) (2.10)\n",
            "Requirement already satisfied: urllib3!=1.25.0,!=1.25.1,<1.26,>=1.21.1 in /usr/local/lib/python3.6/dist-packages (from requests[socks]>=2.11.1->tweepy>=3.7.0->konlpy) (1.24.3)\n",
            "Requirement already satisfied: chardet<4,>=3.0.2 in /usr/local/lib/python3.6/dist-packages (from requests[socks]>=2.11.1->tweepy>=3.7.0->konlpy) (3.0.4)\n",
            "Requirement already satisfied: certifi>=2017.4.17 in /usr/local/lib/python3.6/dist-packages (from requests[socks]>=2.11.1->tweepy>=3.7.0->konlpy) (2020.6.20)\n",
            "Requirement already satisfied: PySocks!=1.5.7,>=1.5.6; extra == \"socks\" in /usr/local/lib/python3.6/dist-packages (from requests[socks]>=2.11.1->tweepy>=3.7.0->konlpy) (1.7.1)\n",
            "Requirement already satisfied: oauthlib>=3.0.0 in /usr/local/lib/python3.6/dist-packages (from requests-oauthlib>=0.7.0->tweepy>=3.7.0->konlpy) (3.1.0)\n",
            "Reading package lists... Done\n",
            "Building dependency tree       \n",
            "Reading state information... Done\n",
            "curl is already the newest version (7.58.0-2ubuntu3.9).\n",
            "The following package was automatically installed and is no longer required:\n",
            "  libnvidia-common-440\n",
            "Use 'sudo apt autoremove' to remove it.\n",
            "0 upgraded, 0 newly installed, 0 to remove and 54 not upgraded.\n",
            "mecab-ko is already installed\n",
            "mecab-ko-dic is already installed\n",
            "mecab-python is already installed\n",
            "Done.\n"
          ],
          "name": "stdout"
        }
      ]
    },
    {
      "cell_type": "code",
      "metadata": {
        "id": "XXus8NdNb73Y",
        "colab_type": "code",
        "colab": {}
      },
      "source": [
        "def preprocess_sentences_eng(sentences):\n",
        "    sentence = []\n",
        "    for line in sentences:\n",
        "        w = '<sos> '+line+' <eos>'\n",
        "        sentence.append(w)\n",
        "    return sentence\n",
        "def preprocess_sentences_kor(sentences):\n",
        "    mecab = Mecab()\n",
        "    sentence = []\n",
        "    for line in sentences:\n",
        "        tokens = [i[0] for i in mecab.pos(line)]\n",
        "        tokens.insert(0,'<eos>')\n",
        "        tokens.append('<sos>')\n",
        "        sentence.append(' '.join(tokens[::-1]))\n",
        "    return sentence\n",
        "\n",
        "def backprocess_sentence(sentence):\n",
        "    tokens = sentence.split()\n",
        "    tokens = tokens[1:-1]\n",
        "    return ' '.join(tokens)"
      ],
      "execution_count": 8,
      "outputs": []
    },
    {
      "cell_type": "code",
      "metadata": {
        "id": "77RvT7izsKYu",
        "colab_type": "code",
        "colab": {}
      },
      "source": [
        "train_en, test_en, val_en, train_kor, test_kor, val_kor = train_df['en'], test_df['en'], val_df['en'], train_df['ko'], test_df['ko'], val_df['ko']"
      ],
      "execution_count": 9,
      "outputs": []
    },
    {
      "cell_type": "code",
      "metadata": {
        "id": "sioFo_BLsKde",
        "colab_type": "code",
        "colab": {}
      },
      "source": [
        "def tokenize(lang):\n",
        "  lang_tokenizer = tf.keras.preprocessing.text.Tokenizer(\n",
        "      filters='', oov_token='<UNK>')\n",
        "  lang_tokenizer.fit_on_texts(lang)\n",
        "\n",
        "  tensor = lang_tokenizer.texts_to_sequences(lang)\n",
        "\n",
        "  tensor = tf.keras.preprocessing.sequence.pad_sequences(tensor,\n",
        "                                                         padding='post')\n",
        "\n",
        "  return tensor, lang_tokenizer"
      ],
      "execution_count": 10,
      "outputs": []
    },
    {
      "cell_type": "code",
      "metadata": {
        "id": "vVHKapVIvVle",
        "colab_type": "code",
        "colab": {}
      },
      "source": [
        "train_en = preprocess_sentences_eng(train_en)\n",
        "train_kor = preprocess_sentences_kor(train_kor)\n",
        "val_en = preprocess_sentences_eng(val_en)\n",
        "val_kor = preprocess_sentences_kor(val_kor)"
      ],
      "execution_count": 11,
      "outputs": []
    },
    {
      "cell_type": "code",
      "metadata": {
        "id": "Juv1Ynvgyx3W",
        "colab_type": "code",
        "colab": {
          "base_uri": "https://localhost:8080/",
          "height": 71
        },
        "outputId": "6fcb89df-2f8f-40fd-f4d5-303217707ffb"
      },
      "source": [
        "val_en[:3]"
      ],
      "execution_count": 12,
      "outputs": [
        {
          "output_type": "execute_result",
          "data": {
            "text/plain": [
              "['<sos> For this summer, I have a dream to travel abroad. <eos>',\n",
              " \"<sos> For example, it is touching women's sensitive post. <eos>\",\n",
              " \"<sos> I prefer to go on a trip by ship, because it's more fun. <eos>\"]"
            ]
          },
          "metadata": {
            "tags": []
          },
          "execution_count": 12
        }
      ]
    },
    {
      "cell_type": "code",
      "metadata": {
        "id": "PwoQt-NAuIEj",
        "colab_type": "code",
        "colab": {}
      },
      "source": [
        "#train_set 들로 tokenizer에 fit 시킨다\n",
        "input_tensor_train, inp_lang = tokenize(train_kor)\n",
        "target_tensor_train, targ_lang = tokenize(train_en)"
      ],
      "execution_count": 13,
      "outputs": []
    },
    {
      "cell_type": "code",
      "metadata": {
        "id": "VIKfzXNfwChu",
        "colab_type": "code",
        "colab": {
          "base_uri": "https://localhost:8080/",
          "height": 89
        },
        "outputId": "1cd0fa52-cebe-457a-939c-ea8c9ba4cf49"
      },
      "source": [
        "max_length_targ, max_length_inp = target_tensor_train.shape[1], input_tensor_train.shape[1]\n",
        "print('kor vocab size : {}\\nen vocab size : {}'.format(len(inp_lang.word_index), len(targ_lang.word_index)))\n",
        "print('kor_sentence_maxlen : {}\\nen_sentence_maxlen : {}'.format(max_length_inp, max_length_targ))"
      ],
      "execution_count": 14,
      "outputs": [
        {
          "output_type": "stream",
          "text": [
            "kor vocab size : 17827\n",
            "en vocab size : 25457\n",
            "kor_sentence_maxlen : 32\n",
            "en_sentence_maxlen : 19\n"
          ],
          "name": "stdout"
        }
      ]
    },
    {
      "cell_type": "code",
      "metadata": {
        "id": "ZQDndHCyh7Xm",
        "colab_type": "code",
        "colab": {}
      },
      "source": [
        "def tokenize_test(sent,lang='en'):\n",
        "    if lang=='ko':\n",
        "        tensor = inp_lang.texts_to_sequences(sent)\n",
        "        tensor = tf.keras.preprocessing.sequence.pad_sequences(tensor,maxlen = max_length_inp,\n",
        "                                                         padding='post')\n",
        "        return tensor\n",
        "    else :\n",
        "        tensor = targ_lang.texts_to_sequences(sent)\n",
        "        tensor = tf.keras.preprocessing.sequence.pad_sequences(tensor,maxlen =max_length_targ,\n",
        "                                                         padding='post')\n",
        "        return tensor"
      ],
      "execution_count": 15,
      "outputs": []
    },
    {
      "cell_type": "code",
      "metadata": {
        "id": "5Q2EPlCJyQSm",
        "colab_type": "code",
        "colab": {}
      },
      "source": [
        "input_tensor_val = tokenize_test(val_kor, lang='ko')\n",
        "target_tensor_val = tokenize_test(val_en, lang='en')"
      ],
      "execution_count": 16,
      "outputs": []
    },
    {
      "cell_type": "code",
      "metadata": {
        "id": "IK4C7z95ubiY",
        "colab_type": "code",
        "colab": {
          "base_uri": "https://localhost:8080/",
          "height": 143
        },
        "outputId": "71cb04af-4270-460e-8563-36debea1cb9a"
      },
      "source": [
        "input_tensor_val"
      ],
      "execution_count": 17,
      "outputs": [
        {
          "output_type": "execute_result",
          "data": {
            "text/plain": [
              "array([[ 2,  4, 27, ...,  0,  0,  0],\n",
              "       [ 2,  4, 27, ...,  0,  0,  0],\n",
              "       [ 2,  4, 27, ...,  0,  0,  0],\n",
              "       ...,\n",
              "       [ 2,  4, 16, ...,  0,  0,  0],\n",
              "       [ 2,  4, 16, ...,  0,  0,  0],\n",
              "       [ 2,  4, 16, ...,  0,  0,  0]], dtype=int32)"
            ]
          },
          "metadata": {
            "tags": []
          },
          "execution_count": 17
        }
      ]
    },
    {
      "cell_type": "code",
      "metadata": {
        "id": "YoTj9yiTwUrh",
        "colab_type": "code",
        "colab": {
          "base_uri": "https://localhost:8080/",
          "height": 233
        },
        "outputId": "ed4dc047-9298-4a03-cbb0-77e381b090d4"
      },
      "source": [
        "def convert(lang, tensor):\n",
        "  for t in tensor:\n",
        "    if t!=0:\n",
        "      print (\"%d ----> %s\" % (t, lang.index_word[t]))\n",
        "convert(targ_lang, target_tensor_train[0])"
      ],
      "execution_count": 18,
      "outputs": [
        {
          "output_type": "stream",
          "text": [
            "2 ----> <sos>\n",
            "4 ----> i\n",
            "44 ----> go\n",
            "6 ----> to\n",
            "5 ----> the\n",
            "12376 ----> attic\n",
            "197 ----> every\n",
            "1749 ----> evening\n",
            "6 ----> to\n",
            "128 ----> meet\n",
            "12377 ----> bat.\n",
            "3 ----> <eos>\n"
          ],
          "name": "stdout"
        }
      ]
    },
    {
      "cell_type": "code",
      "metadata": {
        "id": "5hAyyyRkxw9Y",
        "colab_type": "code",
        "colab": {}
      },
      "source": [
        "BUFFER_SIZE = len(input_tensor_train)\n",
        "BATCH_SIZE = 64\n",
        "steps_per_epoch = len(input_tensor_train)//BATCH_SIZE\n",
        "embedding_dim = 256\n",
        "units = 1024\n",
        "vocab_inp_size = len(inp_lang.word_index)+1\n",
        "vocab_tar_size = len(targ_lang.word_index)+1\n",
        "\n",
        "dataset = tf.data.Dataset.from_tensor_slices((input_tensor_train, target_tensor_train)).shuffle(BUFFER_SIZE)\n",
        "dataset = dataset.batch(BATCH_SIZE, drop_remainder=True)\n",
        "\n",
        "#validation set 나누기\n",
        "\n",
        "val_dataset = tf.data.Dataset.from_tensor_slices((input_tensor_val, target_tensor_val))\n",
        "val_dataset = val_dataset.batch(BATCH_SIZE, drop_remainder=True)"
      ],
      "execution_count": 19,
      "outputs": []
    },
    {
      "cell_type": "code",
      "metadata": {
        "id": "_thX5ObOxxfY",
        "colab_type": "code",
        "colab": {
          "base_uri": "https://localhost:8080/",
          "height": 35
        },
        "outputId": "f6204600-b4a6-414b-f0c4-f2de8a2ccddb"
      },
      "source": [
        "example_input_batch, example_target_batch = next(iter(dataset))\n",
        "example_input_batch.shape, example_target_batch.shape "
      ],
      "execution_count": 20,
      "outputs": [
        {
          "output_type": "execute_result",
          "data": {
            "text/plain": [
              "(TensorShape([64, 32]), TensorShape([64, 19]))"
            ]
          },
          "metadata": {
            "tags": []
          },
          "execution_count": 20
        }
      ]
    },
    {
      "cell_type": "code",
      "metadata": {
        "id": "LDWD3W71xxdO",
        "colab_type": "code",
        "colab": {}
      },
      "source": [
        "class Encoder(tf.keras.Model):\n",
        "  def __init__(self, vocab_size, embedding_dim, enc_units, batch_sz):\n",
        "    super(Encoder, self).__init__()\n",
        "    self.batch_sz = batch_sz\n",
        "    self.enc_units = enc_units\n",
        "    self.embedding = tf.keras.layers.Embedding(vocab_size, embedding_dim)\n",
        "    self.gru = tf.keras.layers.GRU(self.enc_units,\n",
        "                                   return_sequences=True,\n",
        "                                   return_state=True,\n",
        "                                   recurrent_initializer='glorot_uniform')\n",
        "\n",
        "  def call(self, x, hidden):\n",
        "    x = self.embedding(x)\n",
        "    output, state = self.gru(x, initial_state = hidden)\n",
        "    return output, state\n",
        "\n",
        "  def initialize_hidden_state(self):\n",
        "    return tf.zeros((self.batch_sz, self.enc_units))"
      ],
      "execution_count": 21,
      "outputs": []
    },
    {
      "cell_type": "code",
      "metadata": {
        "id": "3JlgiYGMzfXN",
        "colab_type": "code",
        "colab": {
          "base_uri": "https://localhost:8080/",
          "height": 53
        },
        "outputId": "945f5d60-030c-4a69-8757-c79d8fdd5454"
      },
      "source": [
        "encoder = Encoder(vocab_inp_size, embedding_dim, units, BATCH_SIZE)\n",
        "\n",
        "# sample input\n",
        "sample_hidden = encoder.initialize_hidden_state()\n",
        "sample_output, sample_hidden = encoder(example_input_batch, sample_hidden)\n",
        "print ('Encoder output shape: (batch size, sequence length, units) {}'.format(sample_output.shape))\n",
        "print ('Encoder Hidden state shape: (batch size, units) {}'.format(sample_hidden.shape))"
      ],
      "execution_count": 22,
      "outputs": [
        {
          "output_type": "stream",
          "text": [
            "Encoder output shape: (batch size, sequence length, units) (64, 32, 1024)\n",
            "Encoder Hidden state shape: (batch size, units) (64, 1024)\n"
          ],
          "name": "stdout"
        }
      ]
    },
    {
      "cell_type": "code",
      "metadata": {
        "id": "NM0sHV-1ze8s",
        "colab_type": "code",
        "colab": {}
      },
      "source": [
        "class BahdanauAttention(tf.keras.layers.Layer):\n",
        "  def __init__(self, units):\n",
        "    super(BahdanauAttention, self).__init__()\n",
        "    self.W1 = tf.keras.layers.Dense(units)\n",
        "    self.W2 = tf.keras.layers.Dense(units)\n",
        "    self.V = tf.keras.layers.Dense(1)\n",
        "\n",
        "  def call(self, query, values):\n",
        "    # query hidden state shape == (batch_size, hidden size)\n",
        "    # query_with_time_axis shape == (batch_size, 1, hidden size)\n",
        "    # values shape == (batch_size, max_len, hidden size)\n",
        "    # we are doing this to broadcast addition along the time axis to calculate the score\n",
        "    query_with_time_axis = tf.expand_dims(query, 1)\n",
        "\n",
        "    # score shape == (batch_size, max_length, 1)\n",
        "    # we get 1 at the last axis because we are applying score to self.V\n",
        "    # the shape of the tensor before applying self.V is (batch_size, max_length, units)\n",
        "    score = self.V(tf.nn.tanh(\n",
        "        self.W1(query_with_time_axis) + self.W2(values)))\n",
        "\n",
        "    # attention_weights shape == (batch_size, max_length, 1)\n",
        "    attention_weights = tf.nn.softmax(score, axis=1)\n",
        "\n",
        "    # context_vector shape after sum == (batch_size, hidden_size)\n",
        "    context_vector = attention_weights * values\n",
        "    context_vector = tf.reduce_sum(context_vector, axis=1)\n",
        "\n",
        "    return context_vector, attention_weights"
      ],
      "execution_count": 23,
      "outputs": []
    },
    {
      "cell_type": "code",
      "metadata": {
        "id": "sGu1Dh8Gzex-",
        "colab_type": "code",
        "colab": {
          "base_uri": "https://localhost:8080/",
          "height": 53
        },
        "outputId": "1be5faff-9c2e-47ba-9338-3d640fd00fd3"
      },
      "source": [
        "attention_layer = BahdanauAttention(10)\n",
        "attention_result, attention_weights = attention_layer(sample_hidden, sample_output)\n",
        "\n",
        "print(\"Attention result shape: (batch size, units) {}\".format(attention_result.shape))\n",
        "print(\"Attention weights shape: (batch_size, sequence_length, 1) {}\".format(attention_weights.shape))"
      ],
      "execution_count": 24,
      "outputs": [
        {
          "output_type": "stream",
          "text": [
            "Attention result shape: (batch size, units) (64, 1024)\n",
            "Attention weights shape: (batch_size, sequence_length, 1) (64, 32, 1)\n"
          ],
          "name": "stdout"
        }
      ]
    },
    {
      "cell_type": "code",
      "metadata": {
        "id": "D_ubfXA-zjGW",
        "colab_type": "code",
        "colab": {}
      },
      "source": [
        "class Decoder(tf.keras.Model):\n",
        "  def __init__(self, vocab_size, embedding_dim, dec_units, batch_sz):\n",
        "    super(Decoder, self).__init__()\n",
        "    self.batch_sz = batch_sz\n",
        "    self.dec_units = dec_units\n",
        "    self.embedding = tf.keras.layers.Embedding(vocab_size, embedding_dim)\n",
        "    self.gru = tf.keras.layers.GRU(self.dec_units,\n",
        "                                   return_sequences=True,\n",
        "                                   return_state=True,\n",
        "                                   recurrent_initializer='glorot_uniform')\n",
        "    self.fc = tf.keras.layers.Dense(vocab_size)\n",
        "\n",
        "    # used for attention\n",
        "    self.attention = BahdanauAttention(self.dec_units)\n",
        "\n",
        "  def call(self, x, hidden, enc_output):\n",
        "    # enc_output shape == (batch_size, max_length, hidden_size)\n",
        "    context_vector, attention_weights = self.attention(hidden, enc_output)\n",
        "\n",
        "    # x shape after passing through embedding == (batch_size, 1, embedding_dim)\n",
        "    x = self.embedding(x)\n",
        "\n",
        "    # x shape after concatenation == (batch_size, 1, embedding_dim + hidden_size)\n",
        "    x = tf.concat([tf.expand_dims(context_vector, 1), x], axis=-1)\n",
        "\n",
        "    # passing the concatenated vector to the GRU\n",
        "    output, state = self.gru(x)\n",
        "\n",
        "    # output shape == (batch_size * 1, hidden_size)\n",
        "    output = tf.reshape(output, (-1, output.shape[2]))\n",
        "\n",
        "    # output shape == (batch_size, vocab)\n",
        "    x = self.fc(output)\n",
        "\n",
        "    return x, state, attention_weights"
      ],
      "execution_count": 25,
      "outputs": []
    },
    {
      "cell_type": "code",
      "metadata": {
        "id": "gA6xP2Xpzjjk",
        "colab_type": "code",
        "colab": {
          "base_uri": "https://localhost:8080/",
          "height": 35
        },
        "outputId": "b99a5a14-62e5-4b79-9eb1-2cc5d708e05e"
      },
      "source": [
        "decoder = Decoder(vocab_tar_size, embedding_dim, units, BATCH_SIZE)\n",
        "\n",
        "sample_decoder_output, _, _ = decoder(tf.random.uniform((BATCH_SIZE, 1)),\n",
        "                                      sample_hidden, sample_output)\n",
        "\n",
        "print ('Decoder output shape: (batch_size, vocab size) {}'.format(sample_decoder_output.shape))"
      ],
      "execution_count": 26,
      "outputs": [
        {
          "output_type": "stream",
          "text": [
            "Decoder output shape: (batch_size, vocab size) (64, 25458)\n"
          ],
          "name": "stdout"
        }
      ]
    },
    {
      "cell_type": "code",
      "metadata": {
        "id": "jo98Sj63zi-U",
        "colab_type": "code",
        "colab": {}
      },
      "source": [
        "optimizer = tf.keras.optimizers.Adam()\n",
        "loss_object = tf.keras.losses.SparseCategoricalCrossentropy(\n",
        "    from_logits=True, reduction='none')\n",
        "\n",
        "def loss_function(real, pred):\n",
        "  mask = tf.math.logical_not(tf.math.equal(real, 0))\n",
        "  loss_ = loss_object(real, pred)\n",
        "\n",
        "  mask = tf.cast(mask, dtype=loss_.dtype)\n",
        "  loss_ *= mask\n",
        "\n",
        "  return tf.reduce_mean(loss_)"
      ],
      "execution_count": 27,
      "outputs": []
    },
    {
      "cell_type": "code",
      "metadata": {
        "id": "dKvojBSdftRt",
        "colab_type": "code",
        "colab": {}
      },
      "source": [
        "!pip install -q pyyaml h5py"
      ],
      "execution_count": 28,
      "outputs": []
    },
    {
      "cell_type": "code",
      "metadata": {
        "id": "j97NLhnKf1cj",
        "colab_type": "code",
        "colab": {}
      },
      "source": [
        "# checkpoint_path = \"/content/drive/My Drive/Projects/3. seq2seq\"\n",
        "# checkpoint_dir = os.path.dirname(checkpoint_path)\n",
        "\n",
        "# # 모델의 가중치를 저장하는 콜백 만들기\n",
        "# cp_callback = tf.keras.callbacks.ModelCheckpoint(filepath=checkpoint_path,\n",
        "#                                                  save_weights_only=True,\n",
        "#                                                  verbose=1)"
      ],
      "execution_count": 29,
      "outputs": []
    },
    {
      "cell_type": "code",
      "metadata": {
        "id": "1oqP_veazp59",
        "colab_type": "code",
        "colab": {}
      },
      "source": [
        "checkpoint_dir = './training_checkpoints'\n",
        "checkpoint_prefix = os.path.join(checkpoint_dir, \"ckpt\")\n",
        "checkpoint = tf.train.Checkpoint(optimizer=optimizer,\n",
        "                                 encoder=encoder,\n",
        "                                 decoder=decoder)"
      ],
      "execution_count": 44,
      "outputs": []
    },
    {
      "cell_type": "code",
      "metadata": {
        "id": "qIgGAjpgzpw7",
        "colab_type": "code",
        "colab": {}
      },
      "source": [
        "@tf.function\n",
        "def train_step(inp, targ, enc_hidden):\n",
        "  loss = 0\n",
        "\n",
        "  with tf.GradientTape() as tape:\n",
        "    enc_output, enc_hidden = encoder(inp, enc_hidden)\n",
        "\n",
        "    dec_hidden = enc_hidden\n",
        "\n",
        "    dec_input = tf.expand_dims([targ_lang.word_index['<sos>']] * BATCH_SIZE, 1)\n",
        "\n",
        "    # Teacher forcing - feeding the target as the next input\n",
        "    for t in range(1, targ.shape[1]):\n",
        "      # passing enc_output to the decoder\n",
        "      predictions, dec_hidden, _ = decoder(dec_input, dec_hidden, enc_output)\n",
        "\n",
        "      loss += loss_function(targ[:, t], predictions)\n",
        "      # using teacher forcing\n",
        "      dec_input = tf.expand_dims(targ[:, t], 1)\n",
        "\n",
        "  batch_loss = (loss / int(targ.shape[1]))\n",
        "\n",
        "  variables = encoder.trainable_variables + decoder.trainable_variables\n",
        "\n",
        "  gradients = tape.gradient(loss, variables)\n",
        "\n",
        "  optimizer.apply_gradients(zip(gradients, variables))\n",
        "\n",
        "  return batch_loss"
      ],
      "execution_count": 45,
      "outputs": []
    },
    {
      "cell_type": "code",
      "metadata": {
        "id": "47tpoLZEzsjT",
        "colab_type": "code",
        "colab": {}
      },
      "source": [
        "def test_step(inp, targ, enc_hidden):\n",
        "  loss = 0\n",
        " \n",
        "  enc_out, enc_hidden = encoder(inp, enc_hidden)\n",
        "\n",
        "  dec_hidden = enc_hidden\n",
        "  dec_input = tf.expand_dims([targ_lang.word_index['<sos>']] * BATCH_SIZE, 0)\n",
        "\n",
        "  for t in range(max_length_targ):\n",
        "    predictions, dec_hidden, attention_weights = decoder(dec_input, dec_hidden, enc_out)\n",
        "    loss += loss_function(targ[:, t], predictions)\n",
        "    # storing the attention weights to plot later on\n",
        "    dec_input = df.expand_dims(targ[:, t], 1)\n",
        "\n",
        "  batch_loss = (loss / int(targ.shape[1]))\n",
        "\n",
        "  return batch_loss"
      ],
      "execution_count": 46,
      "outputs": []
    },
    {
      "cell_type": "code",
      "metadata": {
        "id": "za35fx2QRrb0",
        "colab_type": "code",
        "colab": {
          "base_uri": "https://localhost:8080/",
          "height": 1000
        },
        "outputId": "815011bb-22ed-4f12-cd33-ecb41353d78a"
      },
      "source": [
        "EPOCHS = 10\n",
        "\n",
        "for epoch in range(EPOCHS):\n",
        "  start = time.time()\n",
        "\n",
        "  enc_hidden = encoder.initialize_hidden_state()\n",
        "  total_loss = 0\n",
        "\n",
        "  for (batch, (inp, targ)) in enumerate(dataset.take(steps_per_epoch)):\n",
        "    batch_loss = train_step(inp, targ, enc_hidden)\n",
        "    total_loss += batch_loss\n",
        "\n",
        "    if batch % 100 == 0:\n",
        "      print('Epoch {} Batch {} Loss {:.4f}'.format(epoch + 1,\n",
        "                                                   batch,\n",
        "                                                   batch_loss.numpy()))\n",
        "  # saving (checkpoint) the model every 2 epochs\n",
        "  if (epoch + 1) % 2 == 0:\n",
        "    checkpoint.save(file_prefix = checkpoint_prefix)\n",
        "\n",
        "  print('Epoch {} Loss {:.4f}'.format(epoch + 1,\n",
        "                                      total_loss / steps_per_epoch))\n",
        "  print('Time taken for 1 epoch {} sec\\n'.format(time.time() - start))"
      ],
      "execution_count": 58,
      "outputs": [
        {
          "output_type": "stream",
          "text": [
            "Epoch 1 Batch 0 Loss 2.4853\n",
            "Epoch 1 Batch 100 Loss 2.2815\n",
            "Epoch 1 Batch 200 Loss 2.2871\n",
            "Epoch 1 Batch 300 Loss 2.2620\n",
            "Epoch 1 Batch 400 Loss 2.3761\n",
            "Epoch 1 Batch 500 Loss 2.2495\n",
            "Epoch 1 Batch 600 Loss 2.2983\n",
            "Epoch 1 Batch 700 Loss 2.2866\n",
            "Epoch 1 Loss 2.3125\n",
            "Time taken for 1 epoch 227.328768491745 sec\n",
            "\n",
            "Epoch 2 Batch 0 Loss 2.0336\n",
            "Epoch 2 Batch 100 Loss 1.9283\n",
            "Epoch 2 Batch 200 Loss 2.0986\n",
            "Epoch 2 Batch 300 Loss 2.0505\n",
            "Epoch 2 Batch 400 Loss 2.0965\n",
            "Epoch 2 Batch 500 Loss 2.0281\n",
            "Epoch 2 Batch 600 Loss 1.9037\n",
            "Epoch 2 Batch 700 Loss 1.9840\n",
            "Epoch 2 Loss 2.0218\n",
            "Time taken for 1 epoch 229.96983742713928 sec\n",
            "\n",
            "Epoch 3 Batch 0 Loss 1.7269\n",
            "Epoch 3 Batch 100 Loss 1.7973\n",
            "Epoch 3 Batch 200 Loss 1.8640\n",
            "Epoch 3 Batch 300 Loss 1.7249\n",
            "Epoch 3 Batch 400 Loss 1.7080\n",
            "Epoch 3 Batch 500 Loss 1.7483\n",
            "Epoch 3 Batch 600 Loss 1.8159\n",
            "Epoch 3 Batch 700 Loss 1.6569\n",
            "Epoch 3 Loss 1.7405\n",
            "Time taken for 1 epoch 227.51686906814575 sec\n",
            "\n",
            "Epoch 4 Batch 0 Loss 1.5183\n",
            "Epoch 4 Batch 100 Loss 1.3241\n",
            "Epoch 4 Batch 200 Loss 1.4294\n",
            "Epoch 4 Batch 300 Loss 1.4333\n",
            "Epoch 4 Batch 400 Loss 1.5877\n",
            "Epoch 4 Batch 500 Loss 1.5330\n",
            "Epoch 4 Batch 600 Loss 1.5004\n",
            "Epoch 4 Batch 700 Loss 1.5015\n",
            "Epoch 4 Loss 1.4707\n",
            "Time taken for 1 epoch 230.1002151966095 sec\n",
            "\n",
            "Epoch 5 Batch 0 Loss 1.2606\n",
            "Epoch 5 Batch 100 Loss 1.1329\n",
            "Epoch 5 Batch 200 Loss 1.1781\n",
            "Epoch 5 Batch 300 Loss 1.2851\n",
            "Epoch 5 Batch 400 Loss 1.2128\n",
            "Epoch 5 Batch 500 Loss 1.2482\n",
            "Epoch 5 Batch 600 Loss 1.2191\n",
            "Epoch 5 Batch 700 Loss 1.2763\n",
            "Epoch 5 Loss 1.2182\n",
            "Time taken for 1 epoch 230.04011058807373 sec\n",
            "\n",
            "Epoch 6 Batch 0 Loss 1.0080\n",
            "Epoch 6 Batch 100 Loss 0.9324\n",
            "Epoch 6 Batch 200 Loss 1.0041\n",
            "Epoch 6 Batch 300 Loss 0.9429\n",
            "Epoch 6 Batch 400 Loss 1.0986\n",
            "Epoch 6 Batch 500 Loss 0.9941\n",
            "Epoch 6 Batch 600 Loss 1.0556\n",
            "Epoch 6 Batch 700 Loss 1.0222\n",
            "Epoch 6 Loss 0.9975\n",
            "Time taken for 1 epoch 229.4699523448944 sec\n",
            "\n",
            "Epoch 7 Batch 0 Loss 0.6922\n",
            "Epoch 7 Batch 100 Loss 0.7802\n",
            "Epoch 7 Batch 200 Loss 0.7881\n",
            "Epoch 7 Batch 300 Loss 0.7063\n",
            "Epoch 7 Batch 400 Loss 0.7672\n",
            "Epoch 7 Batch 500 Loss 0.8482\n",
            "Epoch 7 Batch 600 Loss 0.8836\n",
            "Epoch 7 Batch 700 Loss 0.7921\n",
            "Epoch 7 Loss 0.8142\n",
            "Time taken for 1 epoch 227.19666004180908 sec\n",
            "\n",
            "Epoch 8 Batch 0 Loss 0.5362\n",
            "Epoch 8 Batch 100 Loss 0.6582\n",
            "Epoch 8 Batch 200 Loss 0.6710\n",
            "Epoch 8 Batch 300 Loss 0.6138\n",
            "Epoch 8 Batch 400 Loss 0.6125\n",
            "Epoch 8 Batch 500 Loss 0.6965\n",
            "Epoch 8 Batch 600 Loss 0.6827\n",
            "Epoch 8 Batch 700 Loss 0.6897\n",
            "Epoch 8 Loss 0.6632\n",
            "Time taken for 1 epoch 229.23469471931458 sec\n",
            "\n",
            "Epoch 9 Batch 0 Loss 0.4985\n",
            "Epoch 9 Batch 100 Loss 0.5424\n",
            "Epoch 9 Batch 200 Loss 0.5220\n",
            "Epoch 9 Batch 300 Loss 0.4953\n",
            "Epoch 9 Batch 400 Loss 0.4998\n",
            "Epoch 9 Batch 500 Loss 0.5322\n",
            "Epoch 9 Batch 600 Loss 0.5125\n",
            "Epoch 9 Batch 700 Loss 0.5717\n",
            "Epoch 9 Loss 0.5410\n",
            "Time taken for 1 epoch 226.79212737083435 sec\n",
            "\n",
            "Epoch 10 Batch 0 Loss 0.4038\n",
            "Epoch 10 Batch 100 Loss 0.4113\n",
            "Epoch 10 Batch 200 Loss 0.4617\n",
            "Epoch 10 Batch 300 Loss 0.4949\n",
            "Epoch 10 Batch 400 Loss 0.4175\n",
            "Epoch 10 Batch 500 Loss 0.4543\n",
            "Epoch 10 Batch 600 Loss 0.4687\n",
            "Epoch 10 Batch 700 Loss 0.5264\n",
            "Epoch 10 Loss 0.4338\n",
            "Time taken for 1 epoch 228.88486790657043 sec\n",
            "\n"
          ],
          "name": "stdout"
        }
      ]
    },
    {
      "cell_type": "code",
      "metadata": {
        "id": "jxucQn9Uw2EP",
        "colab_type": "code",
        "colab": {
          "base_uri": "https://localhost:8080/",
          "height": 35
        },
        "outputId": "ed86774d-8d42-403e-c967-6884c0d85448"
      },
      "source": [
        "preprocess_sentences_kor(['왜 안되는 겁니까?'])"
      ],
      "execution_count": 59,
      "outputs": [
        {
          "output_type": "execute_result",
          "data": {
            "text/plain": [
              "['<sos> ? 겁니까 는 되 안 왜 <eos>']"
            ]
          },
          "metadata": {
            "tags": []
          },
          "execution_count": 59
        }
      ]
    },
    {
      "cell_type": "code",
      "metadata": {
        "id": "5tSAOrv4zs2M",
        "colab_type": "code",
        "colab": {}
      },
      "source": [
        "def evaluate(sentence):\n",
        "  attention_plot = np.zeros((max_length_targ, max_length_inp))\n",
        "\n",
        "  sentence = preprocess_sentences_kor(sentence)[0]\n",
        "  inputs = inp_lang.texts_to_sequences([sentence])[0]\n",
        "  inputs = tf.keras.preprocessing.sequence.pad_sequences([inputs],\n",
        "                                                         maxlen=max_length_inp,\n",
        "                                                         padding='post')\n",
        "  inputs = tf.convert_to_tensor(inputs)\n",
        "\n",
        "  result = ''\n",
        "\n",
        "  hidden = [tf.zeros((1, units))]\n",
        "  enc_out, enc_hidden = encoder(inputs, hidden)\n",
        "\n",
        "  dec_hidden = enc_hidden\n",
        "  dec_input = tf.expand_dims([targ_lang.word_index['<sos>']], 0)\n",
        "\n",
        "  for t in range(max_length_targ):\n",
        "    predictions, dec_hidden, attention_weights = decoder(dec_input,\n",
        "                                                         dec_hidden,\n",
        "                                                         enc_out)\n",
        "\n",
        "    # storing the attention weights to plot later on\n",
        "    attention_weights = tf.reshape(attention_weights, (-1, ))\n",
        "    attention_plot[t] = attention_weights.numpy()\n",
        "\n",
        "    predicted_id = tf.argmax(predictions[0]).numpy()\n",
        "\n",
        "    if targ_lang.index_word[predicted_id] == '<eos>':\n",
        "      return result, sentence, attention_plot\n",
        "    result += targ_lang.index_word[predicted_id] + ' '\n",
        "\n",
        "\n",
        "\n",
        "    # the predicted ID is fed back into the mode\n",
        "\n",
        "    dec_input = tf.expand_dims([predicted_id], 0)\n",
        "\n",
        "  return result, sentence, attention_plot"
      ],
      "execution_count": 60,
      "outputs": []
    },
    {
      "cell_type": "code",
      "metadata": {
        "id": "13ggdBQ1zsbc",
        "colab_type": "code",
        "colab": {}
      },
      "source": [
        "def plot_attention(attention, sentence, predicted_sentence):\n",
        "  fig = plt.figure(figsize=(10,10))\n",
        "  ax = fig.add_subplot(1, 1, 1)\n",
        "  ax.matshow(attention, cmap='viridis')\n",
        "\n",
        "  fontdict = {'fontsize': 14}\n",
        "\n",
        "  ax.set_xticklabels([''] + sentence, fontdict=fontdict, rotation=90)\n",
        "  ax.set_yticklabels([''] + predicted_sentence, fontdict=fontdict)\n",
        "\n",
        "  ax.xaxis.set_major_locator(ticker.MultipleLocator(1))\n",
        "  ax.yaxis.set_major_locator(ticker.MultipleLocator(1))\n",
        "\n",
        "  plt.show()"
      ],
      "execution_count": 61,
      "outputs": []
    },
    {
      "cell_type": "code",
      "metadata": {
        "id": "YBSGJsCpzxur",
        "colab_type": "code",
        "colab": {}
      },
      "source": [
        "def translate(sentence):\n",
        "  result, sentence, attention_plot = evaluate(sentence)\n",
        "\n",
        "  print('Input: %s' % (sentence))\n",
        "  print('Predicted translation: {}'.format(result))\n",
        "\n",
        "  attention_plot = attention_plot[:len(result.split(' ')), :len(sentence.split(' '))]\n",
        "  plot_attention(attention_plot, sentence.split(' '), result.split(' '))"
      ],
      "execution_count": 62,
      "outputs": []
    },
    {
      "cell_type": "code",
      "metadata": {
        "id": "YWgmbPwozxnM",
        "colab_type": "code",
        "colab": {
          "base_uri": "https://localhost:8080/",
          "height": 1000
        },
        "outputId": "db1fc045-8322-41e7-8f1f-2e4fb4ed3e77"
      },
      "source": [
        "translate(['시간이 없습니다'])"
      ],
      "execution_count": 63,
      "outputs": [
        {
          "output_type": "stream",
          "text": [
            "Input: <sos> 습니다 없 이 시간 <eos>\n",
            "Predicted translation: it's time to have been on time trip. \n"
          ],
          "name": "stdout"
        },
        {
          "output_type": "stream",
          "text": [
            "/usr/local/lib/python3.6/dist-packages/matplotlib/backends/backend_agg.py:214: RuntimeWarning: Glyph 49845 missing from current font.\n",
            "  font.set_text(s, 0.0, flags=flags)\n",
            "/usr/local/lib/python3.6/dist-packages/matplotlib/backends/backend_agg.py:214: RuntimeWarning: Glyph 45768 missing from current font.\n",
            "  font.set_text(s, 0.0, flags=flags)\n",
            "/usr/local/lib/python3.6/dist-packages/matplotlib/backends/backend_agg.py:214: RuntimeWarning: Glyph 45796 missing from current font.\n",
            "  font.set_text(s, 0.0, flags=flags)\n",
            "/usr/local/lib/python3.6/dist-packages/matplotlib/backends/backend_agg.py:214: RuntimeWarning: Glyph 50630 missing from current font.\n",
            "  font.set_text(s, 0.0, flags=flags)\n",
            "/usr/local/lib/python3.6/dist-packages/matplotlib/backends/backend_agg.py:214: RuntimeWarning: Glyph 51060 missing from current font.\n",
            "  font.set_text(s, 0.0, flags=flags)\n",
            "/usr/local/lib/python3.6/dist-packages/matplotlib/backends/backend_agg.py:214: RuntimeWarning: Glyph 49884 missing from current font.\n",
            "  font.set_text(s, 0.0, flags=flags)\n",
            "/usr/local/lib/python3.6/dist-packages/matplotlib/backends/backend_agg.py:214: RuntimeWarning: Glyph 44036 missing from current font.\n",
            "  font.set_text(s, 0.0, flags=flags)\n",
            "/usr/local/lib/python3.6/dist-packages/matplotlib/backends/backend_agg.py:183: RuntimeWarning: Glyph 49845 missing from current font.\n",
            "  font.set_text(s, 0, flags=flags)\n",
            "/usr/local/lib/python3.6/dist-packages/matplotlib/backends/backend_agg.py:183: RuntimeWarning: Glyph 45768 missing from current font.\n",
            "  font.set_text(s, 0, flags=flags)\n",
            "/usr/local/lib/python3.6/dist-packages/matplotlib/backends/backend_agg.py:183: RuntimeWarning: Glyph 45796 missing from current font.\n",
            "  font.set_text(s, 0, flags=flags)\n",
            "/usr/local/lib/python3.6/dist-packages/matplotlib/backends/backend_agg.py:183: RuntimeWarning: Glyph 50630 missing from current font.\n",
            "  font.set_text(s, 0, flags=flags)\n",
            "/usr/local/lib/python3.6/dist-packages/matplotlib/backends/backend_agg.py:183: RuntimeWarning: Glyph 51060 missing from current font.\n",
            "  font.set_text(s, 0, flags=flags)\n",
            "/usr/local/lib/python3.6/dist-packages/matplotlib/backends/backend_agg.py:183: RuntimeWarning: Glyph 49884 missing from current font.\n",
            "  font.set_text(s, 0, flags=flags)\n",
            "/usr/local/lib/python3.6/dist-packages/matplotlib/backends/backend_agg.py:183: RuntimeWarning: Glyph 44036 missing from current font.\n",
            "  font.set_text(s, 0, flags=flags)\n"
          ],
          "name": "stderr"
        },
        {
          "output_type": "display_data",
          "data": {
            "image/png": "[encoded data removed]",
            "text/plain": [
              "<Figure size 720x720 with 1 Axes>"
            ]
          },
          "metadata": {
            "tags": [],
            "needs_background": "light"
          }
        }
      ]
    },
    {
      "cell_type": "code",
      "metadata": {
        "id": "mP-TQmPAqhLB",
        "colab_type": "code",
        "colab": {
          "base_uri": "https://localhost:8080/",
          "height": 35
        },
        "outputId": "82be898b-b3e1-4f42-d4f4-617b90105bb0"
      },
      "source": [
        "checkpoint.restore(tf.train.latest_checkpoint(checkpoint_dir))"
      ],
      "execution_count": 64,
      "outputs": [
        {
          "output_type": "execute_result",
          "data": {
            "text/plain": [
              "<tensorflow.python.training.tracking.util.CheckpointLoadStatus at 0x7f51e7037fd0>"
            ]
          },
          "metadata": {
            "tags": []
          },
          "execution_count": 64
        }
      ]
    },
    {
      "cell_type": "markdown",
      "metadata": {
        "id": "K1mDFK7Gz0Ur",
        "colab_type": "text"
      },
      "source": [
        "## BLEU SCORE"
      ]
    },
    {
      "cell_type": "code",
      "metadata": {
        "id": "khtI17kcIyJE",
        "colab_type": "code",
        "colab": {
          "base_uri": "https://localhost:8080/",
          "height": 1000
        },
        "outputId": "005b96a5-d90c-4663-df11-78664bed80fe"
      },
      "source": [
        "!pip install --upgrade bleu\n",
        "!pip install --upgrade git+git://github.com/zhijing-jin/bleu.git"
      ],
      "execution_count": 65,
      "outputs": [
        {
          "output_type": "stream",
          "text": [
            "Requirement already up-to-date: bleu in /usr/local/lib/python3.6/dist-packages (0.3)\n",
            "Requirement already satisfied, skipping upgrade: efficiency in /usr/local/lib/python3.6/dist-packages (from bleu) (0.4)\n",
            "Requirement already satisfied, skipping upgrade: spacy in /usr/local/lib/python3.6/dist-packages (from efficiency->bleu) (2.2.4)\n",
            "Requirement already satisfied, skipping upgrade: tqdm<5.0.0,>=4.38.0 in /usr/local/lib/python3.6/dist-packages (from spacy->efficiency->bleu) (4.41.1)\n",
            "Requirement already satisfied, skipping upgrade: wasabi<1.1.0,>=0.4.0 in /usr/local/lib/python3.6/dist-packages (from spacy->efficiency->bleu) (0.7.1)\n",
            "Requirement already satisfied, skipping upgrade: numpy>=1.15.0 in /usr/local/lib/python3.6/dist-packages (from spacy->efficiency->bleu) (1.18.5)\n",
            "Requirement already satisfied, skipping upgrade: thinc==7.4.0 in /usr/local/lib/python3.6/dist-packages (from spacy->efficiency->bleu) (7.4.0)\n",
            "Requirement already satisfied, skipping upgrade: preshed<3.1.0,>=3.0.2 in /usr/local/lib/python3.6/dist-packages (from spacy->efficiency->bleu) (3.0.2)\n",
            "Requirement already satisfied, skipping upgrade: cymem<2.1.0,>=2.0.2 in /usr/local/lib/python3.6/dist-packages (from spacy->efficiency->bleu) (2.0.3)\n",
            "Requirement already satisfied, skipping upgrade: catalogue<1.1.0,>=0.0.7 in /usr/local/lib/python3.6/dist-packages (from spacy->efficiency->bleu) (1.0.0)\n",
            "Requirement already satisfied, skipping upgrade: requests<3.0.0,>=2.13.0 in /usr/local/lib/python3.6/dist-packages (from spacy->efficiency->bleu) (2.23.0)\n",
            "Requirement already satisfied, skipping upgrade: plac<1.2.0,>=0.9.6 in /usr/local/lib/python3.6/dist-packages (from spacy->efficiency->bleu) (1.1.3)\n",
            "Requirement already satisfied, skipping upgrade: setuptools in /usr/local/lib/python3.6/dist-packages (from spacy->efficiency->bleu) (49.2.0)\n",
            "Requirement already satisfied, skipping upgrade: srsly<1.1.0,>=1.0.2 in /usr/local/lib/python3.6/dist-packages (from spacy->efficiency->bleu) (1.0.2)\n",
            "Requirement already satisfied, skipping upgrade: blis<0.5.0,>=0.4.0 in /usr/local/lib/python3.6/dist-packages (from spacy->efficiency->bleu) (0.4.1)\n",
            "Requirement already satisfied, skipping upgrade: murmurhash<1.1.0,>=0.28.0 in /usr/local/lib/python3.6/dist-packages (from spacy->efficiency->bleu) (1.0.2)\n",
            "Requirement already satisfied, skipping upgrade: importlib-metadata>=0.20; python_version < \"3.8\" in /usr/local/lib/python3.6/dist-packages (from catalogue<1.1.0,>=0.0.7->spacy->efficiency->bleu) (1.7.0)\n",
            "Requirement already satisfied, skipping upgrade: chardet<4,>=3.0.2 in /usr/local/lib/python3.6/dist-packages (from requests<3.0.0,>=2.13.0->spacy->efficiency->bleu) (3.0.4)\n",
            "Requirement already satisfied, skipping upgrade: certifi>=2017.4.17 in /usr/local/lib/python3.6/dist-packages (from requests<3.0.0,>=2.13.0->spacy->efficiency->bleu) (2020.6.20)\n",
            "Requirement already satisfied, skipping upgrade: urllib3!=1.25.0,!=1.25.1,<1.26,>=1.21.1 in /usr/local/lib/python3.6/dist-packages (from requests<3.0.0,>=2.13.0->spacy->efficiency->bleu) (1.24.3)\n",
            "Requirement already satisfied, skipping upgrade: idna<3,>=2.5 in /usr/local/lib/python3.6/dist-packages (from requests<3.0.0,>=2.13.0->spacy->efficiency->bleu) (2.10)\n",
            "Requirement already satisfied, skipping upgrade: zipp>=0.5 in /usr/local/lib/python3.6/dist-packages (from importlib-metadata>=0.20; python_version < \"3.8\"->catalogue<1.1.0,>=0.0.7->spacy->efficiency->bleu) (3.1.0)\n",
            "Collecting git+git://github.com/zhijing-jin/bleu.git\n",
            "  Cloning git://github.com/zhijing-jin/bleu.git to /tmp/pip-req-build-wsevoopv\n",
            "  Running command git clone -q git://github.com/zhijing-jin/bleu.git /tmp/pip-req-build-wsevoopv\n",
            "Requirement already satisfied, skipping upgrade: efficiency in /usr/local/lib/python3.6/dist-packages (from bleu==0.3) (0.4)\n",
            "Requirement already satisfied, skipping upgrade: spacy in /usr/local/lib/python3.6/dist-packages (from efficiency->bleu==0.3) (2.2.4)\n",
            "Requirement already satisfied, skipping upgrade: numpy>=1.15.0 in /usr/local/lib/python3.6/dist-packages (from spacy->efficiency->bleu==0.3) (1.18.5)\n",
            "Requirement already satisfied, skipping upgrade: thinc==7.4.0 in /usr/local/lib/python3.6/dist-packages (from spacy->efficiency->bleu==0.3) (7.4.0)\n",
            "Requirement already satisfied, skipping upgrade: setuptools in /usr/local/lib/python3.6/dist-packages (from spacy->efficiency->bleu==0.3) (49.2.0)\n",
            "Requirement already satisfied, skipping upgrade: preshed<3.1.0,>=3.0.2 in /usr/local/lib/python3.6/dist-packages (from spacy->efficiency->bleu==0.3) (3.0.2)\n",
            "Requirement already satisfied, skipping upgrade: blis<0.5.0,>=0.4.0 in /usr/local/lib/python3.6/dist-packages (from spacy->efficiency->bleu==0.3) (0.4.1)\n",
            "Requirement already satisfied, skipping upgrade: srsly<1.1.0,>=1.0.2 in /usr/local/lib/python3.6/dist-packages (from spacy->efficiency->bleu==0.3) (1.0.2)\n",
            "Requirement already satisfied, skipping upgrade: cymem<2.1.0,>=2.0.2 in /usr/local/lib/python3.6/dist-packages (from spacy->efficiency->bleu==0.3) (2.0.3)\n",
            "Requirement already satisfied, skipping upgrade: catalogue<1.1.0,>=0.0.7 in /usr/local/lib/python3.6/dist-packages (from spacy->efficiency->bleu==0.3) (1.0.0)\n",
            "Requirement already satisfied, skipping upgrade: wasabi<1.1.0,>=0.4.0 in /usr/local/lib/python3.6/dist-packages (from spacy->efficiency->bleu==0.3) (0.7.1)\n",
            "Requirement already satisfied, skipping upgrade: tqdm<5.0.0,>=4.38.0 in /usr/local/lib/python3.6/dist-packages (from spacy->efficiency->bleu==0.3) (4.41.1)\n",
            "Requirement already satisfied, skipping upgrade: plac<1.2.0,>=0.9.6 in /usr/local/lib/python3.6/dist-packages (from spacy->efficiency->bleu==0.3) (1.1.3)\n",
            "Requirement already satisfied, skipping upgrade: murmurhash<1.1.0,>=0.28.0 in /usr/local/lib/python3.6/dist-packages (from spacy->efficiency->bleu==0.3) (1.0.2)\n",
            "Requirement already satisfied, skipping upgrade: requests<3.0.0,>=2.13.0 in /usr/local/lib/python3.6/dist-packages (from spacy->efficiency->bleu==0.3) (2.23.0)\n",
            "Requirement already satisfied, skipping upgrade: importlib-metadata>=0.20; python_version < \"3.8\" in /usr/local/lib/python3.6/dist-packages (from catalogue<1.1.0,>=0.0.7->spacy->efficiency->bleu==0.3) (1.7.0)\n",
            "Requirement already satisfied, skipping upgrade: urllib3!=1.25.0,!=1.25.1,<1.26,>=1.21.1 in /usr/local/lib/python3.6/dist-packages (from requests<3.0.0,>=2.13.0->spacy->efficiency->bleu==0.3) (1.24.3)\n",
            "Requirement already satisfied, skipping upgrade: certifi>=2017.4.17 in /usr/local/lib/python3.6/dist-packages (from requests<3.0.0,>=2.13.0->spacy->efficiency->bleu==0.3) (2020.6.20)\n",
            "Requirement already satisfied, skipping upgrade: idna<3,>=2.5 in /usr/local/lib/python3.6/dist-packages (from requests<3.0.0,>=2.13.0->spacy->efficiency->bleu==0.3) (2.10)\n",
            "Requirement already satisfied, skipping upgrade: chardet<4,>=3.0.2 in /usr/local/lib/python3.6/dist-packages (from requests<3.0.0,>=2.13.0->spacy->efficiency->bleu==0.3) (3.0.4)\n",
            "Requirement already satisfied, skipping upgrade: zipp>=0.5 in /usr/local/lib/python3.6/dist-packages (from importlib-metadata>=0.20; python_version < \"3.8\"->catalogue<1.1.0,>=0.0.7->spacy->efficiency->bleu==0.3) (3.1.0)\n",
            "Building wheels for collected packages: bleu\n",
            "  Building wheel for bleu (setup.py) ... \u001b[?25l\u001b[?25hdone\n",
            "  Created wheel for bleu: filename=bleu-0.3-cp36-none-any.whl size=6773 sha256=8ad582a38d3f55e0e2f655733468fa1e4ee3f7aeca757cc721976a38b4e420ff\n",
            "  Stored in directory: /tmp/pip-ephem-wheel-cache-cq0jkwu7/wheels/2b/79/93/d67db42308d30f8f11610565063bbf30c0f1ce08a23dfb95d8\n",
            "Successfully built bleu\n",
            "Installing collected packages: bleu\n",
            "  Found existing installation: bleu 0.3\n",
            "    Uninstalling bleu-0.3:\n",
            "      Successfully uninstalled bleu-0.3\n",
            "Successfully installed bleu-0.3\n"
          ],
          "name": "stdout"
        }
      ]
    },
    {
      "cell_type": "code",
      "metadata": {
        "id": "pXPGK3PE3IqZ",
        "colab_type": "code",
        "colab": {
          "base_uri": "https://localhost:8080/",
          "height": 775
        },
        "outputId": "22c60bfd-726e-4ce6-e601-07acb21a6d64"
      },
      "source": [
        "from nltk.translate.bleu_score import sentence_bleu, SmoothingFunction\n",
        "score_list = []\n",
        "for i in range(len(test_kor.values[:20])):\n",
        "    \n",
        "    reference = [test_en.values[i].split()]\n",
        "    result,_,_= evaluate([test_kor.values[i]])\n",
        "    candidate = result.capitalize().split()\n",
        "    score = sentence_bleu(reference, candidate, smoothing_function=SmoothingFunction().method1)\n",
        "    score_list.append(score)\n",
        "    print('실제값 : {}\\n예측값 : {}'.format(reference, candidate))\n",
        "\n",
        "score = sum(score_list)/len(score_list)\n",
        "print('score는 {}'.format(score))"
      ],
      "execution_count": 66,
      "outputs": [
        {
          "output_type": "stream",
          "text": [
            "실제값 : [['And', \"I'm\", 'here', 'to', 'explain', 'the', 'reason', 'for', 'this.']]\n",
            "예측값 : ['I', 'want', 'to', 'tell', 'you', 'about', 'this', 'kind', 'today.']\n",
            "실제값 : [['I', 'want', 'to', 'say', 'about', 'the', 'cosmetic', 'sergery', 'today.']]\n",
            "예측값 : ['Today,', 'i', 'am', 'going', 'to', 'talk', 'about', 'the', 'capitalistic', 'economy.']\n",
            "실제값 : [['We', 'would', 'like', 'to', 'renew', 'the', 'contract', 'in', 'the', 'condition', 'above.']]\n",
            "예측값 : ['We', 'want', 'to', 'make', 'a', 'contract', 'with', 'a', 'certain', 'content.']\n",
            "실제값 : [['Our', 'summer', 'vacation', 'starts', 'next', 'week.']]\n",
            "예측값 : ['We', 'have', 'a', 'vacation', 'next', 'year.']\n",
            "실제값 : [['She', 'is', 'an', 'interesting', 'writer', 'who', 'creates', 'new', 'things.']]\n",
            "예측값 : ['She', 'is', 'a', 'good', 'exercise', 'to', 'her.']\n",
            "실제값 : [['It', 'begins', 'soon', 'after', 'the', 'rainy', 'season', 'is', 'over.']]\n",
            "예측값 : ['Almost', 'every', 'day', 'is', 'held', 'by', 'the', 'day', 'of', 'the', 'season.']\n",
            "실제값 : [['Plus,', 'three', 'tops', 'I', 'ordered', \"don't\", 'fit', 'me;', \"they're\", 'small.']]\n",
            "예측값 : ['Also', 'three', 'the', 'size', 'which', 'one', 'is', 'three', 'times', 'which', 'is', 'one', 'of', 'the', 'product', 'that', 'is', 'one', 'of']\n",
            "실제값 : [['It', 'will', 'begin', 'when', 'the', 'school', 'recommends', 'me', 'to', 'the', 'company.']]\n",
            "예측값 : ['When', 'i', 'recommend', 'this', 'when', 'i', 'go', 'to', 'the', 'college.']\n",
            "실제값 : [['Since', 'tuna', 'is', 'in', 'season', 'now,', \"let's\", 'start', 'with', 'that.']]\n",
            "예측값 : ['Because', 'the', 'economy', 'is', 'dry,', 'so', 'be', 'raining', 'as', 'soon', 'as', 'it', 'is', 'an', 'option,', 'so', 'if', 'the', 'bell']\n",
            "실제값 : [['Begin', 'to', 'work,', 'not', 'thinking', 'of', 'putting', 'off', 'it.']]\n",
            "예측값 : [\"Don't\", 'be', 'careful', 'of', 'your', 'tasks.']\n",
            "실제값 : [['Split', 'the', 'work', 'in', 'detail', 'before', 'you', 'start.']]\n",
            "예측값 : ['Make', 'separate', 'them', 'for', 'your', 'own.']\n",
            "실제값 : [['And', 'they', 'gradually', 'started', 'to', 'realize', 'the', 'truth', 'of', 'love.']]\n",
            "예측값 : ['And', 'we', 'will', 'be', 'participating', 'in', 'the', \"teacher's\", 'love.']\n",
            "실제값 : [['Then', 'the', 'brothers', 'get', 'into', 'a', 'conflict.']]\n",
            "예측값 : ['In', 'korea,', 'technician', 'south', 'and', 'shabu', 'shabu', 'unlike', 'each', 'other.']\n",
            "실제값 : [['People', 'guess', 'your', 'personality', 'by', 'blood', 'type', 'in', 'Korea.']]\n",
            "예측값 : ['In', 'korea,', 'we', 'do', 'believe', 'of', 'animals', 'in', 'korea.']\n",
            "실제값 : [['I', 'came', 'to', 'work', 'and', 'started', 'doing', \"today's\", 'work.']]\n",
            "예측값 : ['I', 'work', 'today', 'but', 'i', 'work', 'for', 'work', 'today.']\n",
            "실제값 : [['I', 'arrived', 'at', 'the', 'company', 'and', 'drank', 'morning', 'coffee.']]\n",
            "예측값 : ['I', 'take', 'a', 'cup', 'of', 'tea.']\n",
            "실제값 : [['Begin', 'our', 'travel', 'nothern', 'Phillippines', 'trip.']]\n",
            "예측값 : ['I', 'am', 'traveling', 'with', 'the', 'philippines', 'with', 'friends', 'with', 'the', 'friends.']\n",
            "실제값 : [['He', 'starts', 'to', 'chase', 'the', 'criminal', 'with', 'Jeon.']]\n",
            "예측값 : ['He', 'is', 'able', 'to', 'adjust', 'the', 'rules.']\n",
            "실제값 : [['Something', 'scary', 'and', 'weird', 'starts', 'to', 'happen.']]\n",
            "예측값 : ['Sometimes', 'it', 'works', 'carefully', 'so', 'work', 'out.']\n",
            "실제값 : [['He', 'begins', 'to', 'design', 'a', 'shoe', 'just', 'for', 'her.']]\n",
            "예측값 : ['I', 'am', 'making', 'a', 'group', 'of', 'wearing', 'a', 'world.']\n",
            "score는 0.023947590062351302\n"
          ],
          "name": "stdout"
        }
      ]
    },
    {
      "cell_type": "code",
      "metadata": {
        "id": "8N7_RCKYnazR",
        "colab_type": "code",
        "colab": {
          "base_uri": "https://localhost:8080/",
          "height": 775
        },
        "outputId": "20615c7e-0c3e-4232-830d-760c0a0b504b"
      },
      "source": [
        "### smoothing ###\n",
        "from nltk.translate.bleu_score import sentence_bleu, SmoothingFunction\n",
        "score_list = []\n",
        "smoothie = SmoothingFunction().method4\n",
        "for i in range(len(test_kor.values)):\n",
        "    reference = [test_en.values[i].split()]\n",
        "    result,_,_= evaluate([test_kor.values[i]])\n",
        "    candidate = result.capitalize().split()\n",
        "    score = sentence_bleu(reference, candidate, smoothing_function=smoothie)\n",
        "    score_list.append(score)\n",
        "    if i<20:\n",
        "        print('실제값 : {}\\n예측값 : {}'.format(reference, candidate))\n",
        "score = sum(score_list)/len(score_list)\n",
        "print('score는 {}'.format(score))"
      ],
      "execution_count": 67,
      "outputs": [
        {
          "output_type": "stream",
          "text": [
            "실제값 : [['And', \"I'm\", 'here', 'to', 'explain', 'the', 'reason', 'for', 'this.']]\n",
            "예측값 : ['I', 'want', 'to', 'tell', 'you', 'about', 'this', 'kind', 'today.']\n",
            "실제값 : [['I', 'want', 'to', 'say', 'about', 'the', 'cosmetic', 'sergery', 'today.']]\n",
            "예측값 : ['Today,', 'i', 'am', 'going', 'to', 'talk', 'about', 'the', 'capitalistic', 'economy.']\n",
            "실제값 : [['We', 'would', 'like', 'to', 'renew', 'the', 'contract', 'in', 'the', 'condition', 'above.']]\n",
            "예측값 : ['We', 'want', 'to', 'make', 'a', 'contract', 'with', 'a', 'certain', 'content.']\n",
            "실제값 : [['Our', 'summer', 'vacation', 'starts', 'next', 'week.']]\n",
            "예측값 : ['We', 'have', 'a', 'vacation', 'next', 'year.']\n",
            "실제값 : [['She', 'is', 'an', 'interesting', 'writer', 'who', 'creates', 'new', 'things.']]\n",
            "예측값 : ['She', 'is', 'a', 'good', 'exercise', 'to', 'her.']\n",
            "실제값 : [['It', 'begins', 'soon', 'after', 'the', 'rainy', 'season', 'is', 'over.']]\n",
            "예측값 : ['Almost', 'every', 'day', 'is', 'held', 'by', 'the', 'day', 'of', 'the', 'season.']\n",
            "실제값 : [['Plus,', 'three', 'tops', 'I', 'ordered', \"don't\", 'fit', 'me;', \"they're\", 'small.']]\n",
            "예측값 : ['Also', 'three', 'the', 'size', 'which', 'one', 'is', 'three', 'times', 'which', 'is', 'one', 'of', 'the', 'product', 'that', 'is', 'one', 'of']\n",
            "실제값 : [['It', 'will', 'begin', 'when', 'the', 'school', 'recommends', 'me', 'to', 'the', 'company.']]\n",
            "예측값 : ['When', 'i', 'recommend', 'this', 'when', 'i', 'go', 'to', 'the', 'college.']\n",
            "실제값 : [['Since', 'tuna', 'is', 'in', 'season', 'now,', \"let's\", 'start', 'with', 'that.']]\n",
            "예측값 : ['Because', 'the', 'economy', 'is', 'dry,', 'so', 'be', 'raining', 'as', 'soon', 'as', 'it', 'is', 'an', 'option,', 'so', 'if', 'the', 'bell']\n",
            "실제값 : [['Begin', 'to', 'work,', 'not', 'thinking', 'of', 'putting', 'off', 'it.']]\n",
            "예측값 : [\"Don't\", 'be', 'careful', 'of', 'your', 'tasks.']\n",
            "실제값 : [['Split', 'the', 'work', 'in', 'detail', 'before', 'you', 'start.']]\n",
            "예측값 : ['Make', 'separate', 'them', 'for', 'your', 'own.']\n",
            "실제값 : [['And', 'they', 'gradually', 'started', 'to', 'realize', 'the', 'truth', 'of', 'love.']]\n",
            "예측값 : ['And', 'we', 'will', 'be', 'participating', 'in', 'the', \"teacher's\", 'love.']\n",
            "실제값 : [['Then', 'the', 'brothers', 'get', 'into', 'a', 'conflict.']]\n",
            "예측값 : ['In', 'korea,', 'technician', 'south', 'and', 'shabu', 'shabu', 'unlike', 'each', 'other.']\n",
            "실제값 : [['People', 'guess', 'your', 'personality', 'by', 'blood', 'type', 'in', 'Korea.']]\n",
            "예측값 : ['In', 'korea,', 'we', 'do', 'believe', 'of', 'animals', 'in', 'korea.']\n",
            "실제값 : [['I', 'came', 'to', 'work', 'and', 'started', 'doing', \"today's\", 'work.']]\n",
            "예측값 : ['I', 'work', 'today', 'but', 'i', 'work', 'for', 'work', 'today.']\n",
            "실제값 : [['I', 'arrived', 'at', 'the', 'company', 'and', 'drank', 'morning', 'coffee.']]\n",
            "예측값 : ['I', 'take', 'a', 'cup', 'of', 'tea.']\n",
            "실제값 : [['Begin', 'our', 'travel', 'nothern', 'Phillippines', 'trip.']]\n",
            "예측값 : ['I', 'am', 'traveling', 'with', 'the', 'philippines', 'with', 'friends', 'with', 'the', 'friends.']\n",
            "실제값 : [['He', 'starts', 'to', 'chase', 'the', 'criminal', 'with', 'Jeon.']]\n",
            "예측값 : ['He', 'is', 'able', 'to', 'adjust', 'the', 'rules.']\n",
            "실제값 : [['Something', 'scary', 'and', 'weird', 'starts', 'to', 'happen.']]\n",
            "예측값 : ['Sometimes', 'it', 'works', 'carefully', 'so', 'work', 'out.']\n",
            "실제값 : [['He', 'begins', 'to', 'design', 'a', 'shoe', 'just', 'for', 'her.']]\n",
            "예측값 : ['I', 'am', 'making', 'a', 'group', 'of', 'wearing', 'a', 'world.']\n",
            "score는 0.18716116587917775\n"
          ],
          "name": "stdout"
        }
      ]
    },
    {
      "cell_type": "code",
      "metadata": {
        "id": "O9obq6YxCkcV",
        "colab_type": "code",
        "colab": {}
      },
      "source": [
        ""
      ],
      "execution_count": null,
      "outputs": []
    }
  ]
}