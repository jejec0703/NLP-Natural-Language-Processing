{
  "nbformat": 4,
  "nbformat_minor": 0,
  "metadata": {
    "kernelspec": {
      "display_name": "Python 3",
      "language": "python",
      "name": "python3"
    },
    "language_info": {
      "codemirror_mode": {
        "name": "ipython",
        "version": 3
      },
      "file_extension": ".py",
      "mimetype": "text/x-python",
      "name": "python",
      "nbconvert_exporter": "python",
      "pygments_lexer": "ipython3",
      "version": "3.6.10"
    },
    "colab": {
      "name": "Non Static with OKT.ipynb",
      "provenance": [],
      "include_colab_link": true
    }
  },
  "cells": [
    {
      "cell_type": "markdown",
      "metadata": {
        "id": "view-in-github",
        "colab_type": "text"
      },
      "source": [
        "<a href=\"https://colab.research.google.com/github/jejec0703/NLP-Natural-Language-Processing/blob/master/Non_Static_with_OKT.ipynb\" target=\"_parent\"><img src=\"https://colab.research.google.com/assets/colab-badge.svg\" alt=\"Open In Colab\"/></a>"
      ]
    },
    {
      "cell_type": "code",
      "metadata": {
        "id": "MXheGGpX4wRV",
        "colab_type": "code",
        "colab": {}
      },
      "source": [
        "import pandas as pd"
      ],
      "execution_count": null,
      "outputs": []
    },
    {
      "cell_type": "code",
      "metadata": {
        "id": "VBoUm-zC4wRb",
        "colab_type": "code",
        "colab": {},
        "outputId": "11b29a69-4d90-48b1-cdb4-f864c2ed091c"
      },
      "source": [
        "train = pd.read_csv('v3_train_okt.csv')\n",
        "train"
      ],
      "execution_count": null,
      "outputs": [
        {
          "output_type": "execute_result",
          "data": {
            "text/html": [
              "<div>\n",
              "<style scoped>\n",
              "    .dataframe tbody tr th:only-of-type {\n",
              "        vertical-align: middle;\n",
              "    }\n",
              "\n",
              "    .dataframe tbody tr th {\n",
              "        vertical-align: top;\n",
              "    }\n",
              "\n",
              "    .dataframe thead th {\n",
              "        text-align: right;\n",
              "    }\n",
              "</style>\n",
              "<table border=\"1\" class=\"dataframe\">\n",
              "  <thead>\n",
              "    <tr style=\"text-align: right;\">\n",
              "      <th></th>\n",
              "      <th>id</th>\n",
              "      <th>document</th>\n",
              "      <th>label</th>\n",
              "      <th>token</th>\n",
              "      <th>pos</th>\n",
              "    </tr>\n",
              "  </thead>\n",
              "  <tbody>\n",
              "    <tr>\n",
              "      <th>0</th>\n",
              "      <td>9976970</td>\n",
              "      <td>아 더빙   진짜 짜증나네요 목소리</td>\n",
              "      <td>0</td>\n",
              "      <td>아 더빙 진짜 짜증나네요 목소리</td>\n",
              "      <td>[('아', 'Exclamation'), ('더빙', 'Noun'), ('진짜', ...</td>\n",
              "    </tr>\n",
              "    <tr>\n",
              "      <th>1</th>\n",
              "      <td>3819312</td>\n",
              "      <td>흠   포스터보고 초딩영화줄    오버연기조차 가볍지 않구나</td>\n",
              "      <td>1</td>\n",
              "      <td>흠 포스터 보고 초딩 영화 줄 오버 연기 조차 가볍지 않구나</td>\n",
              "      <td>[('흠', 'Noun'), ('포스터', 'Noun'), ('보고', 'Noun'...</td>\n",
              "    </tr>\n",
              "    <tr>\n",
              "      <th>2</th>\n",
              "      <td>10265843</td>\n",
              "      <td>너무재밓었다그래서보는것을추천한다</td>\n",
              "      <td>0</td>\n",
              "      <td>너 무재 밓었 다그 래서 보는것을 추천 한 다</td>\n",
              "      <td>[('너', 'Modifier'), ('무재', 'Noun'), ('밓었', 'No...</td>\n",
              "    </tr>\n",
              "    <tr>\n",
              "      <th>3</th>\n",
              "      <td>9045019</td>\n",
              "      <td>교도소 이야기구먼   솔직히 재미는 없다  평점 조정</td>\n",
              "      <td>0</td>\n",
              "      <td>교도소 이야기 구먼 솔직히 재미 는 없다 평점 조정</td>\n",
              "      <td>[('교도소', 'Noun'), ('이야기', 'Noun'), ('구먼', 'Nou...</td>\n",
              "    </tr>\n",
              "    <tr>\n",
              "      <th>4</th>\n",
              "      <td>6483659</td>\n",
              "      <td>사이몬페그의 익살스런 연기가 돋보였던 영화!스파이더맨에서 늙어보이기만 했던 커스틴 ...</td>\n",
              "      <td>1</td>\n",
              "      <td>사이 몬페 그 의 익살스런 연기 가 돋보였던 영화  스파이더맨 에서 늙어 보이기만 ...</td>\n",
              "      <td>[('사이', 'Modifier'), ('몬페', 'Noun'), ('그', 'De...</td>\n",
              "    </tr>\n",
              "    <tr>\n",
              "      <th>...</th>\n",
              "      <td>...</td>\n",
              "      <td>...</td>\n",
              "      <td>...</td>\n",
              "      <td>...</td>\n",
              "      <td>...</td>\n",
              "    </tr>\n",
              "    <tr>\n",
              "      <th>149990</th>\n",
              "      <td>6222902</td>\n",
              "      <td>인간이 문제지   소는 뭔죄인가</td>\n",
              "      <td>0</td>\n",
              "      <td>인간 이 문제 지 소 는 뭔 죄인 가</td>\n",
              "      <td>[('인간', 'Noun'), ('이', 'Josa'), ('문제', 'Noun')...</td>\n",
              "    </tr>\n",
              "    <tr>\n",
              "      <th>149991</th>\n",
              "      <td>8549745</td>\n",
              "      <td>평점이 너무 낮아서</td>\n",
              "      <td>1</td>\n",
              "      <td>평점 이 너무 낮아서</td>\n",
              "      <td>[('평점', 'Noun'), ('이', 'Josa'), ('너무', 'Adverb...</td>\n",
              "    </tr>\n",
              "    <tr>\n",
              "      <th>149992</th>\n",
              "      <td>9311800</td>\n",
              "      <td>이게 뭐요? 한국인은 거들먹거리고 필리핀 혼혈은 착하다?</td>\n",
              "      <td>0</td>\n",
              "      <td>이 게 뭐 요  한국인 은 거들 먹거리 고 필리핀 혼혈 은 착하다</td>\n",
              "      <td>[('이', 'Noun'), ('게', 'Josa'), ('뭐', 'Noun'), ...</td>\n",
              "    </tr>\n",
              "    <tr>\n",
              "      <th>149993</th>\n",
              "      <td>2376369</td>\n",
              "      <td>청춘 영화의 최고봉 방황과 우울했던 날들의 자화상</td>\n",
              "      <td>1</td>\n",
              "      <td>청춘 영화 의 최고봉 방황 과 우울했던 날 들 의 자화상</td>\n",
              "      <td>[('청춘', 'Noun'), ('영화', 'Noun'), ('의', 'Josa')...</td>\n",
              "    </tr>\n",
              "    <tr>\n",
              "      <th>149994</th>\n",
              "      <td>9619869</td>\n",
              "      <td>한국 영화 최초로 수간하는 내용이 담긴 영화</td>\n",
              "      <td>0</td>\n",
              "      <td>한국 영화 최초 로 수간 하는 내용 이 담긴 영화</td>\n",
              "      <td>[('한국', 'Noun'), ('영화', 'Noun'), ('최초', 'Noun'...</td>\n",
              "    </tr>\n",
              "  </tbody>\n",
              "</table>\n",
              "<p>149995 rows × 5 columns</p>\n",
              "</div>"
            ],
            "text/plain": [
              "              id                                           document  label  \\\n",
              "0        9976970                                아 더빙   진짜 짜증나네요 목소리      0   \n",
              "1        3819312                  흠   포스터보고 초딩영화줄    오버연기조차 가볍지 않구나      1   \n",
              "2       10265843                                  너무재밓었다그래서보는것을추천한다      0   \n",
              "3        9045019                      교도소 이야기구먼   솔직히 재미는 없다  평점 조정      0   \n",
              "4        6483659  사이몬페그의 익살스런 연기가 돋보였던 영화!스파이더맨에서 늙어보이기만 했던 커스틴 ...      1   \n",
              "...          ...                                                ...    ...   \n",
              "149990   6222902                                인간이 문제지   소는 뭔죄인가        0   \n",
              "149991   8549745                                      평점이 너무 낮아서         1   \n",
              "149992   9311800                    이게 뭐요? 한국인은 거들먹거리고 필리핀 혼혈은 착하다?      0   \n",
              "149993   2376369                        청춘 영화의 최고봉 방황과 우울했던 날들의 자화상      1   \n",
              "149994   9619869                           한국 영화 최초로 수간하는 내용이 담긴 영화      0   \n",
              "\n",
              "                                                    token  \\\n",
              "0                                       아 더빙 진짜 짜증나네요 목소리   \n",
              "1                       흠 포스터 보고 초딩 영화 줄 오버 연기 조차 가볍지 않구나   \n",
              "2                               너 무재 밓었 다그 래서 보는것을 추천 한 다   \n",
              "3                            교도소 이야기 구먼 솔직히 재미 는 없다 평점 조정   \n",
              "4       사이 몬페 그 의 익살스런 연기 가 돋보였던 영화  스파이더맨 에서 늙어 보이기만 ...   \n",
              "...                                                   ...   \n",
              "149990                               인간 이 문제 지 소 는 뭔 죄인 가   \n",
              "149991                                        평점 이 너무 낮아서   \n",
              "149992              이 게 뭐 요  한국인 은 거들 먹거리 고 필리핀 혼혈 은 착하다    \n",
              "149993                    청춘 영화 의 최고봉 방황 과 우울했던 날 들 의 자화상   \n",
              "149994                        한국 영화 최초 로 수간 하는 내용 이 담긴 영화   \n",
              "\n",
              "                                                      pos  \n",
              "0       [('아', 'Exclamation'), ('더빙', 'Noun'), ('진짜', ...  \n",
              "1       [('흠', 'Noun'), ('포스터', 'Noun'), ('보고', 'Noun'...  \n",
              "2       [('너', 'Modifier'), ('무재', 'Noun'), ('밓었', 'No...  \n",
              "3       [('교도소', 'Noun'), ('이야기', 'Noun'), ('구먼', 'Nou...  \n",
              "4       [('사이', 'Modifier'), ('몬페', 'Noun'), ('그', 'De...  \n",
              "...                                                   ...  \n",
              "149990  [('인간', 'Noun'), ('이', 'Josa'), ('문제', 'Noun')...  \n",
              "149991  [('평점', 'Noun'), ('이', 'Josa'), ('너무', 'Adverb...  \n",
              "149992  [('이', 'Noun'), ('게', 'Josa'), ('뭐', 'Noun'), ...  \n",
              "149993  [('청춘', 'Noun'), ('영화', 'Noun'), ('의', 'Josa')...  \n",
              "149994  [('한국', 'Noun'), ('영화', 'Noun'), ('최초', 'Noun'...  \n",
              "\n",
              "[149995 rows x 5 columns]"
            ]
          },
          "metadata": {
            "tags": []
          },
          "execution_count": 2
        }
      ]
    },
    {
      "cell_type": "code",
      "metadata": {
        "id": "JCB_m2H14wRf",
        "colab_type": "code",
        "colab": {},
        "outputId": "c1e0bcc4-1f97-449d-cf43-571efd80c6d6"
      },
      "source": [
        "train[train['token'].isna()]"
      ],
      "execution_count": null,
      "outputs": [
        {
          "output_type": "execute_result",
          "data": {
            "text/html": [
              "<div>\n",
              "<style scoped>\n",
              "    .dataframe tbody tr th:only-of-type {\n",
              "        vertical-align: middle;\n",
              "    }\n",
              "\n",
              "    .dataframe tbody tr th {\n",
              "        vertical-align: top;\n",
              "    }\n",
              "\n",
              "    .dataframe thead th {\n",
              "        text-align: right;\n",
              "    }\n",
              "</style>\n",
              "<table border=\"1\" class=\"dataframe\">\n",
              "  <thead>\n",
              "    <tr style=\"text-align: right;\">\n",
              "      <th></th>\n",
              "      <th>id</th>\n",
              "      <th>document</th>\n",
              "      <th>label</th>\n",
              "      <th>token</th>\n",
              "      <th>pos</th>\n",
              "    </tr>\n",
              "  </thead>\n",
              "  <tbody>\n",
              "    <tr>\n",
              "      <th>972</th>\n",
              "      <td>7425748</td>\n",
              "      <td>ㅇㅇ</td>\n",
              "      <td>0</td>\n",
              "      <td>NaN</td>\n",
              "      <td>[('ㅇㅇ', 'KoreanParticle')]</td>\n",
              "    </tr>\n",
              "    <tr>\n",
              "      <th>1840</th>\n",
              "      <td>7095375</td>\n",
              "      <td>♥♥♥</td>\n",
              "      <td>1</td>\n",
              "      <td>NaN</td>\n",
              "      <td>[('♥♥♥', 'Foreign')]</td>\n",
              "    </tr>\n",
              "    <tr>\n",
              "      <th>2159</th>\n",
              "      <td>7070900</td>\n",
              "      <td>ㅎㅎ</td>\n",
              "      <td>1</td>\n",
              "      <td>NaN</td>\n",
              "      <td>[('ㅎㅎ', 'KoreanParticle')]</td>\n",
              "    </tr>\n",
              "    <tr>\n",
              "      <th>2504</th>\n",
              "      <td>7449459</td>\n",
              "      <td>ㅉㅉ</td>\n",
              "      <td>0</td>\n",
              "      <td>NaN</td>\n",
              "      <td>[('ㅉㅉ', 'KoreanParticle')]</td>\n",
              "    </tr>\n",
              "    <tr>\n",
              "      <th>2648</th>\n",
              "      <td>423224</td>\n",
              "      <td>^^</td>\n",
              "      <td>1</td>\n",
              "      <td>NaN</td>\n",
              "      <td>[('^^', 'Punctuation')]</td>\n",
              "    </tr>\n",
              "    <tr>\n",
              "      <th>...</th>\n",
              "      <td>...</td>\n",
              "      <td>...</td>\n",
              "      <td>...</td>\n",
              "      <td>...</td>\n",
              "      <td>...</td>\n",
              "    </tr>\n",
              "    <tr>\n",
              "      <th>149359</th>\n",
              "      <td>8014701</td>\n",
              "      <td>!!!!!!</td>\n",
              "      <td>1</td>\n",
              "      <td>NaN</td>\n",
              "      <td>[('!!!!!!', 'Punctuation')]</td>\n",
              "    </tr>\n",
              "    <tr>\n",
              "      <th>149393</th>\n",
              "      <td>7432786</td>\n",
              "      <td>ㄴㄴ</td>\n",
              "      <td>0</td>\n",
              "      <td>NaN</td>\n",
              "      <td>[('ㄴㄴ', 'KoreanParticle')]</td>\n",
              "    </tr>\n",
              "    <tr>\n",
              "      <th>149440</th>\n",
              "      <td>7133917</td>\n",
              "      <td>ㅊㄹㅊㄹㅊㄹㅊㄹㅊㄹㅊㄹㅊㄹㅊㄹ</td>\n",
              "      <td>0</td>\n",
              "      <td>NaN</td>\n",
              "      <td>[('ㅊㄹㅊㄹㅊㄹㅊㄹㅊㄹㅊㄹㅊㄹㅊㄹ', 'KoreanParticle')]</td>\n",
              "    </tr>\n",
              "    <tr>\n",
              "      <th>149713</th>\n",
              "      <td>7690797</td>\n",
              "      <td></td>\n",
              "      <td>1</td>\n",
              "      <td>NaN</td>\n",
              "      <td>[]</td>\n",
              "    </tr>\n",
              "    <tr>\n",
              "      <th>149857</th>\n",
              "      <td>7175749</td>\n",
              "      <td></td>\n",
              "      <td>0</td>\n",
              "      <td>NaN</td>\n",
              "      <td>[]</td>\n",
              "    </tr>\n",
              "  </tbody>\n",
              "</table>\n",
              "<p>551 rows × 5 columns</p>\n",
              "</div>"
            ],
            "text/plain": [
              "             id          document  label token  \\\n",
              "972     7425748                ㅇㅇ      0   NaN   \n",
              "1840    7095375               ♥♥♥      1   NaN   \n",
              "2159    7070900                ㅎㅎ      1   NaN   \n",
              "2504    7449459                ㅉㅉ      0   NaN   \n",
              "2648     423224                ^^      1   NaN   \n",
              "...         ...               ...    ...   ...   \n",
              "149359  8014701            !!!!!!      1   NaN   \n",
              "149393  7432786                ㄴㄴ      0   NaN   \n",
              "149440  7133917  ㅊㄹㅊㄹㅊㄹㅊㄹㅊㄹㅊㄹㅊㄹㅊㄹ      0   NaN   \n",
              "149713  7690797                        1   NaN   \n",
              "149857  7175749                        0   NaN   \n",
              "\n",
              "                                             pos  \n",
              "972                   [('ㅇㅇ', 'KoreanParticle')]  \n",
              "1840                        [('♥♥♥', 'Foreign')]  \n",
              "2159                  [('ㅎㅎ', 'KoreanParticle')]  \n",
              "2504                  [('ㅉㅉ', 'KoreanParticle')]  \n",
              "2648                     [('^^', 'Punctuation')]  \n",
              "...                                          ...  \n",
              "149359               [('!!!!!!', 'Punctuation')]  \n",
              "149393                [('ㄴㄴ', 'KoreanParticle')]  \n",
              "149440  [('ㅊㄹㅊㄹㅊㄹㅊㄹㅊㄹㅊㄹㅊㄹㅊㄹ', 'KoreanParticle')]  \n",
              "149713                                        []  \n",
              "149857                                        []  \n",
              "\n",
              "[551 rows x 5 columns]"
            ]
          },
          "metadata": {
            "tags": []
          },
          "execution_count": 3
        }
      ]
    },
    {
      "cell_type": "code",
      "metadata": {
        "id": "t_xAAY2m4wRm",
        "colab_type": "code",
        "colab": {}
      },
      "source": [
        "train.dropna(inplace=True)\n",
        "train.reset_index(drop=True, inplace=True)"
      ],
      "execution_count": null,
      "outputs": []
    },
    {
      "cell_type": "code",
      "metadata": {
        "id": "RMYNeWbQ4wRq",
        "colab_type": "code",
        "colab": {},
        "outputId": "a56f4d01-50f2-4d93-ac9f-a8cc5c8bf366"
      },
      "source": [
        "train"
      ],
      "execution_count": null,
      "outputs": [
        {
          "output_type": "execute_result",
          "data": {
            "text/html": [
              "<div>\n",
              "<style scoped>\n",
              "    .dataframe tbody tr th:only-of-type {\n",
              "        vertical-align: middle;\n",
              "    }\n",
              "\n",
              "    .dataframe tbody tr th {\n",
              "        vertical-align: top;\n",
              "    }\n",
              "\n",
              "    .dataframe thead th {\n",
              "        text-align: right;\n",
              "    }\n",
              "</style>\n",
              "<table border=\"1\" class=\"dataframe\">\n",
              "  <thead>\n",
              "    <tr style=\"text-align: right;\">\n",
              "      <th></th>\n",
              "      <th>id</th>\n",
              "      <th>document</th>\n",
              "      <th>label</th>\n",
              "      <th>token</th>\n",
              "      <th>pos</th>\n",
              "    </tr>\n",
              "  </thead>\n",
              "  <tbody>\n",
              "    <tr>\n",
              "      <th>0</th>\n",
              "      <td>9976970</td>\n",
              "      <td>아 더빙   진짜 짜증나네요 목소리</td>\n",
              "      <td>0</td>\n",
              "      <td>아 더빙 진짜 짜증나네요 목소리</td>\n",
              "      <td>[('아', 'Exclamation'), ('더빙', 'Noun'), ('진짜', ...</td>\n",
              "    </tr>\n",
              "    <tr>\n",
              "      <th>1</th>\n",
              "      <td>3819312</td>\n",
              "      <td>흠   포스터보고 초딩영화줄    오버연기조차 가볍지 않구나</td>\n",
              "      <td>1</td>\n",
              "      <td>흠 포스터 보고 초딩 영화 줄 오버 연기 조차 가볍지 않구나</td>\n",
              "      <td>[('흠', 'Noun'), ('포스터', 'Noun'), ('보고', 'Noun'...</td>\n",
              "    </tr>\n",
              "    <tr>\n",
              "      <th>2</th>\n",
              "      <td>10265843</td>\n",
              "      <td>너무재밓었다그래서보는것을추천한다</td>\n",
              "      <td>0</td>\n",
              "      <td>너 무재 밓었 다그 래서 보는것을 추천 한 다</td>\n",
              "      <td>[('너', 'Modifier'), ('무재', 'Noun'), ('밓었', 'No...</td>\n",
              "    </tr>\n",
              "    <tr>\n",
              "      <th>3</th>\n",
              "      <td>9045019</td>\n",
              "      <td>교도소 이야기구먼   솔직히 재미는 없다  평점 조정</td>\n",
              "      <td>0</td>\n",
              "      <td>교도소 이야기 구먼 솔직히 재미 는 없다 평점 조정</td>\n",
              "      <td>[('교도소', 'Noun'), ('이야기', 'Noun'), ('구먼', 'Nou...</td>\n",
              "    </tr>\n",
              "    <tr>\n",
              "      <th>4</th>\n",
              "      <td>6483659</td>\n",
              "      <td>사이몬페그의 익살스런 연기가 돋보였던 영화!스파이더맨에서 늙어보이기만 했던 커스틴 ...</td>\n",
              "      <td>1</td>\n",
              "      <td>사이 몬페 그 의 익살스런 연기 가 돋보였던 영화  스파이더맨 에서 늙어 보이기만 ...</td>\n",
              "      <td>[('사이', 'Modifier'), ('몬페', 'Noun'), ('그', 'De...</td>\n",
              "    </tr>\n",
              "    <tr>\n",
              "      <th>...</th>\n",
              "      <td>...</td>\n",
              "      <td>...</td>\n",
              "      <td>...</td>\n",
              "      <td>...</td>\n",
              "      <td>...</td>\n",
              "    </tr>\n",
              "    <tr>\n",
              "      <th>149439</th>\n",
              "      <td>6222902</td>\n",
              "      <td>인간이 문제지   소는 뭔죄인가</td>\n",
              "      <td>0</td>\n",
              "      <td>인간 이 문제 지 소 는 뭔 죄인 가</td>\n",
              "      <td>[('인간', 'Noun'), ('이', 'Josa'), ('문제', 'Noun')...</td>\n",
              "    </tr>\n",
              "    <tr>\n",
              "      <th>149440</th>\n",
              "      <td>8549745</td>\n",
              "      <td>평점이 너무 낮아서</td>\n",
              "      <td>1</td>\n",
              "      <td>평점 이 너무 낮아서</td>\n",
              "      <td>[('평점', 'Noun'), ('이', 'Josa'), ('너무', 'Adverb...</td>\n",
              "    </tr>\n",
              "    <tr>\n",
              "      <th>149441</th>\n",
              "      <td>9311800</td>\n",
              "      <td>이게 뭐요? 한국인은 거들먹거리고 필리핀 혼혈은 착하다?</td>\n",
              "      <td>0</td>\n",
              "      <td>이 게 뭐 요  한국인 은 거들 먹거리 고 필리핀 혼혈 은 착하다</td>\n",
              "      <td>[('이', 'Noun'), ('게', 'Josa'), ('뭐', 'Noun'), ...</td>\n",
              "    </tr>\n",
              "    <tr>\n",
              "      <th>149442</th>\n",
              "      <td>2376369</td>\n",
              "      <td>청춘 영화의 최고봉 방황과 우울했던 날들의 자화상</td>\n",
              "      <td>1</td>\n",
              "      <td>청춘 영화 의 최고봉 방황 과 우울했던 날 들 의 자화상</td>\n",
              "      <td>[('청춘', 'Noun'), ('영화', 'Noun'), ('의', 'Josa')...</td>\n",
              "    </tr>\n",
              "    <tr>\n",
              "      <th>149443</th>\n",
              "      <td>9619869</td>\n",
              "      <td>한국 영화 최초로 수간하는 내용이 담긴 영화</td>\n",
              "      <td>0</td>\n",
              "      <td>한국 영화 최초 로 수간 하는 내용 이 담긴 영화</td>\n",
              "      <td>[('한국', 'Noun'), ('영화', 'Noun'), ('최초', 'Noun'...</td>\n",
              "    </tr>\n",
              "  </tbody>\n",
              "</table>\n",
              "<p>149444 rows × 5 columns</p>\n",
              "</div>"
            ],
            "text/plain": [
              "              id                                           document  label  \\\n",
              "0        9976970                                아 더빙   진짜 짜증나네요 목소리      0   \n",
              "1        3819312                  흠   포스터보고 초딩영화줄    오버연기조차 가볍지 않구나      1   \n",
              "2       10265843                                  너무재밓었다그래서보는것을추천한다      0   \n",
              "3        9045019                      교도소 이야기구먼   솔직히 재미는 없다  평점 조정      0   \n",
              "4        6483659  사이몬페그의 익살스런 연기가 돋보였던 영화!스파이더맨에서 늙어보이기만 했던 커스틴 ...      1   \n",
              "...          ...                                                ...    ...   \n",
              "149439   6222902                                인간이 문제지   소는 뭔죄인가        0   \n",
              "149440   8549745                                      평점이 너무 낮아서         1   \n",
              "149441   9311800                    이게 뭐요? 한국인은 거들먹거리고 필리핀 혼혈은 착하다?      0   \n",
              "149442   2376369                        청춘 영화의 최고봉 방황과 우울했던 날들의 자화상      1   \n",
              "149443   9619869                           한국 영화 최초로 수간하는 내용이 담긴 영화      0   \n",
              "\n",
              "                                                    token  \\\n",
              "0                                       아 더빙 진짜 짜증나네요 목소리   \n",
              "1                       흠 포스터 보고 초딩 영화 줄 오버 연기 조차 가볍지 않구나   \n",
              "2                               너 무재 밓었 다그 래서 보는것을 추천 한 다   \n",
              "3                            교도소 이야기 구먼 솔직히 재미 는 없다 평점 조정   \n",
              "4       사이 몬페 그 의 익살스런 연기 가 돋보였던 영화  스파이더맨 에서 늙어 보이기만 ...   \n",
              "...                                                   ...   \n",
              "149439                               인간 이 문제 지 소 는 뭔 죄인 가   \n",
              "149440                                        평점 이 너무 낮아서   \n",
              "149441              이 게 뭐 요  한국인 은 거들 먹거리 고 필리핀 혼혈 은 착하다    \n",
              "149442                    청춘 영화 의 최고봉 방황 과 우울했던 날 들 의 자화상   \n",
              "149443                        한국 영화 최초 로 수간 하는 내용 이 담긴 영화   \n",
              "\n",
              "                                                      pos  \n",
              "0       [('아', 'Exclamation'), ('더빙', 'Noun'), ('진짜', ...  \n",
              "1       [('흠', 'Noun'), ('포스터', 'Noun'), ('보고', 'Noun'...  \n",
              "2       [('너', 'Modifier'), ('무재', 'Noun'), ('밓었', 'No...  \n",
              "3       [('교도소', 'Noun'), ('이야기', 'Noun'), ('구먼', 'Nou...  \n",
              "4       [('사이', 'Modifier'), ('몬페', 'Noun'), ('그', 'De...  \n",
              "...                                                   ...  \n",
              "149439  [('인간', 'Noun'), ('이', 'Josa'), ('문제', 'Noun')...  \n",
              "149440  [('평점', 'Noun'), ('이', 'Josa'), ('너무', 'Adverb...  \n",
              "149441  [('이', 'Noun'), ('게', 'Josa'), ('뭐', 'Noun'), ...  \n",
              "149442  [('청춘', 'Noun'), ('영화', 'Noun'), ('의', 'Josa')...  \n",
              "149443  [('한국', 'Noun'), ('영화', 'Noun'), ('최초', 'Noun'...  \n",
              "\n",
              "[149444 rows x 5 columns]"
            ]
          },
          "metadata": {
            "tags": []
          },
          "execution_count": 5
        }
      ]
    },
    {
      "cell_type": "code",
      "metadata": {
        "id": "6dN_WTva4wRu",
        "colab_type": "code",
        "colab": {},
        "outputId": "75ecee89-a1b7-483f-f61e-088004bb8f87"
      },
      "source": [
        "test = pd.read_csv('v3_test_okt.csv')\n",
        "test"
      ],
      "execution_count": null,
      "outputs": [
        {
          "output_type": "execute_result",
          "data": {
            "text/html": [
              "<div>\n",
              "<style scoped>\n",
              "    .dataframe tbody tr th:only-of-type {\n",
              "        vertical-align: middle;\n",
              "    }\n",
              "\n",
              "    .dataframe tbody tr th {\n",
              "        vertical-align: top;\n",
              "    }\n",
              "\n",
              "    .dataframe thead th {\n",
              "        text-align: right;\n",
              "    }\n",
              "</style>\n",
              "<table border=\"1\" class=\"dataframe\">\n",
              "  <thead>\n",
              "    <tr style=\"text-align: right;\">\n",
              "      <th></th>\n",
              "      <th>id</th>\n",
              "      <th>document</th>\n",
              "      <th>label</th>\n",
              "      <th>token</th>\n",
              "      <th>token_pos</th>\n",
              "    </tr>\n",
              "  </thead>\n",
              "  <tbody>\n",
              "    <tr>\n",
              "      <th>0</th>\n",
              "      <td>6270596</td>\n",
              "      <td>굳 ㅋ</td>\n",
              "      <td>1</td>\n",
              "      <td>굳</td>\n",
              "      <td>[('굳', 'Adjective'), ('ㅋ', 'KoreanParticle')]</td>\n",
              "    </tr>\n",
              "    <tr>\n",
              "      <th>1</th>\n",
              "      <td>9274899</td>\n",
              "      <td>GDNTOPCLASSINTHECLUB</td>\n",
              "      <td>0</td>\n",
              "      <td>GDNTOPCLASSINTHECLUB</td>\n",
              "      <td>[('GDNTOPCLASSINTHECLUB', 'Alpha')]</td>\n",
              "    </tr>\n",
              "    <tr>\n",
              "      <th>2</th>\n",
              "      <td>8544678</td>\n",
              "      <td>뭐야 이 평점들은     나쁘진 않지만 10점 짜리는 더더욱 아니잖아</td>\n",
              "      <td>0</td>\n",
              "      <td>뭐 야 이 평점 들 은 나쁘진 않지만 10 점 짜 리 는 더 더욱 아니잖아</td>\n",
              "      <td>[('뭐', 'Noun'), ('야', 'Josa'), ('이', 'Noun'), ...</td>\n",
              "    </tr>\n",
              "    <tr>\n",
              "      <th>3</th>\n",
              "      <td>6825595</td>\n",
              "      <td>지루하지는 않은데 완전 막장임    돈주고 보기에는</td>\n",
              "      <td>0</td>\n",
              "      <td>지루하지는 않은데 완전 막장 임 돈 주고 보기 에는</td>\n",
              "      <td>[('지루하지는', 'Adjective'), ('않은데', 'Verb'), ('완전...</td>\n",
              "    </tr>\n",
              "    <tr>\n",
              "      <th>4</th>\n",
              "      <td>6723715</td>\n",
              "      <td>3D만 아니었어도 별 다섯 개 줬을텐데   왜 3D로 나와서 제 심기를 불편하게 하죠??</td>\n",
              "      <td>0</td>\n",
              "      <td>3 D 만 아니었어도 별 다섯 개 줬을텐데 왜 3 D 로 나와서 제 심기 를 불편하...</td>\n",
              "      <td>[('3', 'Number'), ('D', 'Alpha'), ('만', 'Noun'...</td>\n",
              "    </tr>\n",
              "    <tr>\n",
              "      <th>...</th>\n",
              "      <td>...</td>\n",
              "      <td>...</td>\n",
              "      <td>...</td>\n",
              "      <td>...</td>\n",
              "      <td>...</td>\n",
              "    </tr>\n",
              "    <tr>\n",
              "      <th>49992</th>\n",
              "      <td>4608761</td>\n",
              "      <td>오랜만에 평점 로긴했네ㅋㅋ 킹왕짱 쌈뽕한 영화를 만났습니다 강렬하게 육쾌함</td>\n",
              "      <td>1</td>\n",
              "      <td>오랜 만 에 평점 로 긴 했네  킹왕짱 쌈뽕 한 영화 를 만났습니다 강렬하게 육 쾌함</td>\n",
              "      <td>[('오랜', 'Modifier'), ('만', 'Noun'), ('에', 'Jos...</td>\n",
              "    </tr>\n",
              "    <tr>\n",
              "      <th>49993</th>\n",
              "      <td>5308387</td>\n",
              "      <td>의지 박약들이나 하는거다 탈영은 일단 주인공 김대희 닮았고 이등병 찐따 OOOO</td>\n",
              "      <td>0</td>\n",
              "      <td>의지 박약 들 이나 하는거다 탈영 은 일단 주인공 김대희 닮았고 이등병 찐 따 OOOO</td>\n",
              "      <td>[('의지', 'Noun'), ('박약', 'Noun'), ('들', 'Suffix...</td>\n",
              "    </tr>\n",
              "    <tr>\n",
              "      <th>49994</th>\n",
              "      <td>9072549</td>\n",
              "      <td>그림도 좋고 완성도도 높았지만    보는 내내 불안하게 만든다</td>\n",
              "      <td>0</td>\n",
              "      <td>그림 도 좋고 완성 도도 높았지만 보는 내내 불안하게 만든다</td>\n",
              "      <td>[('그림', 'Noun'), ('도', 'Josa'), ('좋고', 'Adject...</td>\n",
              "    </tr>\n",
              "    <tr>\n",
              "      <th>49995</th>\n",
              "      <td>5802125</td>\n",
              "      <td>절대 봐서는 안 될 영화   재미도 없고 기분만 잡치고   한 세트장에서 다 해먹네</td>\n",
              "      <td>0</td>\n",
              "      <td>절대 봐 서는 안 될 영화 재미 도 없고 기분 만 잡 치고 한 세트 장 에서 다 해먹 네</td>\n",
              "      <td>[('절대', 'Noun'), ('봐', 'Verb'), ('서는', 'Verb')...</td>\n",
              "    </tr>\n",
              "    <tr>\n",
              "      <th>49996</th>\n",
              "      <td>6070594</td>\n",
              "      <td>마무리는 또 왜이래</td>\n",
              "      <td>0</td>\n",
              "      <td>마무리 는 또 왜 이래</td>\n",
              "      <td>[('마무리', 'Noun'), ('는', 'Josa'), ('또', 'Noun')...</td>\n",
              "    </tr>\n",
              "  </tbody>\n",
              "</table>\n",
              "<p>49997 rows × 5 columns</p>\n",
              "</div>"
            ],
            "text/plain": [
              "            id                                           document  label  \\\n",
              "0      6270596                                                굳 ㅋ      1   \n",
              "1      9274899                               GDNTOPCLASSINTHECLUB      0   \n",
              "2      8544678             뭐야 이 평점들은     나쁘진 않지만 10점 짜리는 더더욱 아니잖아      0   \n",
              "3      6825595                   지루하지는 않은데 완전 막장임    돈주고 보기에는          0   \n",
              "4      6723715  3D만 아니었어도 별 다섯 개 줬을텐데   왜 3D로 나와서 제 심기를 불편하게 하죠??      0   \n",
              "...        ...                                                ...    ...   \n",
              "49992  4608761          오랜만에 평점 로긴했네ㅋㅋ 킹왕짱 쌈뽕한 영화를 만났습니다 강렬하게 육쾌함      1   \n",
              "49993  5308387       의지 박약들이나 하는거다 탈영은 일단 주인공 김대희 닮았고 이등병 찐따 OOOO      0   \n",
              "49994  9072549                 그림도 좋고 완성도도 높았지만    보는 내내 불안하게 만든다      0   \n",
              "49995  5802125     절대 봐서는 안 될 영화   재미도 없고 기분만 잡치고   한 세트장에서 다 해먹네      0   \n",
              "49996  6070594                                         마무리는 또 왜이래      0   \n",
              "\n",
              "                                                   token  \\\n",
              "0                                                     굳    \n",
              "1                                   GDNTOPCLASSINTHECLUB   \n",
              "2              뭐 야 이 평점 들 은 나쁘진 않지만 10 점 짜 리 는 더 더욱 아니잖아   \n",
              "3                           지루하지는 않은데 완전 막장 임 돈 주고 보기 에는   \n",
              "4      3 D 만 아니었어도 별 다섯 개 줬을텐데 왜 3 D 로 나와서 제 심기 를 불편하...   \n",
              "...                                                  ...   \n",
              "49992    오랜 만 에 평점 로 긴 했네  킹왕짱 쌈뽕 한 영화 를 만났습니다 강렬하게 육 쾌함   \n",
              "49993   의지 박약 들 이나 하는거다 탈영 은 일단 주인공 김대희 닮았고 이등병 찐 따 OOOO   \n",
              "49994                  그림 도 좋고 완성 도도 높았지만 보는 내내 불안하게 만든다   \n",
              "49995  절대 봐 서는 안 될 영화 재미 도 없고 기분 만 잡 치고 한 세트 장 에서 다 해먹 네   \n",
              "49996                                       마무리 는 또 왜 이래   \n",
              "\n",
              "                                               token_pos  \n",
              "0          [('굳', 'Adjective'), ('ㅋ', 'KoreanParticle')]  \n",
              "1                    [('GDNTOPCLASSINTHECLUB', 'Alpha')]  \n",
              "2      [('뭐', 'Noun'), ('야', 'Josa'), ('이', 'Noun'), ...  \n",
              "3      [('지루하지는', 'Adjective'), ('않은데', 'Verb'), ('완전...  \n",
              "4      [('3', 'Number'), ('D', 'Alpha'), ('만', 'Noun'...  \n",
              "...                                                  ...  \n",
              "49992  [('오랜', 'Modifier'), ('만', 'Noun'), ('에', 'Jos...  \n",
              "49993  [('의지', 'Noun'), ('박약', 'Noun'), ('들', 'Suffix...  \n",
              "49994  [('그림', 'Noun'), ('도', 'Josa'), ('좋고', 'Adject...  \n",
              "49995  [('절대', 'Noun'), ('봐', 'Verb'), ('서는', 'Verb')...  \n",
              "49996  [('마무리', 'Noun'), ('는', 'Josa'), ('또', 'Noun')...  \n",
              "\n",
              "[49997 rows x 5 columns]"
            ]
          },
          "metadata": {
            "tags": []
          },
          "execution_count": 6
        }
      ]
    },
    {
      "cell_type": "code",
      "metadata": {
        "id": "iBax0oyw4wRy",
        "colab_type": "code",
        "colab": {},
        "outputId": "3896877c-f461-46a1-cde3-57aca1cd773a"
      },
      "source": [
        "test[test['token'].isna()]"
      ],
      "execution_count": null,
      "outputs": [
        {
          "output_type": "execute_result",
          "data": {
            "text/html": [
              "<div>\n",
              "<style scoped>\n",
              "    .dataframe tbody tr th:only-of-type {\n",
              "        vertical-align: middle;\n",
              "    }\n",
              "\n",
              "    .dataframe tbody tr th {\n",
              "        vertical-align: top;\n",
              "    }\n",
              "\n",
              "    .dataframe thead th {\n",
              "        text-align: right;\n",
              "    }\n",
              "</style>\n",
              "<table border=\"1\" class=\"dataframe\">\n",
              "  <thead>\n",
              "    <tr style=\"text-align: right;\">\n",
              "      <th></th>\n",
              "      <th>id</th>\n",
              "      <th>document</th>\n",
              "      <th>label</th>\n",
              "      <th>token</th>\n",
              "      <th>token_pos</th>\n",
              "    </tr>\n",
              "  </thead>\n",
              "  <tbody>\n",
              "    <tr>\n",
              "      <th>116</th>\n",
              "      <td>6910486</td>\n",
              "      <td></td>\n",
              "      <td>1</td>\n",
              "      <td>NaN</td>\n",
              "      <td>[]</td>\n",
              "    </tr>\n",
              "    <tr>\n",
              "      <th>254</th>\n",
              "      <td>4976468</td>\n",
              "      <td>--</td>\n",
              "      <td>0</td>\n",
              "      <td>NaN</td>\n",
              "      <td>[('--', 'Punctuation')]</td>\n",
              "    </tr>\n",
              "    <tr>\n",
              "      <th>1000</th>\n",
              "      <td>7710606</td>\n",
              "      <td>^^</td>\n",
              "      <td>1</td>\n",
              "      <td>NaN</td>\n",
              "      <td>[('^^', 'Punctuation')]</td>\n",
              "    </tr>\n",
              "    <tr>\n",
              "      <th>1301</th>\n",
              "      <td>63841</td>\n",
              "      <td></td>\n",
              "      <td>0</td>\n",
              "      <td>NaN</td>\n",
              "      <td>[]</td>\n",
              "    </tr>\n",
              "    <tr>\n",
              "      <th>1330</th>\n",
              "      <td>7802860</td>\n",
              "      <td>ㅗ</td>\n",
              "      <td>0</td>\n",
              "      <td>NaN</td>\n",
              "      <td>[('ㅗ', 'KoreanParticle')]</td>\n",
              "    </tr>\n",
              "    <tr>\n",
              "      <th>...</th>\n",
              "      <td>...</td>\n",
              "      <td>...</td>\n",
              "      <td>...</td>\n",
              "      <td>...</td>\n",
              "      <td>...</td>\n",
              "    </tr>\n",
              "    <tr>\n",
              "      <th>48731</th>\n",
              "      <td>6429994</td>\n",
              "      <td>ㅋ</td>\n",
              "      <td>0</td>\n",
              "      <td>NaN</td>\n",
              "      <td>[('ㅋ', 'KoreanParticle')]</td>\n",
              "    </tr>\n",
              "    <tr>\n",
              "      <th>48864</th>\n",
              "      <td>272971</td>\n",
              "      <td>ㅡㅡ</td>\n",
              "      <td>0</td>\n",
              "      <td>NaN</td>\n",
              "      <td>[('ㅡㅡ', 'KoreanParticle')]</td>\n",
              "    </tr>\n",
              "    <tr>\n",
              "      <th>48935</th>\n",
              "      <td>7480764</td>\n",
              "      <td>ㅎㅎ</td>\n",
              "      <td>0</td>\n",
              "      <td>NaN</td>\n",
              "      <td>[('ㅎㅎ', 'KoreanParticle')]</td>\n",
              "    </tr>\n",
              "    <tr>\n",
              "      <th>49555</th>\n",
              "      <td>6159198</td>\n",
              "      <td>ㅋ</td>\n",
              "      <td>0</td>\n",
              "      <td>NaN</td>\n",
              "      <td>[('ㅋ', 'KoreanParticle')]</td>\n",
              "    </tr>\n",
              "    <tr>\n",
              "      <th>49616</th>\n",
              "      <td>700870</td>\n",
              "      <td>ㅋㅋ</td>\n",
              "      <td>1</td>\n",
              "      <td>NaN</td>\n",
              "      <td>[('ㅋㅋ', 'KoreanParticle')]</td>\n",
              "    </tr>\n",
              "  </tbody>\n",
              "</table>\n",
              "<p>193 rows × 5 columns</p>\n",
              "</div>"
            ],
            "text/plain": [
              "            id document  label token                   token_pos\n",
              "116    6910486               1   NaN                          []\n",
              "254    4976468       --      0   NaN     [('--', 'Punctuation')]\n",
              "1000   7710606       ^^      1   NaN     [('^^', 'Punctuation')]\n",
              "1301     63841               0   NaN                          []\n",
              "1330   7802860        ㅗ      0   NaN   [('ㅗ', 'KoreanParticle')]\n",
              "...        ...      ...    ...   ...                         ...\n",
              "48731  6429994    ㅋ          0   NaN   [('ㅋ', 'KoreanParticle')]\n",
              "48864   272971       ㅡㅡ      0   NaN  [('ㅡㅡ', 'KoreanParticle')]\n",
              "48935  7480764       ㅎㅎ      0   NaN  [('ㅎㅎ', 'KoreanParticle')]\n",
              "49555  6159198        ㅋ      0   NaN   [('ㅋ', 'KoreanParticle')]\n",
              "49616   700870       ㅋㅋ      1   NaN  [('ㅋㅋ', 'KoreanParticle')]\n",
              "\n",
              "[193 rows x 5 columns]"
            ]
          },
          "metadata": {
            "tags": []
          },
          "execution_count": 7
        }
      ]
    },
    {
      "cell_type": "code",
      "metadata": {
        "id": "3HrZy2U04wR2",
        "colab_type": "code",
        "colab": {}
      },
      "source": [
        "test.dropna(inplace=True)\n",
        "test.reset_index(drop=True, inplace=True)"
      ],
      "execution_count": null,
      "outputs": []
    },
    {
      "cell_type": "code",
      "metadata": {
        "id": "8REWFuW64wR5",
        "colab_type": "code",
        "colab": {},
        "outputId": "d8c0ba6f-e502-45cb-b54a-46b0340ee3ff"
      },
      "source": [
        "test"
      ],
      "execution_count": null,
      "outputs": [
        {
          "output_type": "execute_result",
          "data": {
            "text/html": [
              "<div>\n",
              "<style scoped>\n",
              "    .dataframe tbody tr th:only-of-type {\n",
              "        vertical-align: middle;\n",
              "    }\n",
              "\n",
              "    .dataframe tbody tr th {\n",
              "        vertical-align: top;\n",
              "    }\n",
              "\n",
              "    .dataframe thead th {\n",
              "        text-align: right;\n",
              "    }\n",
              "</style>\n",
              "<table border=\"1\" class=\"dataframe\">\n",
              "  <thead>\n",
              "    <tr style=\"text-align: right;\">\n",
              "      <th></th>\n",
              "      <th>id</th>\n",
              "      <th>document</th>\n",
              "      <th>label</th>\n",
              "      <th>token</th>\n",
              "      <th>token_pos</th>\n",
              "    </tr>\n",
              "  </thead>\n",
              "  <tbody>\n",
              "    <tr>\n",
              "      <th>0</th>\n",
              "      <td>6270596</td>\n",
              "      <td>굳 ㅋ</td>\n",
              "      <td>1</td>\n",
              "      <td>굳</td>\n",
              "      <td>[('굳', 'Adjective'), ('ㅋ', 'KoreanParticle')]</td>\n",
              "    </tr>\n",
              "    <tr>\n",
              "      <th>1</th>\n",
              "      <td>9274899</td>\n",
              "      <td>GDNTOPCLASSINTHECLUB</td>\n",
              "      <td>0</td>\n",
              "      <td>GDNTOPCLASSINTHECLUB</td>\n",
              "      <td>[('GDNTOPCLASSINTHECLUB', 'Alpha')]</td>\n",
              "    </tr>\n",
              "    <tr>\n",
              "      <th>2</th>\n",
              "      <td>8544678</td>\n",
              "      <td>뭐야 이 평점들은     나쁘진 않지만 10점 짜리는 더더욱 아니잖아</td>\n",
              "      <td>0</td>\n",
              "      <td>뭐 야 이 평점 들 은 나쁘진 않지만 10 점 짜 리 는 더 더욱 아니잖아</td>\n",
              "      <td>[('뭐', 'Noun'), ('야', 'Josa'), ('이', 'Noun'), ...</td>\n",
              "    </tr>\n",
              "    <tr>\n",
              "      <th>3</th>\n",
              "      <td>6825595</td>\n",
              "      <td>지루하지는 않은데 완전 막장임    돈주고 보기에는</td>\n",
              "      <td>0</td>\n",
              "      <td>지루하지는 않은데 완전 막장 임 돈 주고 보기 에는</td>\n",
              "      <td>[('지루하지는', 'Adjective'), ('않은데', 'Verb'), ('완전...</td>\n",
              "    </tr>\n",
              "    <tr>\n",
              "      <th>4</th>\n",
              "      <td>6723715</td>\n",
              "      <td>3D만 아니었어도 별 다섯 개 줬을텐데   왜 3D로 나와서 제 심기를 불편하게 하죠??</td>\n",
              "      <td>0</td>\n",
              "      <td>3 D 만 아니었어도 별 다섯 개 줬을텐데 왜 3 D 로 나와서 제 심기 를 불편하...</td>\n",
              "      <td>[('3', 'Number'), ('D', 'Alpha'), ('만', 'Noun'...</td>\n",
              "    </tr>\n",
              "    <tr>\n",
              "      <th>...</th>\n",
              "      <td>...</td>\n",
              "      <td>...</td>\n",
              "      <td>...</td>\n",
              "      <td>...</td>\n",
              "      <td>...</td>\n",
              "    </tr>\n",
              "    <tr>\n",
              "      <th>49799</th>\n",
              "      <td>4608761</td>\n",
              "      <td>오랜만에 평점 로긴했네ㅋㅋ 킹왕짱 쌈뽕한 영화를 만났습니다 강렬하게 육쾌함</td>\n",
              "      <td>1</td>\n",
              "      <td>오랜 만 에 평점 로 긴 했네  킹왕짱 쌈뽕 한 영화 를 만났습니다 강렬하게 육 쾌함</td>\n",
              "      <td>[('오랜', 'Modifier'), ('만', 'Noun'), ('에', 'Jos...</td>\n",
              "    </tr>\n",
              "    <tr>\n",
              "      <th>49800</th>\n",
              "      <td>5308387</td>\n",
              "      <td>의지 박약들이나 하는거다 탈영은 일단 주인공 김대희 닮았고 이등병 찐따 OOOO</td>\n",
              "      <td>0</td>\n",
              "      <td>의지 박약 들 이나 하는거다 탈영 은 일단 주인공 김대희 닮았고 이등병 찐 따 OOOO</td>\n",
              "      <td>[('의지', 'Noun'), ('박약', 'Noun'), ('들', 'Suffix...</td>\n",
              "    </tr>\n",
              "    <tr>\n",
              "      <th>49801</th>\n",
              "      <td>9072549</td>\n",
              "      <td>그림도 좋고 완성도도 높았지만    보는 내내 불안하게 만든다</td>\n",
              "      <td>0</td>\n",
              "      <td>그림 도 좋고 완성 도도 높았지만 보는 내내 불안하게 만든다</td>\n",
              "      <td>[('그림', 'Noun'), ('도', 'Josa'), ('좋고', 'Adject...</td>\n",
              "    </tr>\n",
              "    <tr>\n",
              "      <th>49802</th>\n",
              "      <td>5802125</td>\n",
              "      <td>절대 봐서는 안 될 영화   재미도 없고 기분만 잡치고   한 세트장에서 다 해먹네</td>\n",
              "      <td>0</td>\n",
              "      <td>절대 봐 서는 안 될 영화 재미 도 없고 기분 만 잡 치고 한 세트 장 에서 다 해먹 네</td>\n",
              "      <td>[('절대', 'Noun'), ('봐', 'Verb'), ('서는', 'Verb')...</td>\n",
              "    </tr>\n",
              "    <tr>\n",
              "      <th>49803</th>\n",
              "      <td>6070594</td>\n",
              "      <td>마무리는 또 왜이래</td>\n",
              "      <td>0</td>\n",
              "      <td>마무리 는 또 왜 이래</td>\n",
              "      <td>[('마무리', 'Noun'), ('는', 'Josa'), ('또', 'Noun')...</td>\n",
              "    </tr>\n",
              "  </tbody>\n",
              "</table>\n",
              "<p>49804 rows × 5 columns</p>\n",
              "</div>"
            ],
            "text/plain": [
              "            id                                           document  label  \\\n",
              "0      6270596                                                굳 ㅋ      1   \n",
              "1      9274899                               GDNTOPCLASSINTHECLUB      0   \n",
              "2      8544678             뭐야 이 평점들은     나쁘진 않지만 10점 짜리는 더더욱 아니잖아      0   \n",
              "3      6825595                   지루하지는 않은데 완전 막장임    돈주고 보기에는          0   \n",
              "4      6723715  3D만 아니었어도 별 다섯 개 줬을텐데   왜 3D로 나와서 제 심기를 불편하게 하죠??      0   \n",
              "...        ...                                                ...    ...   \n",
              "49799  4608761          오랜만에 평점 로긴했네ㅋㅋ 킹왕짱 쌈뽕한 영화를 만났습니다 강렬하게 육쾌함      1   \n",
              "49800  5308387       의지 박약들이나 하는거다 탈영은 일단 주인공 김대희 닮았고 이등병 찐따 OOOO      0   \n",
              "49801  9072549                 그림도 좋고 완성도도 높았지만    보는 내내 불안하게 만든다      0   \n",
              "49802  5802125     절대 봐서는 안 될 영화   재미도 없고 기분만 잡치고   한 세트장에서 다 해먹네      0   \n",
              "49803  6070594                                         마무리는 또 왜이래      0   \n",
              "\n",
              "                                                   token  \\\n",
              "0                                                     굳    \n",
              "1                                   GDNTOPCLASSINTHECLUB   \n",
              "2              뭐 야 이 평점 들 은 나쁘진 않지만 10 점 짜 리 는 더 더욱 아니잖아   \n",
              "3                           지루하지는 않은데 완전 막장 임 돈 주고 보기 에는   \n",
              "4      3 D 만 아니었어도 별 다섯 개 줬을텐데 왜 3 D 로 나와서 제 심기 를 불편하...   \n",
              "...                                                  ...   \n",
              "49799    오랜 만 에 평점 로 긴 했네  킹왕짱 쌈뽕 한 영화 를 만났습니다 강렬하게 육 쾌함   \n",
              "49800   의지 박약 들 이나 하는거다 탈영 은 일단 주인공 김대희 닮았고 이등병 찐 따 OOOO   \n",
              "49801                  그림 도 좋고 완성 도도 높았지만 보는 내내 불안하게 만든다   \n",
              "49802  절대 봐 서는 안 될 영화 재미 도 없고 기분 만 잡 치고 한 세트 장 에서 다 해먹 네   \n",
              "49803                                       마무리 는 또 왜 이래   \n",
              "\n",
              "                                               token_pos  \n",
              "0          [('굳', 'Adjective'), ('ㅋ', 'KoreanParticle')]  \n",
              "1                    [('GDNTOPCLASSINTHECLUB', 'Alpha')]  \n",
              "2      [('뭐', 'Noun'), ('야', 'Josa'), ('이', 'Noun'), ...  \n",
              "3      [('지루하지는', 'Adjective'), ('않은데', 'Verb'), ('완전...  \n",
              "4      [('3', 'Number'), ('D', 'Alpha'), ('만', 'Noun'...  \n",
              "...                                                  ...  \n",
              "49799  [('오랜', 'Modifier'), ('만', 'Noun'), ('에', 'Jos...  \n",
              "49800  [('의지', 'Noun'), ('박약', 'Noun'), ('들', 'Suffix...  \n",
              "49801  [('그림', 'Noun'), ('도', 'Josa'), ('좋고', 'Adject...  \n",
              "49802  [('절대', 'Noun'), ('봐', 'Verb'), ('서는', 'Verb')...  \n",
              "49803  [('마무리', 'Noun'), ('는', 'Josa'), ('또', 'Noun')...  \n",
              "\n",
              "[49804 rows x 5 columns]"
            ]
          },
          "metadata": {
            "tags": []
          },
          "execution_count": 9
        }
      ]
    },
    {
      "cell_type": "markdown",
      "metadata": {
        "id": "qqGWlaKP4wR8",
        "colab_type": "text"
      },
      "source": [
        "### 전처리 추가 ###"
      ]
    },
    {
      "cell_type": "code",
      "metadata": {
        "id": "_fX3uT3f4wR9",
        "colab_type": "code",
        "colab": {}
      },
      "source": [
        "train.drop_duplicates(subset=['document'], inplace=True)\n",
        "test.drop_duplicates(subset = ['document'], inplace=True)"
      ],
      "execution_count": null,
      "outputs": []
    },
    {
      "cell_type": "code",
      "metadata": {
        "id": "qeorwEN94wSA",
        "colab_type": "code",
        "colab": {}
      },
      "source": [
        "train['document'] = train['document'].str.replace(\"[^ㄱ-ㅎㅏ-ㅣ가-힣 ]\",\"\")\n",
        "test['document'] = test['document'].str.replace(\"[^ㄱ-ㅎㅏ-ㅣ가-힣 ]\",\"\")"
      ],
      "execution_count": null,
      "outputs": []
    },
    {
      "cell_type": "code",
      "metadata": {
        "id": "VgrpTQuS4wSD",
        "colab_type": "code",
        "colab": {},
        "outputId": "461321b1-1c2b-4af1-b18f-33b216827013"
      },
      "source": [
        "print('전처리 후 train 샘플의 개수 :',len(train))\n",
        "print('전처리 후 test 샘플의 개수 :',len(test))"
      ],
      "execution_count": null,
      "outputs": [
        {
          "output_type": "stream",
          "text": [
            "전처리 후 train 샘플의 개수 : 145986\n",
            "전처리 후 test 샘플의 개수 : 49072\n"
          ],
          "name": "stdout"
        }
      ]
    },
    {
      "cell_type": "code",
      "metadata": {
        "id": "-lBwuTiG4wSG",
        "colab_type": "code",
        "colab": {},
        "outputId": "b7b56452-b914-4d0a-d0d4-c4178a9d1523"
      },
      "source": [
        "train['token'].iloc[1057].split()"
      ],
      "execution_count": null,
      "outputs": [
        {
          "output_type": "execute_result",
          "data": {
            "text/plain": [
              "['기분', '완전', '상콤', '해지는데']"
            ]
          },
          "metadata": {
            "tags": []
          },
          "execution_count": 17
        }
      ]
    },
    {
      "cell_type": "code",
      "metadata": {
        "scrolled": true,
        "id": "c2aJHsb-4wSI",
        "colab_type": "code",
        "colab": {},
        "outputId": "b7acb4c7-3b28-4c6d-94ae-d338b5626523"
      },
      "source": [
        "token_list = []\n",
        "from tqdm import tqdm\n",
        "for i in tqdm(range(len(train))):\n",
        "    token_list.append(train['token'].iloc[i].split())"
      ],
      "execution_count": null,
      "outputs": [
        {
          "output_type": "stream",
          "text": [
            "100%|███████████████████████████████████████████████████████████████████████| 145986/145986 [00:01<00:00, 79744.20it/s]\n"
          ],
          "name": "stderr"
        }
      ]
    },
    {
      "cell_type": "code",
      "metadata": {
        "id": "FAtmflSp4wSL",
        "colab_type": "code",
        "colab": {}
      },
      "source": [
        "train_token = token_list"
      ],
      "execution_count": null,
      "outputs": []
    },
    {
      "cell_type": "code",
      "metadata": {
        "id": "9LkFm3B44wSN",
        "colab_type": "code",
        "colab": {},
        "outputId": "f70c774e-0af5-40dd-f4b4-b5e1fb5ce0ce"
      },
      "source": [
        "test_token = []\n",
        "from tqdm import tqdm\n",
        "for i in tqdm(range(len(test))):\n",
        "    test_token.append(test['token'].iloc[i].split())"
      ],
      "execution_count": null,
      "outputs": [
        {
          "output_type": "stream",
          "text": [
            "100%|█████████████████████████████████████████████████████████████████████████| 49072/49072 [00:00<00:00, 75468.02it/s]\n"
          ],
          "name": "stderr"
        }
      ]
    },
    {
      "cell_type": "code",
      "metadata": {
        "id": "W4Qh24D44wSQ",
        "colab_type": "code",
        "colab": {},
        "outputId": "0c61d671-d503-4c1c-dd7e-b519507592d2"
      },
      "source": [
        "test_token[:3]"
      ],
      "execution_count": null,
      "outputs": [
        {
          "output_type": "execute_result",
          "data": {
            "text/plain": [
              "[['굳'],\n",
              " ['GDNTOPCLASSINTHECLUB'],\n",
              " ['뭐',\n",
              "  '야',\n",
              "  '이',\n",
              "  '평점',\n",
              "  '들',\n",
              "  '은',\n",
              "  '나쁘진',\n",
              "  '않지만',\n",
              "  '10',\n",
              "  '점',\n",
              "  '짜',\n",
              "  '리',\n",
              "  '는',\n",
              "  '더',\n",
              "  '더욱',\n",
              "  '아니잖아']]"
            ]
          },
          "metadata": {
            "tags": []
          },
          "execution_count": 22
        }
      ]
    },
    {
      "cell_type": "code",
      "metadata": {
        "id": "noYLvhNN4wST",
        "colab_type": "code",
        "colab": {}
      },
      "source": [
        "# stopwords = ['의','가','이','은','들','는','좀','잘','걍','과','도','를','으로','자','에','와','한','하다']\n",
        "\n",
        "# X_train = []\n",
        "# for sentence in tqdm(train['document']):\n",
        "#     temp_X = train_token\n",
        "#     temp_X = [word for word in temp_X if not word in stopwords] # 불용어 제거\n",
        "#     X_train.append(temp_X)"
      ],
      "execution_count": null,
      "outputs": []
    },
    {
      "cell_type": "code",
      "metadata": {
        "id": "Fw-JxxeR4wSV",
        "colab_type": "code",
        "colab": {}
      },
      "source": [
        "# X_test = []\n",
        "# for sentence in tqdm(test['document']):\n",
        "#     temp_X = test_token\n",
        "#     temp_X = [word for word in temp_X if not word in stopwords] # 불용어 제거\n",
        "#     X_test.append(temp_X)"
      ],
      "execution_count": null,
      "outputs": []
    },
    {
      "cell_type": "code",
      "metadata": {
        "id": "6rqPitw94wSX",
        "colab_type": "code",
        "colab": {}
      },
      "source": [
        "import pandas as pd\n",
        "import urllib.request\n",
        "%matplotlib inline\n",
        "import matplotlib.pyplot as plt\n",
        "import re\n",
        "from konlpy.tag import Okt\n",
        "from tensorflow.keras.preprocessing.text import Tokenizer\n",
        "import numpy as np\n",
        "from tensorflow.keras.preprocessing.sequence import pad_sequences\n",
        "from tensorflow.keras.preprocessing.text import Tokenizer"
      ],
      "execution_count": null,
      "outputs": []
    },
    {
      "cell_type": "code",
      "metadata": {
        "id": "7J_b-5Ym4wSa",
        "colab_type": "code",
        "colab": {},
        "outputId": "f201931a-502a-4964-8f6e-c031eb8c488f"
      },
      "source": [
        "!pip install konlpy"
      ],
      "execution_count": null,
      "outputs": [
        {
          "output_type": "stream",
          "text": [
            "Requirement already satisfied: konlpy in c:\\users\\jejec\\anaconda3\\envs\\mulcam\\lib\\site-packages (0.5.2)\n",
            "Requirement already satisfied: beautifulsoup4==4.6.0 in c:\\users\\jejec\\anaconda3\\envs\\mulcam\\lib\\site-packages (from konlpy) (4.6.0)\n",
            "Requirement already satisfied: lxml>=4.1.0 in c:\\users\\jejec\\anaconda3\\envs\\mulcam\\lib\\site-packages (from konlpy) (4.5.0)\n",
            "Requirement already satisfied: colorama in c:\\users\\jejec\\anaconda3\\envs\\mulcam\\lib\\site-packages (from konlpy) (0.4.3)\n",
            "Requirement already satisfied: tweepy>=3.7.0 in c:\\users\\jejec\\anaconda3\\envs\\mulcam\\lib\\site-packages (from konlpy) (3.9.0)\n",
            "Requirement already satisfied: numpy>=1.6 in c:\\users\\jejec\\anaconda3\\envs\\mulcam\\lib\\site-packages (from konlpy) (1.18.1)\n",
            "Requirement already satisfied: JPype1>=0.7.0 in c:\\users\\jejec\\anaconda3\\envs\\mulcam\\lib\\site-packages (from konlpy) (1.0.1)\n",
            "Requirement already satisfied: six>=1.10.0 in c:\\users\\jejec\\anaconda3\\envs\\mulcam\\lib\\site-packages (from tweepy>=3.7.0->konlpy) (1.14.0)\n",
            "Requirement already satisfied: requests[socks]>=2.11.1 in c:\\users\\jejec\\anaconda3\\envs\\mulcam\\lib\\site-packages (from tweepy>=3.7.0->konlpy) (2.22.0)\n",
            "Requirement already satisfied: requests-oauthlib>=0.7.0 in c:\\users\\jejec\\anaconda3\\envs\\mulcam\\lib\\site-packages (from tweepy>=3.7.0->konlpy) (1.3.0)\n",
            "Requirement already satisfied: typing-extensions; python_version < \"3.8\" in c:\\users\\jejec\\anaconda3\\envs\\mulcam\\lib\\site-packages (from JPype1>=0.7.0->konlpy) (3.7.4.2)\n",
            "Requirement already satisfied: chardet<3.1.0,>=3.0.2 in c:\\users\\jejec\\anaconda3\\envs\\mulcam\\lib\\site-packages (from requests[socks]>=2.11.1->tweepy>=3.7.0->konlpy) (3.0.4)\n",
            "Requirement already satisfied: certifi>=2017.4.17 in c:\\users\\jejec\\anaconda3\\envs\\mulcam\\lib\\site-packages (from requests[socks]>=2.11.1->tweepy>=3.7.0->konlpy) (2019.11.28)\n",
            "Requirement already satisfied: idna<2.9,>=2.5 in c:\\users\\jejec\\anaconda3\\envs\\mulcam\\lib\\site-packages (from requests[socks]>=2.11.1->tweepy>=3.7.0->konlpy) (2.8)\n",
            "Requirement already satisfied: urllib3!=1.25.0,!=1.25.1,<1.26,>=1.21.1 in c:\\users\\jejec\\anaconda3\\envs\\mulcam\\lib\\site-packages (from requests[socks]>=2.11.1->tweepy>=3.7.0->konlpy) (1.25.8)\n",
            "Requirement already satisfied: PySocks!=1.5.7,>=1.5.6; extra == \"socks\" in c:\\users\\jejec\\anaconda3\\envs\\mulcam\\lib\\site-packages (from requests[socks]>=2.11.1->tweepy>=3.7.0->konlpy) (1.7.1)\n",
            "Requirement already satisfied: oauthlib>=3.0.0 in c:\\users\\jejec\\anaconda3\\envs\\mulcam\\lib\\site-packages (from requests-oauthlib>=0.7.0->tweepy>=3.7.0->konlpy) (3.1.0)\n"
          ],
          "name": "stdout"
        }
      ]
    },
    {
      "cell_type": "code",
      "metadata": {
        "id": "Eftfe7y94wSc",
        "colab_type": "code",
        "colab": {},
        "outputId": "831b1f76-8e01-4000-e18d-e4084a95dc94"
      },
      "source": [
        "vocab_size = 10000\n",
        "tokenizer = Tokenizer(vocab_size, oov_token='<OOV>')\n",
        "tokenizer.fit_on_texts(train_token)\n",
        "word_index = tokenizer.word_index\n",
        "X_train = tokenizer.texts_to_sequences(train_token)\n",
        "print(X_train[:3])"
      ],
      "execution_count": null,
      "outputs": [
        {
          "output_type": "stream",
          "text": [
            "[[53, 437, 19, 6952, 645], [905, 438, 48, 596, 3, 195, 1553, 24, 961, 6126, 1], [363, 2846, 1, 6511, 8388, 1, 199, 14, 15]]\n"
          ],
          "name": "stdout"
        }
      ]
    },
    {
      "cell_type": "code",
      "metadata": {
        "id": "OXDtyb4J4wSe",
        "colab_type": "code",
        "colab": {},
        "outputId": "06a7fbd4-4d8e-4b0b-95c3-93587f4e3f25"
      },
      "source": [
        "tokenizer.fit_on_texts(test_token)\n",
        "word_index = tokenizer.word_index\n",
        "X_test = tokenizer.texts_to_sequences(test_token)\n",
        "print(X_test[:3])"
      ],
      "execution_count": null,
      "outputs": [
        {
          "output_type": "stream",
          "text": [
            "[[754], [1], [65, 155, 2, 26, 9, 12, 4753, 1464, 77, 22, 1004, 839, 10, 52, 792, 3297]]\n"
          ],
          "name": "stdout"
        }
      ]
    },
    {
      "cell_type": "code",
      "metadata": {
        "id": "gsOh0LOr4wSg",
        "colab_type": "code",
        "colab": {}
      },
      "source": [
        "y_train = np.array(train['label'])\n",
        "y_test = np.array(test['label'])"
      ],
      "execution_count": null,
      "outputs": []
    },
    {
      "cell_type": "code",
      "metadata": {
        "id": "i0MZrku04wSj",
        "colab_type": "code",
        "colab": {},
        "outputId": "2553f486-6c84-4c46-a258-bd9abe1e4275"
      },
      "source": [
        "drop_train = [index for index, sentence in enumerate(X_train) if len(sentence) < 1]\n",
        "X_train = np.delete(X_train, drop_train, axis=0)\n",
        "y_train = np.delete(y_train, drop_train, axis=0)\n",
        "X_train.shape, y_train.shape"
      ],
      "execution_count": null,
      "outputs": [
        {
          "output_type": "execute_result",
          "data": {
            "text/plain": [
              "((145944,), (145944,))"
            ]
          },
          "metadata": {
            "tags": []
          },
          "execution_count": 29
        }
      ]
    },
    {
      "cell_type": "code",
      "metadata": {
        "id": "ZXrG4H-X4wSl",
        "colab_type": "code",
        "colab": {},
        "outputId": "549dfedb-6a06-47fd-81e3-555aa4b29146"
      },
      "source": [
        "len(y_train)"
      ],
      "execution_count": null,
      "outputs": [
        {
          "output_type": "execute_result",
          "data": {
            "text/plain": [
              "145944"
            ]
          },
          "metadata": {
            "tags": []
          },
          "execution_count": 30
        }
      ]
    },
    {
      "cell_type": "code",
      "metadata": {
        "id": "dGMdbieH4wSo",
        "colab_type": "code",
        "colab": {},
        "outputId": "fabb94dd-4222-4977-a3c6-cbd8831fcc1b"
      },
      "source": [
        "print('리뷰의 최대 길이 :',max(len(l) for l in X_train))\n",
        "print('리뷰의 평균 길이 :',sum(map(len, X_train))/len(X_train))\n",
        "plt.hist([len(s) for s in X_train], bins=50)\n",
        "plt.xlabel('length of samples')\n",
        "plt.ylabel('number of samples')\n",
        "plt.show()"
      ],
      "execution_count": null,
      "outputs": [
        {
          "output_type": "stream",
          "text": [
            "리뷰의 최대 길이 : 77\n",
            "리뷰의 평균 길이 : 13.13307844104588\n"
          ],
          "name": "stdout"
        },
        {
          "output_type": "display_data",
          "data": {
            "image/png": "[encoded data removed]",
            "text/plain": [
              "<Figure size 432x288 with 1 Axes>"
            ]
          },
          "metadata": {
            "tags": [],
            "needs_background": "light"
          }
        }
      ]
    },
    {
      "cell_type": "code",
      "metadata": {
        "id": "GpWwEm1Q4wSq",
        "colab_type": "code",
        "colab": {}
      },
      "source": [
        "def below_threshold_len(max_len, nested_list):\n",
        "  cnt = 0\n",
        "  for s in nested_list:\n",
        "    if(len(s) <= max_len):\n",
        "        cnt = cnt + 1\n",
        "  print('전체 샘플 중 길이가 %s 이하인 샘플의 비율: %s'%(max_len, (cnt / len(nested_list))*100))"
      ],
      "execution_count": null,
      "outputs": []
    },
    {
      "cell_type": "code",
      "metadata": {
        "id": "JZL-D1Oh4wSs",
        "colab_type": "code",
        "colab": {},
        "outputId": "a0ddb493-397e-42fa-aaaf-7b529c3a44f3"
      },
      "source": [
        "max_len = 100\n",
        "below_threshold_len(max_len, X_train)"
      ],
      "execution_count": null,
      "outputs": [
        {
          "output_type": "stream",
          "text": [
            "전체 샘플 중 길이가 100 이하인 샘플의 비율: 100.0\n"
          ],
          "name": "stdout"
        }
      ]
    },
    {
      "cell_type": "code",
      "metadata": {
        "id": "KnRMTX764wSu",
        "colab_type": "code",
        "colab": {}
      },
      "source": [
        "X_train = pad_sequences(X_train, padding = 'post', maxlen = max_len)\n",
        "X_test = pad_sequences(X_test, padding = 'post', maxlen = max_len)"
      ],
      "execution_count": null,
      "outputs": []
    },
    {
      "cell_type": "code",
      "metadata": {
        "id": "DEPiyB2q4wSy",
        "colab_type": "code",
        "colab": {}
      },
      "source": [
        "from tensorflow.keras.layers import Embedding, Conv1D, Dense, LSTM\n",
        "from tensorflow.keras.models import Sequential\n",
        "from tensorflow.keras.models import load_model\n",
        "from tensorflow.keras.callbacks import EarlyStopping, ModelCheckpoint"
      ],
      "execution_count": null,
      "outputs": []
    },
    {
      "cell_type": "code",
      "metadata": {
        "id": "hn__h8Tz4wS1",
        "colab_type": "code",
        "colab": {}
      },
      "source": [
        "from keras.layers import GlobalMaxPooling1D, Dropout, Flatten, MaxPooling1D, Input, Concatenate\n",
        "from keras.models import load_model"
      ],
      "execution_count": null,
      "outputs": []
    },
    {
      "cell_type": "code",
      "metadata": {
        "id": "iTpn4_y84wS2",
        "colab_type": "code",
        "colab": {},
        "outputId": "fe788824-2db5-4c55-b94f-1508201e3f46"
      },
      "source": [
        "len(word_index)"
      ],
      "execution_count": null,
      "outputs": [
        {
          "output_type": "execute_result",
          "data": {
            "text/plain": [
              "118738"
            ]
          },
          "metadata": {
            "tags": []
          },
          "execution_count": 37
        }
      ]
    },
    {
      "cell_type": "code",
      "metadata": {
        "id": "SCSey7Iu4wS4",
        "colab_type": "code",
        "colab": {},
        "outputId": "ee402aba-9f3f-4406-9b4a-cd5a0b11f89d"
      },
      "source": [
        "!pip install gensim"
      ],
      "execution_count": null,
      "outputs": [
        {
          "output_type": "stream",
          "text": [
            "Requirement already satisfied: gensim in c:\\users\\jejec\\anaconda3\\envs\\mulcam\\lib\\site-packages (3.8.3)\n",
            "Requirement already satisfied: numpy>=1.11.3 in c:\\users\\jejec\\anaconda3\\envs\\mulcam\\lib\\site-packages (from gensim) (1.18.1)\n",
            "Requirement already satisfied: scipy>=0.18.1 in c:\\users\\jejec\\anaconda3\\envs\\mulcam\\lib\\site-packages (from gensim) (1.4.1)\n",
            "Requirement already satisfied: six>=1.5.0 in c:\\users\\jejec\\anaconda3\\envs\\mulcam\\lib\\site-packages (from gensim) (1.14.0)\n",
            "Requirement already satisfied: smart-open>=1.8.1 in c:\\users\\jejec\\anaconda3\\envs\\mulcam\\lib\\site-packages (from gensim) (2.1.0)\n",
            "Requirement already satisfied: Cython==0.29.14 in c:\\users\\jejec\\anaconda3\\envs\\mulcam\\lib\\site-packages (from gensim) (0.29.14)\n",
            "Requirement already satisfied: boto in c:\\users\\jejec\\anaconda3\\envs\\mulcam\\lib\\site-packages (from smart-open>=1.8.1->gensim) (2.49.0)\n",
            "Requirement already satisfied: boto3 in c:\\users\\jejec\\anaconda3\\envs\\mulcam\\lib\\site-packages (from smart-open>=1.8.1->gensim) (1.14.37)\n",
            "Requirement already satisfied: requests in c:\\users\\jejec\\anaconda3\\envs\\mulcam\\lib\\site-packages (from smart-open>=1.8.1->gensim) (2.22.0)\n",
            "Requirement already satisfied: s3transfer<0.4.0,>=0.3.0 in c:\\users\\jejec\\anaconda3\\envs\\mulcam\\lib\\site-packages (from boto3->smart-open>=1.8.1->gensim) (0.3.3)\n",
            "Requirement already satisfied: jmespath<1.0.0,>=0.7.1 in c:\\users\\jejec\\anaconda3\\envs\\mulcam\\lib\\site-packages (from boto3->smart-open>=1.8.1->gensim) (0.10.0)\n",
            "Requirement already satisfied: botocore<1.18.0,>=1.17.37 in c:\\users\\jejec\\anaconda3\\envs\\mulcam\\lib\\site-packages (from boto3->smart-open>=1.8.1->gensim) (1.17.37)\n",
            "Requirement already satisfied: chardet<3.1.0,>=3.0.2 in c:\\users\\jejec\\anaconda3\\envs\\mulcam\\lib\\site-packages (from requests->smart-open>=1.8.1->gensim) (3.0.4)\n",
            "Requirement already satisfied: urllib3!=1.25.0,!=1.25.1,<1.26,>=1.21.1 in c:\\users\\jejec\\anaconda3\\envs\\mulcam\\lib\\site-packages (from requests->smart-open>=1.8.1->gensim) (1.25.8)\n",
            "Requirement already satisfied: idna<2.9,>=2.5 in c:\\users\\jejec\\anaconda3\\envs\\mulcam\\lib\\site-packages (from requests->smart-open>=1.8.1->gensim) (2.8)\n",
            "Requirement already satisfied: certifi>=2017.4.17 in c:\\users\\jejec\\anaconda3\\envs\\mulcam\\lib\\site-packages (from requests->smart-open>=1.8.1->gensim) (2019.11.28)\n",
            "Requirement already satisfied: python-dateutil<3.0.0,>=2.1 in c:\\users\\jejec\\anaconda3\\envs\\mulcam\\lib\\site-packages (from botocore<1.18.0,>=1.17.37->boto3->smart-open>=1.8.1->gensim) (2.8.1)\n",
            "Requirement already satisfied: docutils<0.16,>=0.10 in c:\\users\\jejec\\anaconda3\\envs\\mulcam\\lib\\site-packages (from botocore<1.18.0,>=1.17.37->boto3->smart-open>=1.8.1->gensim) (0.15.2)\n"
          ],
          "name": "stdout"
        }
      ]
    },
    {
      "cell_type": "code",
      "metadata": {
        "id": "L28kpNsS4wS6",
        "colab_type": "code",
        "colab": {}
      },
      "source": [
        "from gensim.models import Word2Vec\n",
        "\n",
        "word2vec = Word2Vec(\n",
        "    sentences = train_token,\n",
        "    size = 300,\n",
        "    window = 3, \n",
        "    min_count = 2,\n",
        "    sg = 1,\n",
        "    iter = 10\n",
        ")"
      ],
      "execution_count": null,
      "outputs": []
    },
    {
      "cell_type": "code",
      "metadata": {
        "id": "3--UmyZm4wS8",
        "colab_type": "code",
        "colab": {},
        "outputId": "fd7a406b-cf79-40a1-bb15-7d9a1c3a2b24"
      },
      "source": [
        "word2vec.wv.most_similar('연기')"
      ],
      "execution_count": null,
      "outputs": [
        {
          "output_type": "execute_result",
          "data": {
            "text/plain": [
              "[('연기력', 0.6741935014724731),\n",
              " ('발연기', 0.645717978477478),\n",
              " ('케미', 0.6105544567108154),\n",
              " ('액션연기', 0.6049663424491882),\n",
              " ('열연', 0.5922325849533081),\n",
              " ('명연기', 0.5747115612030029),\n",
              " ('김혜수', 0.54298996925354),\n",
              " ('조진웅', 0.5396822094917297),\n",
              " ('한석규', 0.538654088973999),\n",
              " ('신들린', 0.5381083488464355)]"
            ]
          },
          "metadata": {
            "tags": []
          },
          "execution_count": 41
        }
      ]
    },
    {
      "cell_type": "code",
      "metadata": {
        "id": "-JG37M214wS-",
        "colab_type": "code",
        "colab": {},
        "outputId": "4800d692-d60e-48f9-b664-674fb5b5c07a"
      },
      "source": [
        "word_vectors = word2vec.wv\n",
        "word_vectors.vectors.shape"
      ],
      "execution_count": null,
      "outputs": [
        {
          "output_type": "execute_result",
          "data": {
            "text/plain": [
              "(46417, 300)"
            ]
          },
          "metadata": {
            "tags": []
          },
          "execution_count": 42
        }
      ]
    },
    {
      "cell_type": "code",
      "metadata": {
        "id": "qIFZte5I4wTB",
        "colab_type": "code",
        "colab": {},
        "outputId": "a8b32b64-5abc-4e02-aa18-09fc6606adf3"
      },
      "source": [
        "import numpy as np\n",
        "\n",
        "vocab_size = len(word_index) + 1\n",
        "embedding_dim = 300\n",
        "\n",
        "embedding_matrix = np.zeros((vocab_size, embedding_dim))\n",
        "\n",
        "for word, idx in tokenizer.word_index.items():\n",
        "    embedding_vector = word2vec[word] if word in word2vec else None\n",
        "    if embedding_vector is not None:\n",
        "        embedding_matrix[idx] = embedding_vector"
      ],
      "execution_count": null,
      "outputs": [
        {
          "output_type": "stream",
          "text": [
            "C:\\Users\\jejec\\anaconda3\\envs\\mulcam\\lib\\site-packages\\ipykernel_launcher.py:9: DeprecationWarning: Call to deprecated `__contains__` (Method will be removed in 4.0.0, use self.wv.__contains__() instead).\n",
            "  if __name__ == '__main__':\n",
            "C:\\Users\\jejec\\anaconda3\\envs\\mulcam\\lib\\site-packages\\ipykernel_launcher.py:9: DeprecationWarning: Call to deprecated `__getitem__` (Method will be removed in 4.0.0, use self.wv.__getitem__() instead).\n",
            "  if __name__ == '__main__':\n"
          ],
          "name": "stderr"
        }
      ]
    },
    {
      "cell_type": "code",
      "metadata": {
        "id": "DrR8AA124wTE",
        "colab_type": "code",
        "colab": {}
      },
      "source": [
        "from tensorflow.keras import layers\n",
        "from tensorflow.keras import regularizers\n",
        "from keras.regularizers import l2"
      ],
      "execution_count": null,
      "outputs": []
    },
    {
      "cell_type": "code",
      "metadata": {
        "id": "daBuukY-4wTG",
        "colab_type": "code",
        "colab": {}
      },
      "source": [
        "model = Sequential()\n",
        "model.add(Embedding(vocab_size, embedding_dim,\n",
        "                    input_length=max_len,\n",
        "                    weights=[embedding_matrix],\n",
        "                    trainable=False))\n",
        "\n",
        "model.add(Conv1D(128, 3, activation='relu', padding = 'same', kernel_regularizer=l2(1e-3)))\n",
        "model.add(GlobalMaxPooling1D())\n",
        "model.add(Dropout(0.5))\n",
        "model.add(Dense(1, activation='sigmoid'))\n",
        "\n",
        "# convs = []\n",
        "# filter_sizes = [3, 4, 5]\n",
        "\n",
        "# for fsz in filter_sizes:\n",
        "#     x = model.add(Conv1D(128, fsz, activation='relu', kernel_regularizer='l2'))\n",
        "#     x = model.add(GlobalMaxPooling1D())\n",
        "#     convs.append(x)\n",
        "\n",
        "# x = model.Concatenate(axis=-1)(convs)\n",
        "# x = model.add(Dropout(0.5))(x)\n",
        "# output = model.add(Dense(1, activation='sigmoid'))(x)"
      ],
      "execution_count": null,
      "outputs": []
    },
    {
      "cell_type": "code",
      "metadata": {
        "id": "yQ3DcBTI4wTI",
        "colab_type": "code",
        "colab": {},
        "outputId": "aad76c55-10ea-41ab-c45f-c4fe7c05b05f"
      },
      "source": [
        "model.compile(optimizer='adam',\n",
        "              loss='binary_crossentropy',\n",
        "              metrics=['accuracy'])\n",
        "\n",
        "model.summary()"
      ],
      "execution_count": null,
      "outputs": [
        {
          "output_type": "stream",
          "text": [
            "Model: \"sequential_1\"\n",
            "_________________________________________________________________\n",
            "Layer (type)                 Output Shape              Param #   \n",
            "=================================================================\n",
            "embedding_1 (Embedding)      (None, 100, 300)          35621700  \n",
            "_________________________________________________________________\n",
            "conv1d_1 (Conv1D)            (None, 100, 128)          115328    \n",
            "_________________________________________________________________\n",
            "global_max_pooling1d_1 (Glob (None, 128)               0         \n",
            "_________________________________________________________________\n",
            "dropout_1 (Dropout)          (None, 128)               0         \n",
            "_________________________________________________________________\n",
            "dense_1 (Dense)              (None, 1)                 129       \n",
            "=================================================================\n",
            "Total params: 35,737,157\n",
            "Trainable params: 115,457\n",
            "Non-trainable params: 35,621,700\n",
            "_________________________________________________________________\n"
          ],
          "name": "stdout"
        }
      ]
    },
    {
      "cell_type": "markdown",
      "metadata": {
        "id": "iZqeVXuB4wTM",
        "colab_type": "text"
      },
      "source": [
        "### validation set = train (0.2)"
      ]
    },
    {
      "cell_type": "code",
      "metadata": {
        "id": "zUw5wIsu4wTM",
        "colab_type": "code",
        "colab": {},
        "outputId": "0be797f6-b882-49c4-f708-e33eef5ab25d"
      },
      "source": [
        "history = model.fit(X_train, y_train,\n",
        "                    epochs=5,\n",
        "#                     callbacks=[es, mc],\n",
        "                    batch_size=50,\n",
        "                    validation_split=0.2)\n",
        "\n",
        "loss, accuracy = model.evaluate(X_train, y_train, verbose=True)\n",
        "print(\"Training Accuracy: {:.4f}\".format(accuracy))\n",
        "loss, accuracy = model.evaluate(X_test, y_test, verbose=False)\n",
        "print(\"Testing Accuracy:  {:.4f}\".format(accuracy))"
      ],
      "execution_count": null,
      "outputs": [
        {
          "output_type": "stream",
          "text": [
            "Epoch 1/5\n",
            "2336/2336 [==============================] - 57s 25ms/step - loss: 0.6260 - accuracy: 0.7232 - val_loss: 0.5630 - val_accuracy: 0.7664\n",
            "Epoch 2/5\n",
            "2336/2336 [==============================] - 59s 25ms/step - loss: 0.5786 - accuracy: 0.7472 - val_loss: 0.5483 - val_accuracy: 0.7770\n",
            "Epoch 3/5\n",
            "2336/2336 [==============================] - 59s 25ms/step - loss: 0.5718 - accuracy: 0.7530 - val_loss: 0.5494 - val_accuracy: 0.7678\n",
            "Epoch 4/5\n",
            "2336/2336 [==============================] - 60s 26ms/step - loss: 0.5689 - accuracy: 0.7541 - val_loss: 0.5426 - val_accuracy: 0.7752\n",
            "Epoch 5/5\n",
            "2336/2336 [==============================] - 56s 24ms/step - loss: 0.5649 - accuracy: 0.7562 - val_loss: 0.5330 - val_accuracy: 0.7810\n",
            "4561/4561 [==============================] - 24s 5ms/step - loss: 0.5206 - accuracy: 0.7883\n",
            "Training Accuracy: 0.7883\n",
            "Testing Accuracy:  0.6276\n"
          ],
          "name": "stdout"
        }
      ]
    },
    {
      "cell_type": "code",
      "metadata": {
        "id": "KexYK5gE4wTO",
        "colab_type": "code",
        "colab": {},
        "outputId": "74838b6a-39f9-4043-f348-0dc644cbc624"
      },
      "source": [
        "import matplotlib.pyplot as plt\n",
        "\n",
        "def plot_graphs(history, string):\n",
        "  plt.plot(history.history[string])\n",
        "  plt.plot(history.history['val_'+string])\n",
        "  plt.xlabel(\"Epochs\")\n",
        "  plt.ylabel(string)\n",
        "  plt.legend([string, 'val_'+string])\n",
        "  plt.show()\n",
        "\n",
        "plot_graphs(history, 'accuracy')\n",
        "plot_graphs(history, 'loss')"
      ],
      "execution_count": null,
      "outputs": [
        {
          "output_type": "display_data",
          "data": {
            "image/png": "[encoded data removed]",
            "text/plain": [
              "<Figure size 432x288 with 1 Axes>"
            ]
          },
          "metadata": {
            "tags": [],
            "needs_background": "light"
          }
        },
        {
          "output_type": "display_data",
          "data": {
            "image/png": "[encoded data removed]",
            "text/plain": [
              "<Figure size 432x288 with 1 Axes>"
            ]
          },
          "metadata": {
            "tags": [],
            "needs_background": "light"
          }
        }
      ]
    },
    {
      "cell_type": "markdown",
      "metadata": {
        "id": "1olpmAjR4wTQ",
        "colab_type": "text"
      },
      "source": [
        "### validation set = test"
      ]
    },
    {
      "cell_type": "code",
      "metadata": {
        "id": "KHUb-hNj4wTR",
        "colab_type": "code",
        "colab": {},
        "outputId": "4f35fd3c-587b-4b3d-f93e-6ff913b33ff3"
      },
      "source": [
        "history = model.fit(X_train, y_train,\n",
        "                    epochs=5,\n",
        "                    verbose=True,\n",
        "                    validation_data=(X_test, y_test),\n",
        "                    batch_size=50)\n",
        "\n",
        "loss, accuracy = model.evaluate(X_train, y_train, verbose=True)\n",
        "print(\"Training Accuracy: {:.4f}\".format(accuracy))\n",
        "loss, accuracy = model.evaluate(X_test, y_test, verbose=False)\n",
        "print(\"Testing Accuracy:  {:.4f}\".format(accuracy))"
      ],
      "execution_count": null,
      "outputs": [
        {
          "output_type": "stream",
          "text": [
            "Epoch 1/5\n",
            "2919/2919 [==============================] - 69s 24ms/step - loss: 0.5634 - accuracy: 0.7559 - val_loss: 0.7638 - val_accuracy: 0.6157\n",
            "Epoch 2/5\n",
            "2919/2919 [==============================] - 70s 24ms/step - loss: 0.5629 - accuracy: 0.7561 - val_loss: 0.7493 - val_accuracy: 0.6221\n",
            "Epoch 3/5\n",
            "2919/2919 [==============================] - 73s 25ms/step - loss: 0.5608 - accuracy: 0.7558 - val_loss: 0.7535 - val_accuracy: 0.6222\n",
            "Epoch 4/5\n",
            "2919/2919 [==============================] - 72s 25ms/step - loss: 0.5588 - accuracy: 0.7580 - val_loss: 0.7439 - val_accuracy: 0.6307\n",
            "Epoch 5/5\n",
            "2919/2919 [==============================] - 77s 26ms/step - loss: 0.5565 - accuracy: 0.7579 - val_loss: 0.7663 - val_accuracy: 0.6078\n",
            "4561/4561 [==============================] - 29s 6ms/step - loss: 0.5148 - accuracy: 0.7904\n",
            "Training Accuracy: 0.7904\n",
            "Testing Accuracy:  0.6078\n"
          ],
          "name": "stdout"
        }
      ]
    },
    {
      "cell_type": "code",
      "metadata": {
        "id": "zW8H4HJ44wTT",
        "colab_type": "code",
        "colab": {},
        "outputId": "5ccddbd9-4576-4609-f0ad-bacf5e5e369f"
      },
      "source": [
        "import matplotlib.pyplot as plt\n",
        "\n",
        "def plot_graphs(history, string):\n",
        "  plt.plot(history.history[string])\n",
        "  plt.plot(history.history['val_'+string])\n",
        "  plt.xlabel(\"Epochs\")\n",
        "  plt.ylabel(string)\n",
        "  plt.legend([string, 'val_'+string])\n",
        "  plt.show()\n",
        "\n",
        "plot_graphs(history, 'accuracy')\n",
        "plot_graphs(history, 'loss')"
      ],
      "execution_count": null,
      "outputs": [
        {
          "output_type": "display_data",
          "data": {
            "image/png": "[encoded data removed]",
            "text/plain": [
              "<Figure size 432x288 with 1 Axes>"
            ]
          },
          "metadata": {
            "tags": [],
            "needs_background": "light"
          }
        },
        {
          "output_type": "display_data",
          "data": {
            "image/png": "[encoded data removed]",
            "text/plain": [
              "<Figure size 432x288 with 1 Axes>"
            ]
          },
          "metadata": {
            "tags": [],
            "needs_background": "light"
          }
        }
      ]
    },
    {
      "cell_type": "markdown",
      "metadata": {
        "id": "5lr_VyB44wTX",
        "colab_type": "text"
      },
      "source": [
        "## yoon kim"
      ]
    },
    {
      "cell_type": "code",
      "metadata": {
        "id": "9h5wCR2y4wTX",
        "colab_type": "code",
        "colab": {}
      },
      "source": [
        "import tensorflow as tf\n",
        "from tensorflow import keras \n",
        "from tensorflow.keras.preprocessing.sequence import pad_sequences\n",
        "from tensorflow.keras import Input, layers\n",
        "from keras.models import load_model"
      ],
      "execution_count": null,
      "outputs": []
    },
    {
      "cell_type": "code",
      "metadata": {
        "id": "1om3uXdL4wTZ",
        "colab_type": "code",
        "colab": {},
        "outputId": "ae07bf51-0f7a-400c-8df9-958e1c62488a"
      },
      "source": [
        "sequence_input = Input(shape=(max_len,), dtype='int32')\n",
        "\n",
        "embedding_layer = tf.keras.layers.Embedding(vocab_size,\n",
        "                                            embedding_dim,\n",
        "                                            weights=[embedding_matrix],\n",
        "                                            input_length=max_len,\n",
        "                                            trainable=False)\n",
        "\n",
        "embedded_sequences = embedding_layer(sequence_input)\n",
        "\n",
        "convs = []\n",
        "filter_sizes = [3,4,5]\n",
        "\n",
        "for fsz in filter_sizes:\n",
        "    x = layers.Conv1D(128, fsz, activation='relu',padding='same',kernel_regularizer=l2(1e-3))(embedded_sequences)\n",
        "    x = layers.MaxPooling1D()(x)\n",
        "    convs.append(x)\n",
        "    \n",
        "x = layers.Concatenate(axis=-1)(convs)\n",
        "x = layers.Flatten()(x)\n",
        "x = layers.Dense(128, activation='relu')(x)\n",
        "x = layers.Dropout(0.5)(x)\n",
        "output = layers.Dense(1, activation='sigmoid')(x)\n",
        "\n",
        "model = keras.models.Model(sequence_input, output)\n",
        "\n",
        "model.compile(loss='binary_crossentropy',\n",
        "              optimizer='adam',\n",
        "              metrics=['accuracy'])\n",
        "\n",
        "model.summary()"
      ],
      "execution_count": null,
      "outputs": [
        {
          "output_type": "stream",
          "text": [
            "Model: \"functional_3\"\n",
            "__________________________________________________________________________________________________\n",
            "Layer (type)                    Output Shape         Param #     Connected to                     \n",
            "==================================================================================================\n",
            "input_2 (InputLayer)            [(None, 100)]        0                                            \n",
            "__________________________________________________________________________________________________\n",
            "embedding_3 (Embedding)         (None, 100, 300)     35621700    input_2[0][0]                    \n",
            "__________________________________________________________________________________________________\n",
            "conv1d_5 (Conv1D)               (None, 100, 128)     115328      embedding_3[0][0]                \n",
            "__________________________________________________________________________________________________\n",
            "conv1d_6 (Conv1D)               (None, 100, 128)     153728      embedding_3[0][0]                \n",
            "__________________________________________________________________________________________________\n",
            "conv1d_7 (Conv1D)               (None, 100, 128)     192128      embedding_3[0][0]                \n",
            "__________________________________________________________________________________________________\n",
            "max_pooling1d_3 (MaxPooling1D)  (None, 50, 128)      0           conv1d_5[0][0]                   \n",
            "__________________________________________________________________________________________________\n",
            "max_pooling1d_4 (MaxPooling1D)  (None, 50, 128)      0           conv1d_6[0][0]                   \n",
            "__________________________________________________________________________________________________\n",
            "max_pooling1d_5 (MaxPooling1D)  (None, 50, 128)      0           conv1d_7[0][0]                   \n",
            "__________________________________________________________________________________________________\n",
            "concatenate_1 (Concatenate)     (None, 50, 384)      0           max_pooling1d_3[0][0]            \n",
            "                                                                 max_pooling1d_4[0][0]            \n",
            "                                                                 max_pooling1d_5[0][0]            \n",
            "__________________________________________________________________________________________________\n",
            "flatten_1 (Flatten)             (None, 19200)        0           concatenate_1[0][0]              \n",
            "__________________________________________________________________________________________________\n",
            "dense_4 (Dense)                 (None, 128)          2457728     flatten_1[0][0]                  \n",
            "__________________________________________________________________________________________________\n",
            "dropout_3 (Dropout)             (None, 128)          0           dense_4[0][0]                    \n",
            "__________________________________________________________________________________________________\n",
            "dense_5 (Dense)                 (None, 1)            129         dropout_3[0][0]                  \n",
            "==================================================================================================\n",
            "Total params: 38,540,741\n",
            "Trainable params: 2,919,041\n",
            "Non-trainable params: 35,621,700\n",
            "__________________________________________________________________________________________________\n"
          ],
          "name": "stdout"
        }
      ]
    },
    {
      "cell_type": "code",
      "metadata": {
        "id": "lLMjRhki4wTb",
        "colab_type": "code",
        "colab": {},
        "outputId": "8ef01829-37e5-4a8a-a5ad-d1093c2a9691"
      },
      "source": [
        "history = model.fit(X_train, y_train,\n",
        "                    epochs=5,\n",
        "                    verbose=True,\n",
        "                    validation_data=(X_test, y_test),\n",
        "                    batch_size=50)\n",
        "\n",
        "loss, accuracy = model.evaluate(X_train, y_train, verbose=True)\n",
        "print(\"Training Accuracy: {:.4f}\".format(accuracy))\n",
        "loss, accuracy = model.evaluate(X_test, y_test, verbose=False)\n",
        "print(\"Testing Accuracy:  {:.4f}\".format(accuracy))"
      ],
      "execution_count": null,
      "outputs": [
        {
          "output_type": "stream",
          "text": [
            "Epoch 1/5\n",
            "2919/2919 [==============================] - 263s 90ms/step - loss: 0.5856 - accuracy: 0.7426 - val_loss: 0.7846 - val_accuracy: 0.6014\n",
            "Epoch 2/5\n",
            "2919/2919 [==============================] - 273s 93ms/step - loss: 0.5129 - accuracy: 0.7828 - val_loss: 0.8137 - val_accuracy: 0.5965\n",
            "Epoch 3/5\n",
            "2919/2919 [==============================] - 299s 102ms/step - loss: 0.4936 - accuracy: 0.7915 - val_loss: 0.8070 - val_accuracy: 0.6109\n",
            "Epoch 4/5\n",
            "2919/2919 [==============================] - 317s 109ms/step - loss: 0.4831 - accuracy: 0.7957 - val_loss: 0.7921 - val_accuracy: 0.5972\n",
            "Epoch 5/5\n",
            "2919/2919 [==============================] - 318s 109ms/step - loss: 0.4770 - accuracy: 0.8001 - val_loss: 0.7990 - val_accuracy: 0.6112\n",
            "4561/4561 [==============================] - 104s 23ms/step - loss: 0.4502 - accuracy: 0.8124\n",
            "Training Accuracy: 0.8124\n",
            "Testing Accuracy:  0.6112\n"
          ],
          "name": "stdout"
        }
      ]
    },
    {
      "cell_type": "code",
      "metadata": {
        "id": "kZVHV3PF4wTd",
        "colab_type": "code",
        "colab": {},
        "outputId": "3235cfbd-45d3-4e41-fbc5-f2270105bb7b"
      },
      "source": [
        "import matplotlib.pyplot as plt\n",
        "\n",
        "def plot_graphs(history, string):\n",
        "  plt.plot(history.history[string])\n",
        "  plt.plot(history.history['val_'+string])\n",
        "  plt.xlabel(\"Epochs\")\n",
        "  plt.ylabel(string)\n",
        "  plt.legend([string, 'val_'+string])\n",
        "  plt.show()\n",
        "\n",
        "plot_graphs(history, 'accuracy')\n",
        "plot_graphs(history, 'loss')"
      ],
      "execution_count": null,
      "outputs": [
        {
          "output_type": "display_data",
          "data": {
            "image/png": "[encoded data removed]",
            "text/plain": [
              "<Figure size 432x288 with 1 Axes>"
            ]
          },
          "metadata": {
            "tags": [],
            "needs_background": "light"
          }
        },
        {
          "output_type": "display_data",
          "data": {
            "image/png": "[encoded data removed]",
            "text/plain": [
              "<Figure size 432x288 with 1 Axes>"
            ]
          },
          "metadata": {
            "tags": [],
            "needs_background": "light"
          }
        }
      ]
    },
    {
      "cell_type": "code",
      "metadata": {
        "id": "HkoR6Rjj4wTe",
        "colab_type": "code",
        "colab": {}
      },
      "source": [
        "es = EarlyStopping(monitor='val_loss', mode='min', verbose=1, patience=4)\n",
        "mc = ModelCheckpoint('best_model.h5', monitor='val_acc', mode='max', verbose=1, save_best_only=True)"
      ],
      "execution_count": null,
      "outputs": []
    },
    {
      "cell_type": "code",
      "metadata": {
        "id": "u2bQxag64wTh",
        "colab_type": "code",
        "colab": {},
        "outputId": "ef5a8696-1d1f-4c2a-cdd7-0b0f36c8b3b1"
      },
      "source": [
        "model.compile(optimizer='adam', loss='binary_crossentropy', metrics=['acc'])\n",
        "history = model.fit(X_train, y_train, epochs=5, callbacks=[es, mc], batch_size=50, validation_split=0.2, verbose=True,\n",
        "                    validation_data=(X_test, y_test))"
      ],
      "execution_count": null,
      "outputs": [
        {
          "output_type": "stream",
          "text": [
            "Epoch 1/5\n",
            "2335/2336 [============================>.] - ETA: 0s - loss: 0.4717 - acc: 0.8017\n",
            "Epoch 00001: val_acc improved from -inf to 0.80345, saving model to best_model.h5\n",
            "2336/2336 [==============================] - 204s 87ms/step - loss: 0.4717 - acc: 0.8017 - val_loss: 0.4720 - val_acc: 0.8035\n",
            "Epoch 2/5\n",
            "2335/2336 [============================>.] - ETA: 0s - loss: 0.4665 - acc: 0.8042\n",
            "Epoch 00002: val_acc did not improve from 0.80345\n",
            "2336/2336 [==============================] - 206s 88ms/step - loss: 0.4665 - acc: 0.8042 - val_loss: 0.4712 - val_acc: 0.8018\n",
            "Epoch 3/5\n",
            "2335/2336 [============================>.] - ETA: 0s - loss: 0.4637 - acc: 0.8071\n",
            "Epoch 00003: val_acc did not improve from 0.80345\n",
            "2336/2336 [==============================] - 212s 91ms/step - loss: 0.4637 - acc: 0.8071 - val_loss: 0.4784 - val_acc: 0.7992\n",
            "Epoch 4/5\n",
            "2335/2336 [============================>.] - ETA: 0s - loss: 0.4611 - acc: 0.8077\n",
            "Epoch 00004: val_acc did not improve from 0.80345\n",
            "2336/2336 [==============================] - 232s 99ms/step - loss: 0.4611 - acc: 0.8077 - val_loss: 0.4774 - val_acc: 0.8005\n",
            "Epoch 5/5\n",
            "2335/2336 [============================>.] - ETA: 0s - loss: 0.4588 - acc: 0.8090- ETA: 1s - loss: 0.\n",
            "Epoch 00005: val_acc did not improve from 0.80345\n",
            "2336/2336 [==============================] - 234s 100ms/step - loss: 0.4588 - acc: 0.8090 - val_loss: 0.4867 - val_acc: 0.7979\n"
          ],
          "name": "stdout"
        }
      ]
    },
    {
      "cell_type": "code",
      "metadata": {
        "id": "vmaYGVNh4wTk",
        "colab_type": "code",
        "colab": {},
        "outputId": "97e08b4f-262a-4d09-de2d-9cbf043f0673"
      },
      "source": [
        "loaded_model = load_model('best_model.h5')\n",
        "print(\"\\n 테스트 정확도: %.4f\" % (loaded_model.evaluate(X_test, y_test)[1]))"
      ],
      "execution_count": null,
      "outputs": [
        {
          "output_type": "stream",
          "text": [
            "1534/1534 [==============================] - 29s 19ms/step - loss: 0.7716 - acc: 0.6318\n",
            "\n",
            " 테스트 정확도: 0.6318\n"
          ],
          "name": "stdout"
        }
      ]
    }
  ]
}