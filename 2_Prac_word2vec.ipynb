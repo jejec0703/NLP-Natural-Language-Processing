{
  "nbformat": 4,
  "nbformat_minor": 0,
  "metadata": {
    "colab": {
      "name": "2. Prac word2vec",
      "provenance": [],
      "collapsed_sections": [],
      "include_colab_link": true
    },
    "kernelspec": {
      "name": "python3",
      "display_name": "Python 3"
    }
  },
  "cells": [
    {
      "cell_type": "markdown",
      "metadata": {
        "id": "view-in-github",
        "colab_type": "text"
      },
      "source": [
        "<a href=\"https://colab.research.google.com/github/jejec0703/NLP-Natural-Language-Processing/blob/master/2_Prac_word2vec.ipynb\" target=\"_parent\"><img src=\"https://colab.research.google.com/assets/colab-badge.svg\" alt=\"Open In Colab\"/></a>"
      ]
    },
    {
      "cell_type": "code",
      "metadata": {
        "id": "g2ScMcJGhoYB",
        "colab_type": "code",
        "colab": {
          "base_uri": "https://localhost:8080/",
          "height": 127
        },
        "outputId": "bf60b981-3ef4-40a5-b1fc-5cec190267ac"
      },
      "source": [
        "from google.colab import drive\n",
        "drive.mount('/content/drive')"
      ],
      "execution_count": 1,
      "outputs": [
        {
          "output_type": "stream",
          "text": [
            "Go to this URL in a browser: https://accounts.google.com/o/oauth2/auth?client_id=947318989803-6bn6qk8qdgf4n4g3pfee6491hc0brc4i.apps.googleusercontent.com&redirect_uri=urn%3aietf%3awg%3aoauth%3a2.0%3aoob&response_type=code&scope=email%20https%3a%2f%2fwww.googleapis.com%2fauth%2fdocs.test%20https%3a%2f%2fwww.googleapis.com%2fauth%2fdrive%20https%3a%2f%2fwww.googleapis.com%2fauth%2fdrive.photos.readonly%20https%3a%2f%2fwww.googleapis.com%2fauth%2fpeopleapi.readonly\n",
            "\n",
            "Enter your authorization code:\n",
            "··········\n",
            "Mounted at /content/drive\n"
          ],
          "name": "stdout"
        }
      ]
    },
    {
      "cell_type": "markdown",
      "metadata": {
        "id": "QRPQ87sDjB6_",
        "colab_type": "text"
      },
      "source": [
        "###데이터 로딩"
      ]
    },
    {
      "cell_type": "code",
      "metadata": {
        "id": "djJwpcnvh3MW",
        "colab_type": "code",
        "colab": {}
      },
      "source": [
        "import pandas as pd\n",
        "df_news = pd.read_csv('/content/drive/My Drive/NLP/딥러닝 기반 자연어처리/news.csv')"
      ],
      "execution_count": 3,
      "outputs": []
    },
    {
      "cell_type": "code",
      "metadata": {
        "id": "wrIj99hjalhX",
        "colab_type": "code",
        "colab": {}
      },
      "source": [
        "df_news.dropna(inplace=True)"
      ],
      "execution_count": 7,
      "outputs": []
    },
    {
      "cell_type": "code",
      "metadata": {
        "id": "cF_-LODvaiEH",
        "colab_type": "code",
        "colab": {
          "base_uri": "https://localhost:8080/",
          "height": 289
        },
        "outputId": "f12805ec-3e63-4eb2-ec32-254b53c571a8"
      },
      "source": [
        "df_news.head()"
      ],
      "execution_count": 9,
      "outputs": [
        {
          "output_type": "execute_result",
          "data": {
            "text/html": [
              "<div>\n",
              "<style scoped>\n",
              "    .dataframe tbody tr th:only-of-type {\n",
              "        vertical-align: middle;\n",
              "    }\n",
              "\n",
              "    .dataframe tbody tr th {\n",
              "        vertical-align: top;\n",
              "    }\n",
              "\n",
              "    .dataframe thead th {\n",
              "        text-align: right;\n",
              "    }\n",
              "</style>\n",
              "<table border=\"1\" class=\"dataframe\">\n",
              "  <thead>\n",
              "    <tr style=\"text-align: right;\">\n",
              "      <th></th>\n",
              "      <th>date</th>\n",
              "      <th>media</th>\n",
              "      <th>title</th>\n",
              "      <th>content</th>\n",
              "      <th>ngrams</th>\n",
              "    </tr>\n",
              "  </thead>\n",
              "  <tbody>\n",
              "    <tr>\n",
              "      <th>0</th>\n",
              "      <td>2005-01-01</td>\n",
              "      <td>연합인포맥스</td>\n",
              "      <td>내년 美국채수익률 5% 넘어서기 어려울 듯</td>\n",
              "      <td>2005년 10년만기 미국 국채수익률이  연방준비제도이사회(FRB)의 금리인상 지속...</td>\n",
              "      <td>만기/NNG,국채/NNG,수익률/NNG,fed/NNG,fed/NNG,금리/NNG,인...</td>\n",
              "    </tr>\n",
              "    <tr>\n",
              "      <th>1</th>\n",
              "      <td>2005-01-01</td>\n",
              "      <td>연합인포맥스</td>\n",
              "      <td>[뉴욕채권-마감] 10년만기 국채수익률 작년보다 낮은 수준서 마쳐</td>\n",
              "      <td>2년만기 국채가격 4년래 최악의 한해 보내     10년만기 미국  국채수익률이  ...</td>\n",
              "      <td>만기/NNG,국채/NNG,가격/NNG,최악/NNG,보내/VV,만기/NNG,국채/NN...</td>\n",
              "    </tr>\n",
              "    <tr>\n",
              "      <th>2</th>\n",
              "      <td>2005-01-01</td>\n",
              "      <td>연합인포맥스</td>\n",
              "      <td>[뉴욕환시] `내년초 달러-엔에 주력'..달러 對엔 하락</td>\n",
              "      <td>2004년 마지막 거래일인 31일  뉴욕환시에서 미국 달러화는 개장초 102엔 근처...</td>\n",
              "      <td>마지막/NNG,거래일/NNG,뉴욕/NNG,환시/NNG,달러/NNG,개장/NNG,근처...</td>\n",
              "    </tr>\n",
              "    <tr>\n",
              "      <th>3</th>\n",
              "      <td>2005-01-01</td>\n",
              "      <td>연합인포맥스</td>\n",
              "      <td>[31일 뉴욕금융시장 요약] 한산한 거래속 새해 준비</td>\n",
              "      <td>) 한해 마지막 날인 31일 뉴욕 주요 금융시장은 한산한 거래속에 새해를 준비하는 ...</td>\n",
              "      <td>마지막/NNG,뉴욕/NNG,금융시장/NNG,한산/NNG,거래/NNG,새해/NNG,준...</td>\n",
              "    </tr>\n",
              "    <tr>\n",
              "      <th>4</th>\n",
              "      <td>2005-01-02</td>\n",
              "      <td>연합인포맥스</td>\n",
              "      <td>美 증시 기술주 주도로 2년 연속 상승..'01년래 최고</td>\n",
              "      <td>지난해 뉴욕증시는 기술주 주도로 2년  연속연초 대비 상승하면서 대표지수들을 지난 ...</td>\n",
              "      <td>주도/NNG,연속/NNG,대비/NNG,상승/NNG,대표지수/NNG,최고/NNG,오르...</td>\n",
              "    </tr>\n",
              "  </tbody>\n",
              "</table>\n",
              "</div>"
            ],
            "text/plain": [
              "         date  ...                                             ngrams\n",
              "0  2005-01-01  ...  만기/NNG,국채/NNG,수익률/NNG,fed/NNG,fed/NNG,금리/NNG,인...\n",
              "1  2005-01-01  ...  만기/NNG,국채/NNG,가격/NNG,최악/NNG,보내/VV,만기/NNG,국채/NN...\n",
              "2  2005-01-01  ...  마지막/NNG,거래일/NNG,뉴욕/NNG,환시/NNG,달러/NNG,개장/NNG,근처...\n",
              "3  2005-01-01  ...  마지막/NNG,뉴욕/NNG,금융시장/NNG,한산/NNG,거래/NNG,새해/NNG,준...\n",
              "4  2005-01-02  ...  주도/NNG,연속/NNG,대비/NNG,상승/NNG,대표지수/NNG,최고/NNG,오르...\n",
              "\n",
              "[5 rows x 5 columns]"
            ]
          },
          "metadata": {
            "tags": []
          },
          "execution_count": 9
        }
      ]
    },
    {
      "cell_type": "markdown",
      "metadata": {
        "id": "vkjSIrMjjHX8",
        "colab_type": "text"
      },
      "source": [
        "##word2vec (skip-gram) 학습"
      ]
    },
    {
      "cell_type": "code",
      "metadata": {
        "id": "fLdbuNfKaaY8",
        "colab_type": "code",
        "colab": {}
      },
      "source": [
        "df_news['tokens_ngram'] = df_news['ngrams'].apply(lambda x : ' '.join([w.split('/')[0] for w in x.split(',')]))"
      ],
      "execution_count": 11,
      "outputs": []
    },
    {
      "cell_type": "code",
      "metadata": {
        "id": "7AvhfURulBoh",
        "colab_type": "code",
        "colab": {}
      },
      "source": [
        "token_list = [tokens.split() for tokens in df_news['tokens_ngram'].tolist()]"
      ],
      "execution_count": 12,
      "outputs": []
    },
    {
      "cell_type": "code",
      "metadata": {
        "id": "U4ESFTQzbFY6",
        "colab_type": "code",
        "colab": {
          "base_uri": "https://localhost:8080/",
          "height": 1000
        },
        "outputId": "7db75fd0-1715-4739-f7c7-1e49c29bd575"
      },
      "source": [
        "token_list[0]"
      ],
      "execution_count": 13,
      "outputs": [
        {
          "output_type": "execute_result",
          "data": {
            "text/plain": [
              "['만기',\n",
              " '국채',\n",
              " '수익률',\n",
              " 'fed',\n",
              " 'fed',\n",
              " '금리',\n",
              " '인상',\n",
              " '지속',\n",
              " '따르',\n",
              " '인플레이션',\n",
              " '압력',\n",
              " '완화',\n",
              " '어렵',\n",
              " '전망',\n",
              " '인플레이션',\n",
              " '제어',\n",
              " '반면',\n",
              " '만기',\n",
              " '국채',\n",
              " '수익률',\n",
              " 'fed',\n",
              " '지속',\n",
              " '금리',\n",
              " '인상',\n",
              " '수준',\n",
              " '상승',\n",
              " '예측',\n",
              " '단기',\n",
              " '국채',\n",
              " '수익률',\n",
              " '상승',\n",
              " '나타나',\n",
              " '반면',\n",
              " '장기',\n",
              " '국채',\n",
              " '수익률',\n",
              " '상승',\n",
              " '제한',\n",
              " '일드커브',\n",
              " '플래트닝',\n",
              " '가속',\n",
              " '덧붙이',\n",
              " '고용창출',\n",
              " '호조',\n",
              " '수입',\n",
              " '증가',\n",
              " '견인',\n",
              " '고용시장',\n",
              " '호전',\n",
              " '소비자',\n",
              " '지출',\n",
              " '떠받치',\n",
              " '단기',\n",
              " '국채',\n",
              " '일드커브',\n",
              " '인플레이션',\n",
              " 'fed',\n",
              " '고용창출',\n",
              " '고용시장',\n",
              " '수입',\n",
              " '완화']"
            ]
          },
          "metadata": {
            "tags": []
          },
          "execution_count": 13
        }
      ]
    },
    {
      "cell_type": "code",
      "metadata": {
        "id": "NrPUavCddYLH",
        "colab_type": "code",
        "colab": {}
      },
      "source": [
        "from gensim.models import Word2Vec\n",
        "\n",
        "word2vec = Word2Vec(\n",
        "    sentences = token_list,\n",
        "    size = 10,\n",
        "    alpha = 0.025,\n",
        "    min_count = 2,\n",
        "    window=8,\n",
        "    sample = 0.001,\n",
        "    sg = 1,\n",
        "    iter = 10\n",
        ")"
      ],
      "execution_count": null,
      "outputs": []
    },
    {
      "cell_type": "markdown",
      "metadata": {
        "id": "pI6d1hvAjMel",
        "colab_type": "text"
      },
      "source": [
        "###단어의 vector 확인"
      ]
    },
    {
      "cell_type": "code",
      "metadata": {
        "id": "tuja9UTUlCVL",
        "colab_type": "code",
        "colab": {}
      },
      "source": [
        "word_embedding = word2vec.wv.__getitem__('금리')\n",
        "print(word_embedding)"
      ],
      "execution_count": null,
      "outputs": []
    },
    {
      "cell_type": "markdown",
      "metadata": {
        "id": "pjP8shBljQ0l",
        "colab_type": "text"
      },
      "source": [
        "###단어의 유사도 확인"
      ]
    },
    {
      "cell_type": "code",
      "metadata": {
        "id": "v-qj7CHGlC_n",
        "colab_type": "code",
        "colab": {}
      },
      "source": [
        "world_similar = word2vec.wv.most_similar('금리')\n",
        "print(world_similar)"
      ],
      "execution_count": null,
      "outputs": []
    },
    {
      "cell_type": "markdown",
      "metadata": {
        "id": "bHID1crnkAMN",
        "colab_type": "text"
      },
      "source": [
        "##FastText"
      ]
    },
    {
      "cell_type": "code",
      "metadata": {
        "id": "Oacx0BHRlDYU",
        "colab_type": "code",
        "colab": {
          "base_uri": "https://localhost:8080/",
          "height": 343
        },
        "outputId": "9894716a-de00-4deb-8f9d-fececdd2fd7b"
      },
      "source": [
        "!pip install gensim"
      ],
      "execution_count": 10,
      "outputs": [
        {
          "output_type": "stream",
          "text": [
            "Requirement already satisfied: gensim in /usr/local/lib/python3.6/dist-packages (3.6.0)\n",
            "Requirement already satisfied: scipy>=0.18.1 in /usr/local/lib/python3.6/dist-packages (from gensim) (1.4.1)\n",
            "Requirement already satisfied: smart-open>=1.2.1 in /usr/local/lib/python3.6/dist-packages (from gensim) (2.1.0)\n",
            "Requirement already satisfied: six>=1.5.0 in /usr/local/lib/python3.6/dist-packages (from gensim) (1.15.0)\n",
            "Requirement already satisfied: numpy>=1.11.3 in /usr/local/lib/python3.6/dist-packages (from gensim) (1.18.5)\n",
            "Requirement already satisfied: requests in /usr/local/lib/python3.6/dist-packages (from smart-open>=1.2.1->gensim) (2.23.0)\n",
            "Requirement already satisfied: boto3 in /usr/local/lib/python3.6/dist-packages (from smart-open>=1.2.1->gensim) (1.14.33)\n",
            "Requirement already satisfied: boto in /usr/local/lib/python3.6/dist-packages (from smart-open>=1.2.1->gensim) (2.49.0)\n",
            "Requirement already satisfied: certifi>=2017.4.17 in /usr/local/lib/python3.6/dist-packages (from requests->smart-open>=1.2.1->gensim) (2020.6.20)\n",
            "Requirement already satisfied: chardet<4,>=3.0.2 in /usr/local/lib/python3.6/dist-packages (from requests->smart-open>=1.2.1->gensim) (3.0.4)\n",
            "Requirement already satisfied: urllib3!=1.25.0,!=1.25.1,<1.26,>=1.21.1 in /usr/local/lib/python3.6/dist-packages (from requests->smart-open>=1.2.1->gensim) (1.24.3)\n",
            "Requirement already satisfied: idna<3,>=2.5 in /usr/local/lib/python3.6/dist-packages (from requests->smart-open>=1.2.1->gensim) (2.10)\n",
            "Requirement already satisfied: s3transfer<0.4.0,>=0.3.0 in /usr/local/lib/python3.6/dist-packages (from boto3->smart-open>=1.2.1->gensim) (0.3.3)\n",
            "Requirement already satisfied: jmespath<1.0.0,>=0.7.1 in /usr/local/lib/python3.6/dist-packages (from boto3->smart-open>=1.2.1->gensim) (0.10.0)\n",
            "Requirement already satisfied: botocore<1.18.0,>=1.17.33 in /usr/local/lib/python3.6/dist-packages (from boto3->smart-open>=1.2.1->gensim) (1.17.33)\n",
            "Requirement already satisfied: docutils<0.16,>=0.10 in /usr/local/lib/python3.6/dist-packages (from botocore<1.18.0,>=1.17.33->boto3->smart-open>=1.2.1->gensim) (0.15.2)\n",
            "Requirement already satisfied: python-dateutil<3.0.0,>=2.1 in /usr/local/lib/python3.6/dist-packages (from botocore<1.18.0,>=1.17.33->boto3->smart-open>=1.2.1->gensim) (2.8.1)\n"
          ],
          "name": "stdout"
        }
      ]
    },
    {
      "cell_type": "code",
      "metadata": {
        "id": "jxapBjxBawit",
        "colab_type": "code",
        "colab": {}
      },
      "source": [
        "from gensim.models import FastText\n",
        "\n",
        "model = FastText(token_list,\n",
        "                 size = 10,\n",
        "                 window = 8,\n",
        "                 min_count = 2,\n",
        "                 alpha = 0.025,\n",
        "                 sg = 1,\n",
        "                 iter = 10,\n",
        "                 min_n = 3,\n",
        "                 max_n = 6)"
      ],
      "execution_count": 16,
      "outputs": []
    },
    {
      "cell_type": "code",
      "metadata": {
        "id": "SUMVMIRGdxjN",
        "colab_type": "code",
        "colab": {}
      },
      "source": [
        "world_similar = model.wv.most_similar('금리')\n",
        "print(world_similar)"
      ],
      "execution_count": null,
      "outputs": []
    },
    {
      "cell_type": "code",
      "metadata": {
        "id": "pDUvOqPLcYMD",
        "colab_type": "code",
        "colab": {
          "base_uri": "https://localhost:8080/",
          "height": 125
        },
        "outputId": "09aea469-57ab-489b-e305-582a45c70625"
      },
      "source": [
        "from gensim.models import Word2Vec\n",
        "\n",
        "sentences = [['I', 'bow', 'my', 'head'], ['I', 'shoot', 'a', 'bow']]\n",
        "\n",
        "model = Word2Vec(sentences,\n",
        "                 size = 1,\n",
        "                 window = 1,\n",
        "                 min_count = 1)\n",
        "\n",
        "word_vectors = model.wv\n",
        "vocabs = word_vectors.vocab.keys()\n",
        "\n",
        "for v in vocabs:\n",
        "  print(v, '의 벡터 값', word_vectors[v])"
      ],
      "execution_count": 15,
      "outputs": [
        {
          "output_type": "stream",
          "text": [
            "I 의 벡터 값 [0.21237089]\n",
            "bow 의 벡터 값 [0.4908775]\n",
            "my 의 벡터 값 [0.46981984]\n",
            "head 의 벡터 값 [-0.15780082]\n",
            "shoot 의 벡터 값 [-0.48242524]\n",
            "a 의 벡터 값 [-0.4732648]\n"
          ],
          "name": "stdout"
        }
      ]
    }
  ]
}